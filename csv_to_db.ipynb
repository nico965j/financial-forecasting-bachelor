{
 "cells": [
  {
   "cell_type": "code",
   "execution_count": 3,
   "metadata": {},
   "outputs": [],
   "source": [
    "import csv\n",
    "\n",
    "with open('SP500_stock_dataset_PEandMarketCap.csv', newline='') as csvfile:\n",
    "    csv_reader = csv.reader(csvfile)\n",
    "    data = [row for row in csv_reader]\n"
   ]
  },
  {
   "cell_type": "code",
   "execution_count": 5,
   "metadata": {},
   "outputs": [
    {
     "data": {
      "text/plain": [
       "<sqlite3.Cursor at 0x160ae4330c0>"
      ]
     },
     "execution_count": 5,
     "metadata": {},
     "output_type": "execute_result"
    }
   ],
   "source": [
    "import sqlite3\n",
    "\n",
    "conn = sqlite3.connect('stock.db')\n",
    "# Create a new table in the database\n",
    "table_schema = \"\"\"CREATE TABLE stocks (\n",
    "                    date TEXT,\n",
    "                    ticker TEXT,\n",
    "                    open REAL,\n",
    "                    low REAL,\n",
    "                    high REAL,\n",
    "                    close REAL,\n",
    "                    volume INTEGER,\n",
    "                    sector TEXT,\n",
    "                    pe_ratio REAL\n",
    "                )\"\"\"\n",
    "conn.execute(table_schema)\n"
   ]
  },
  {
   "cell_type": "code",
   "execution_count": 11,
   "metadata": {},
   "outputs": [],
   "source": [
    "import csv\n",
    "import sqlite3\n",
    "\n",
    "# Open a connection to the database\n",
    "conn = sqlite3.connect('stock.db')\n",
    "\n",
    "# Create a cursor object\n",
    "cur = conn.cursor()\n",
    "\n",
    "# Iterate over the rows in the CSV file and insert them into the database\n",
    "with open('SP500_stock_dataset_PEandMarketCap.csv', newline='') as csvfile:\n",
    "    csv_reader = csv.reader(csvfile)\n",
    "    next(csv_reader)  # skip the header row\n",
    "    for row in csv_reader:\n",
    "        cur.execute('INSERT INTO stocks (date, ticker, open, low, high, close, volume, sector, pe_ratio) VALUES (?, ?, ?, ?, ?, ?, ?, ?, ?)', row)\n",
    "\n",
    "# Commit the changes and close the connection\n",
    "conn.commit()\n",
    "conn.close()\n",
    "\n",
    "\n"
   ]
  }
 ],
 "metadata": {
  "kernelspec": {
   "display_name": "Python 3",
   "language": "python",
   "name": "python3"
  },
  "language_info": {
   "codemirror_mode": {
    "name": "ipython",
    "version": 3
   },
   "file_extension": ".py",
   "mimetype": "text/x-python",
   "name": "python",
   "nbconvert_exporter": "python",
   "pygments_lexer": "ipython3",
   "version": "3.10.11"
  },
  "orig_nbformat": 4
 },
 "nbformat": 4,
 "nbformat_minor": 2
}
