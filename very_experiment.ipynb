{
 "cells": [
  {
   "cell_type": "code",
   "execution_count": 181,
   "metadata": {},
   "outputs": [
    {
     "data": {
      "text/html": [
       "<div>\n",
       "<style scoped>\n",
       "    .dataframe tbody tr th:only-of-type {\n",
       "        vertical-align: middle;\n",
       "    }\n",
       "\n",
       "    .dataframe tbody tr th {\n",
       "        vertical-align: top;\n",
       "    }\n",
       "\n",
       "    .dataframe thead th {\n",
       "        text-align: right;\n",
       "    }\n",
       "</style>\n",
       "<table border=\"1\" class=\"dataframe\">\n",
       "  <thead>\n",
       "    <tr style=\"text-align: right;\">\n",
       "      <th></th>\n",
       "      <th>Date</th>\n",
       "      <th>Ticker</th>\n",
       "      <th>Open</th>\n",
       "      <th>Low</th>\n",
       "      <th>High</th>\n",
       "      <th>Close</th>\n",
       "      <th>Volume</th>\n",
       "      <th>Sector</th>\n",
       "    </tr>\n",
       "  </thead>\n",
       "  <tbody>\n",
       "    <tr>\n",
       "      <th>0</th>\n",
       "      <td>2016-01-04</td>\n",
       "      <td>MMM</td>\n",
       "      <td>148.050003</td>\n",
       "      <td>145.399994</td>\n",
       "      <td>148.320007</td>\n",
       "      <td>146.820007</td>\n",
       "      <td>3277200</td>\n",
       "      <td>Industrials</td>\n",
       "    </tr>\n",
       "    <tr>\n",
       "      <th>1</th>\n",
       "      <td>2016-01-05</td>\n",
       "      <td>MMM</td>\n",
       "      <td>146.820007</td>\n",
       "      <td>145.610001</td>\n",
       "      <td>147.500000</td>\n",
       "      <td>147.460007</td>\n",
       "      <td>2688100</td>\n",
       "      <td>Industrials</td>\n",
       "    </tr>\n",
       "    <tr>\n",
       "      <th>2</th>\n",
       "      <td>2016-01-06</td>\n",
       "      <td>MMM</td>\n",
       "      <td>145.589996</td>\n",
       "      <td>143.419998</td>\n",
       "      <td>145.759995</td>\n",
       "      <td>144.490005</td>\n",
       "      <td>2997100</td>\n",
       "      <td>Industrials</td>\n",
       "    </tr>\n",
       "    <tr>\n",
       "      <th>3</th>\n",
       "      <td>2016-01-07</td>\n",
       "      <td>MMM</td>\n",
       "      <td>142.520004</td>\n",
       "      <td>140.630005</td>\n",
       "      <td>143.130005</td>\n",
       "      <td>140.970001</td>\n",
       "      <td>3553500</td>\n",
       "      <td>Industrials</td>\n",
       "    </tr>\n",
       "    <tr>\n",
       "      <th>4</th>\n",
       "      <td>2016-01-08</td>\n",
       "      <td>MMM</td>\n",
       "      <td>141.360001</td>\n",
       "      <td>140.220001</td>\n",
       "      <td>142.500000</td>\n",
       "      <td>140.490005</td>\n",
       "      <td>2664000</td>\n",
       "      <td>Industrials</td>\n",
       "    </tr>\n",
       "  </tbody>\n",
       "</table>\n",
       "</div>"
      ],
      "text/plain": [
       "         Date Ticker        Open         Low        High       Close   Volume  \\\n",
       "0  2016-01-04    MMM  148.050003  145.399994  148.320007  146.820007  3277200   \n",
       "1  2016-01-05    MMM  146.820007  145.610001  147.500000  147.460007  2688100   \n",
       "2  2016-01-06    MMM  145.589996  143.419998  145.759995  144.490005  2997100   \n",
       "3  2016-01-07    MMM  142.520004  140.630005  143.130005  140.970001  3553500   \n",
       "4  2016-01-08    MMM  141.360001  140.220001  142.500000  140.490005  2664000   \n",
       "\n",
       "        Sector  \n",
       "0  Industrials  \n",
       "1  Industrials  \n",
       "2  Industrials  \n",
       "3  Industrials  \n",
       "4  Industrials  "
      ]
     },
     "execution_count": 181,
     "metadata": {},
     "output_type": "execute_result"
    }
   ],
   "source": [
    "# Implementing Support Vector machines model on dataset for stock price prediction\n",
    "# Importing the libraries\n",
    "import numpy as np\n",
    "import matplotlib.pyplot as plt\n",
    "import pandas as pd\n",
    "import datetime\n",
    "import yfinance as yf\n",
    "import requests\n",
    "from sklearn.model_selection import train_test_split\n",
    "from sklearn.preprocessing import StandardScaler\n",
    "from sklearn.svm import SVC\n",
    "from sklearn.metrics import accuracy_score\n",
    "\n",
    "# Importing the dataset\n",
    "initial_df = pd.read_csv('SP500_stock_prices.csv', delimiter=',')\n",
    "#initial_df = pd.read_csv('SP500_stock_prices.csv', delimiter=',')\n",
    "\n",
    "# # Create a new column 'Price Movement'\n",
    "# df['Daily Price Movement'] = np.where(df['Close'] > df['Close'].shift(1), 1, 0)\n",
    "\n",
    "initial_df.head()"
   ]
  },
  {
   "cell_type": "code",
   "execution_count": 182,
   "metadata": {},
   "outputs": [],
   "source": [
    "# Make date column the index\n",
    "initial_df = initial_df.set_index('Date')"
   ]
  },
  {
   "cell_type": "code",
   "execution_count": 183,
   "metadata": {},
   "outputs": [],
   "source": [
    "# only display year, month and day in index\n",
    "initial_df.index = pd.to_datetime(initial_df.index).date\n",
    "data = initial_df\n",
    "data\n",
    "# make return column\n",
    "data['Return'] = data['Close'].pct_change()"
   ]
  },
  {
   "cell_type": "code",
   "execution_count": 156,
   "metadata": {},
   "outputs": [
    {
     "name": "stdout",
     "output_type": "stream",
     "text": [
      "['Industrials' 'Health Care' 'Information Technology'\n",
      " 'Communication Services' 'Consumer Staples' 'Consumer Discretionary'\n",
      " 'Utilities' 'Financials' 'Materials' 'Real Estate' 'Energy']\n"
     ]
    }
   ],
   "source": [
    "print(data['Sector'].unique())\n",
    "# assign each different Sector string its own number\n",
    "data['Sector'] = data['Sector'].map({'Consumer Discretionary': 0, 'Consumer Staples': 1, 'Energy': 2, 'Financials': 3, 'Health Care': 4, 'Industrials': 5, 'Information Technology': 6, 'Materials': 7, 'Real Estate': 8, 'Communication Services': 9, 'Utilities': 10})"
   ]
  },
  {
   "cell_type": "code",
   "execution_count": 157,
   "metadata": {},
   "outputs": [],
   "source": [
    "# make a new column for whether or not the price has increased or decreased from the previous 62 days\n",
    "# 1 = increased, 0 = decreased, doing so by comparing openprice of today with openprice of 62 days ago\n",
    "data['62-day Price Movement'] = np.where(data['Open'] > data['Open'].shift(-63), 1, 0)"
   ]
  },
  {
   "cell_type": "code",
   "execution_count": 158,
   "metadata": {},
   "outputs": [],
   "source": [
    "# Make the tickers to categoricals, but keep the original order of the tickers\n",
    "data['Ticker'] = pd.Categorical(data['Ticker'], categories=data['Ticker'].unique(), ordered=True)\n",
    "data['Ticker'] = data['Ticker'].cat.codes\n",
    "# # make target column\n",
    "# data['Target'] = data['62-day Price Movement'].shift(-62)\n",
    "# #data['Price Movement 62 Days'] = data['Price Movement'].shift(62)\n",
    "# data.dropna(inplace=True)\n",
    "# data"
   ]
  },
  {
   "cell_type": "code",
   "execution_count": 159,
   "metadata": {},
   "outputs": [
    {
     "data": {
      "text/html": [
       "<div>\n",
       "<style scoped>\n",
       "    .dataframe tbody tr th:only-of-type {\n",
       "        vertical-align: middle;\n",
       "    }\n",
       "\n",
       "    .dataframe tbody tr th {\n",
       "        vertical-align: top;\n",
       "    }\n",
       "\n",
       "    .dataframe thead th {\n",
       "        text-align: right;\n",
       "    }\n",
       "</style>\n",
       "<table border=\"1\" class=\"dataframe\">\n",
       "  <thead>\n",
       "    <tr style=\"text-align: right;\">\n",
       "      <th></th>\n",
       "      <th>Ticker</th>\n",
       "      <th>Open</th>\n",
       "      <th>Low</th>\n",
       "      <th>High</th>\n",
       "      <th>Close</th>\n",
       "      <th>Volume</th>\n",
       "      <th>Sector</th>\n",
       "      <th>Return</th>\n",
       "      <th>62-day Price Movement</th>\n",
       "      <th>Target</th>\n",
       "    </tr>\n",
       "  </thead>\n",
       "  <tbody>\n",
       "    <tr>\n",
       "      <th>2016-01-05</th>\n",
       "      <td>0</td>\n",
       "      <td>146.820007</td>\n",
       "      <td>145.610001</td>\n",
       "      <td>147.500000</td>\n",
       "      <td>147.460007</td>\n",
       "      <td>2688100</td>\n",
       "      <td>5</td>\n",
       "      <td>0.004359</td>\n",
       "      <td>0</td>\n",
       "      <td>0.0</td>\n",
       "    </tr>\n",
       "    <tr>\n",
       "      <th>2016-01-06</th>\n",
       "      <td>0</td>\n",
       "      <td>145.589996</td>\n",
       "      <td>143.419998</td>\n",
       "      <td>145.759995</td>\n",
       "      <td>144.490005</td>\n",
       "      <td>2997100</td>\n",
       "      <td>5</td>\n",
       "      <td>-0.020141</td>\n",
       "      <td>0</td>\n",
       "      <td>0.0</td>\n",
       "    </tr>\n",
       "    <tr>\n",
       "      <th>2016-01-07</th>\n",
       "      <td>0</td>\n",
       "      <td>142.520004</td>\n",
       "      <td>140.630005</td>\n",
       "      <td>143.130005</td>\n",
       "      <td>140.970001</td>\n",
       "      <td>3553500</td>\n",
       "      <td>5</td>\n",
       "      <td>-0.024362</td>\n",
       "      <td>0</td>\n",
       "      <td>0.0</td>\n",
       "    </tr>\n",
       "    <tr>\n",
       "      <th>2016-01-08</th>\n",
       "      <td>0</td>\n",
       "      <td>141.360001</td>\n",
       "      <td>140.220001</td>\n",
       "      <td>142.500000</td>\n",
       "      <td>140.490005</td>\n",
       "      <td>2664000</td>\n",
       "      <td>5</td>\n",
       "      <td>-0.003405</td>\n",
       "      <td>0</td>\n",
       "      <td>0.0</td>\n",
       "    </tr>\n",
       "    <tr>\n",
       "      <th>2016-01-11</th>\n",
       "      <td>0</td>\n",
       "      <td>140.970001</td>\n",
       "      <td>139.410004</td>\n",
       "      <td>141.429993</td>\n",
       "      <td>140.460007</td>\n",
       "      <td>2775500</td>\n",
       "      <td>5</td>\n",
       "      <td>-0.000214</td>\n",
       "      <td>0</td>\n",
       "      <td>0.0</td>\n",
       "    </tr>\n",
       "    <tr>\n",
       "      <th>...</th>\n",
       "      <td>...</td>\n",
       "      <td>...</td>\n",
       "      <td>...</td>\n",
       "      <td>...</td>\n",
       "      <td>...</td>\n",
       "      <td>...</td>\n",
       "      <td>...</td>\n",
       "      <td>...</td>\n",
       "      <td>...</td>\n",
       "      <td>...</td>\n",
       "    </tr>\n",
       "    <tr>\n",
       "      <th>2019-12-24</th>\n",
       "      <td>497</td>\n",
       "      <td>132.210007</td>\n",
       "      <td>131.289993</td>\n",
       "      <td>133.080002</td>\n",
       "      <td>132.919998</td>\n",
       "      <td>442500</td>\n",
       "      <td>4</td>\n",
       "      <td>0.004155</td>\n",
       "      <td>1</td>\n",
       "      <td>0.0</td>\n",
       "    </tr>\n",
       "    <tr>\n",
       "      <th>2019-12-26</th>\n",
       "      <td>497</td>\n",
       "      <td>133.190002</td>\n",
       "      <td>132.320007</td>\n",
       "      <td>133.190002</td>\n",
       "      <td>133.029999</td>\n",
       "      <td>929400</td>\n",
       "      <td>4</td>\n",
       "      <td>0.000828</td>\n",
       "      <td>1</td>\n",
       "      <td>0.0</td>\n",
       "    </tr>\n",
       "    <tr>\n",
       "      <th>2019-12-27</th>\n",
       "      <td>497</td>\n",
       "      <td>133.399994</td>\n",
       "      <td>132.380005</td>\n",
       "      <td>133.479996</td>\n",
       "      <td>133.250000</td>\n",
       "      <td>1296100</td>\n",
       "      <td>4</td>\n",
       "      <td>0.001654</td>\n",
       "      <td>1</td>\n",
       "      <td>0.0</td>\n",
       "    </tr>\n",
       "    <tr>\n",
       "      <th>2019-12-30</th>\n",
       "      <td>497</td>\n",
       "      <td>133.570007</td>\n",
       "      <td>131.809998</td>\n",
       "      <td>133.660004</td>\n",
       "      <td>132.210007</td>\n",
       "      <td>942000</td>\n",
       "      <td>4</td>\n",
       "      <td>-0.007805</td>\n",
       "      <td>1</td>\n",
       "      <td>0.0</td>\n",
       "    </tr>\n",
       "    <tr>\n",
       "      <th>2019-12-31</th>\n",
       "      <td>497</td>\n",
       "      <td>132.009995</td>\n",
       "      <td>131.449997</td>\n",
       "      <td>132.580002</td>\n",
       "      <td>132.350006</td>\n",
       "      <td>1128600</td>\n",
       "      <td>4</td>\n",
       "      <td>0.001059</td>\n",
       "      <td>1</td>\n",
       "      <td>0.0</td>\n",
       "    </tr>\n",
       "  </tbody>\n",
       "</table>\n",
       "<p>492722 rows × 10 columns</p>\n",
       "</div>"
      ],
      "text/plain": [
       "            Ticker        Open         Low        High       Close   Volume  \\\n",
       "2016-01-05       0  146.820007  145.610001  147.500000  147.460007  2688100   \n",
       "2016-01-06       0  145.589996  143.419998  145.759995  144.490005  2997100   \n",
       "2016-01-07       0  142.520004  140.630005  143.130005  140.970001  3553500   \n",
       "2016-01-08       0  141.360001  140.220001  142.500000  140.490005  2664000   \n",
       "2016-01-11       0  140.970001  139.410004  141.429993  140.460007  2775500   \n",
       "...            ...         ...         ...         ...         ...      ...   \n",
       "2019-12-24     497  132.210007  131.289993  133.080002  132.919998   442500   \n",
       "2019-12-26     497  133.190002  132.320007  133.190002  133.029999   929400   \n",
       "2019-12-27     497  133.399994  132.380005  133.479996  133.250000  1296100   \n",
       "2019-12-30     497  133.570007  131.809998  133.660004  132.210007   942000   \n",
       "2019-12-31     497  132.009995  131.449997  132.580002  132.350006  1128600   \n",
       "\n",
       "            Sector    Return  62-day Price Movement  Target  \n",
       "2016-01-05       5  0.004359                      0     0.0  \n",
       "2016-01-06       5 -0.020141                      0     0.0  \n",
       "2016-01-07       5 -0.024362                      0     0.0  \n",
       "2016-01-08       5 -0.003405                      0     0.0  \n",
       "2016-01-11       5 -0.000214                      0     0.0  \n",
       "...            ...       ...                    ...     ...  \n",
       "2019-12-24       4  0.004155                      1     0.0  \n",
       "2019-12-26       4  0.000828                      1     0.0  \n",
       "2019-12-27       4  0.001654                      1     0.0  \n",
       "2019-12-30       4 -0.007805                      1     0.0  \n",
       "2019-12-31       4  0.001059                      1     0.0  \n",
       "\n",
       "[492722 rows x 10 columns]"
      ]
     },
     "execution_count": 159,
     "metadata": {},
     "output_type": "execute_result"
    }
   ],
   "source": [
    "# select only the ticker index\n",
    "indiviual_datas = []\n",
    "\n",
    "for ticker in data['Ticker'].unique():\n",
    "    #data_ticker = data.xs(0, level=1).copy()\n",
    "    data_ticker = data[data['Ticker'] == ticker].copy()\n",
    "    # make target column\n",
    "    data_ticker['Target'] = data_ticker['62-day Price Movement'].shift(-63)\n",
    "    #data['Price Movement 62 Days'] = data['Price Movement'].shift(62)\n",
    "    data_ticker.dropna(inplace=True)\n",
    "    data_ticker\n",
    "\n",
    "    indiviual_datas.append(data_ticker)\n",
    "\n",
    "data_all_tickers = pd.concat(indiviual_datas)\n",
    "\n",
    "data_all_tickers"
   ]
  },
  {
   "cell_type": "code",
   "execution_count": 477,
   "metadata": {},
   "outputs": [],
   "source": [
    "# check PE-Ratio for inf values\n",
    "# find Tickers with inf values for PE-Ratio\n",
    "data_all_tickers[data_all_tickers['PE-Ratio'] == np.inf]['Ticker'].unique()\n",
    "# removing all rows with the tickers that have infinity values in their PE-Ratios\n",
    "for wrong_ticker in data_all_tickers[data_all_tickers['PE-Ratio'] == np.inf]['Ticker'].unique():\n",
    "    data_all_tickers = data_all_tickers[data_all_tickers['Ticker'] != wrong_ticker]"
   ]
  },
  {
   "cell_type": "code",
   "execution_count": 161,
   "metadata": {},
   "outputs": [
    {
     "name": "stderr",
     "output_type": "stream",
     "text": [
      "C:\\Users\\nicol\\AppData\\Local\\Packages\\PythonSoftwareFoundation.Python.3.10_qbz5n2kfra8p0\\LocalCache\\local-packages\\Python310\\site-packages\\pandas\\core\\ops\\array_ops.py:73: FutureWarning: Comparison of Timestamp with datetime.date is deprecated in order to match the standard library behavior.  In a future version these will be considered non-comparable.Use 'ts == pd.Timestamp(date)' or 'ts.date() == date' instead.\n",
      "  result = libops.scalar_compare(x.ravel(), y, op)\n"
     ]
    }
   ],
   "source": [
    "# Splitting the dataset into the Training set and Test set according to date\n",
    "# Define the specific date to split the DataFrame\n",
    "# Create an offset of 62 Business days\n",
    "#bd = pd.tseries.offsets.BusinessDay(n = 62)\n",
    "#split_date = pd.to_datetime('2019-09-30') - bd\n",
    "\n",
    "# set a start date for the training set to be 62 days after the first date in the dataset\n",
    "#start_date = pd.to_datetime('2016-01-04') + bd\n",
    "\n",
    "# small test dataset creation:\n",
    "\n",
    "bd = pd.tseries.offsets.BusinessDay(n = 63)\n",
    "split_date = pd.to_datetime('2019-11-30') - bd\n",
    "start_date = pd.to_datetime('2018-09-30') + bd\n",
    "\n",
    "\n",
    "# Split the DataFrame into training and test sets based on the specific date\n",
    "# for train we want all the data from the start date to the split date, this ensures that we have 62 days of data for each stock\n",
    "# for test we want all the data from the split date to the end of the dataset\n",
    "train = data_all_tickers.loc[(start_date < data_all_tickers.index) & (data_all_tickers.index < split_date)]\n",
    "test = data_all_tickers.loc[data_all_tickers.index >= split_date]\n",
    "\n",
    "X_train = train[['Ticker','Open', 'Low', 'High', 'Volume', 'Sector']]\n",
    "y_train = train['Target']\n",
    "X_test = test[['Ticker', 'Open', 'Low', 'High', 'Volume', 'Sector']]\n",
    "y_test = test['Target']\n"
   ]
  },
  {
   "cell_type": "code",
   "execution_count": 162,
   "metadata": {},
   "outputs": [
    {
     "name": "stdout",
     "output_type": "stream",
     "text": [
      "Ticker                   0\n",
      "Open                     0\n",
      "Low                      0\n",
      "High                     0\n",
      "Close                    0\n",
      "Volume                   0\n",
      "Sector                   0\n",
      "Return                   0\n",
      "62-day Price Movement    0\n",
      "Target                   0\n",
      "dtype: int64\n"
     ]
    }
   ],
   "source": [
    "# print any nan values in the test set\n",
    "print(test.isnull().sum())"
   ]
  },
  {
   "cell_type": "code",
   "execution_count": 163,
   "metadata": {},
   "outputs": [
    {
     "name": "stdout",
     "output_type": "stream",
     "text": [
      "Accuracy: 0.3000631558492033\n"
     ]
    }
   ],
   "source": [
    "import pandas as pd\n",
    "from sklearn.model_selection import train_test_split\n",
    "from sklearn.preprocessing import StandardScaler\n",
    "from sklearn.svm import SVC\n",
    "\n",
    "# Standardize the input features\n",
    "scaler = StandardScaler()\n",
    "X_train = scaler.fit_transform(X_train)\n",
    "X_test = scaler.transform(X_test)\n",
    "\n",
    "# Train the SVM model\n",
    "model = SVC(kernel='rbf', probability=True) # linear, rbf, poly, sigmoid\n",
    "model.fit(X_train, y_train)\n",
    "\n",
    "# Make a prediction using the trained SVM model\n",
    "y_pred = model.predict(X_test)\n",
    "accuracy = accuracy_score(y_test, y_pred)\n",
    "print(f\"Accuracy: {accuracy}\")\n"
   ]
  },
  {
   "cell_type": "code",
   "execution_count": 29,
   "metadata": {},
   "outputs": [],
   "source": [
    "# save model to file\n",
    "# import pickle\n",
    "# pickle.dump(model, open('svm_modelwithoutPE.sav', 'wb'))"
   ]
  },
  {
   "cell_type": "code",
   "execution_count": 164,
   "metadata": {},
   "outputs": [],
   "source": [
    "y_pred_proba = model.predict_proba(X_test)"
   ]
  },
  {
   "cell_type": "code",
   "execution_count": 173,
   "metadata": {},
   "outputs": [
    {
     "data": {
      "text/html": [
       "<div>\n",
       "<style scoped>\n",
       "    .dataframe tbody tr th:only-of-type {\n",
       "        vertical-align: middle;\n",
       "    }\n",
       "\n",
       "    .dataframe tbody tr th {\n",
       "        vertical-align: top;\n",
       "    }\n",
       "\n",
       "    .dataframe thead th {\n",
       "        text-align: right;\n",
       "    }\n",
       "</style>\n",
       "<table border=\"1\" class=\"dataframe\">\n",
       "  <thead>\n",
       "    <tr style=\"text-align: right;\">\n",
       "      <th></th>\n",
       "      <th>Ticker</th>\n",
       "    </tr>\n",
       "  </thead>\n",
       "  <tbody>\n",
       "    <tr>\n",
       "      <th>0</th>\n",
       "      <td>MMM</td>\n",
       "    </tr>\n",
       "    <tr>\n",
       "      <th>1</th>\n",
       "      <td>AOS</td>\n",
       "    </tr>\n",
       "    <tr>\n",
       "      <th>2</th>\n",
       "      <td>ABT</td>\n",
       "    </tr>\n",
       "    <tr>\n",
       "      <th>3</th>\n",
       "      <td>ABBV</td>\n",
       "    </tr>\n",
       "    <tr>\n",
       "      <th>4</th>\n",
       "      <td>ACN</td>\n",
       "    </tr>\n",
       "    <tr>\n",
       "      <th>...</th>\n",
       "      <td>...</td>\n",
       "    </tr>\n",
       "    <tr>\n",
       "      <th>493</th>\n",
       "      <td>YUM</td>\n",
       "    </tr>\n",
       "    <tr>\n",
       "      <th>494</th>\n",
       "      <td>ZBRA</td>\n",
       "    </tr>\n",
       "    <tr>\n",
       "      <th>495</th>\n",
       "      <td>ZBH</td>\n",
       "    </tr>\n",
       "    <tr>\n",
       "      <th>496</th>\n",
       "      <td>ZION</td>\n",
       "    </tr>\n",
       "    <tr>\n",
       "      <th>497</th>\n",
       "      <td>ZTS</td>\n",
       "    </tr>\n",
       "  </tbody>\n",
       "</table>\n",
       "<p>498 rows × 1 columns</p>\n",
       "</div>"
      ],
      "text/plain": [
       "    Ticker\n",
       "0      MMM\n",
       "1      AOS\n",
       "2      ABT\n",
       "3     ABBV\n",
       "4      ACN\n",
       "..     ...\n",
       "493    YUM\n",
       "494   ZBRA\n",
       "495    ZBH\n",
       "496   ZION\n",
       "497    ZTS\n",
       "\n",
       "[498 rows x 1 columns]"
      ]
     },
     "execution_count": 173,
     "metadata": {},
     "output_type": "execute_result"
    }
   ],
   "source": [
    "# only keep the relevant dates for the test set\n",
    "ticker_name_df = pd.read_csv('SP500_stock_prices.csv', delimiter=',')\n",
    "# Make date column the index\n",
    "ticker_name_df = ticker_name_df.set_index('Date')\n",
    "# only display year, month and day in index\n",
    "ticker_name_df.index = pd.to_datetime(ticker_name_df.index).date\n",
    "# only keep the Ticker\n",
    "ticker_name_df = ticker_name_df[['Ticker']]\n",
    "# drop duplicates\n",
    "ticker_name_df = ticker_name_df.drop_duplicates()\n",
    "# remove the index\n",
    "ticker_name_df = ticker_name_df.reset_index(drop=True)\n",
    "ticker_name_df"
   ]
  },
  {
   "cell_type": "code",
   "execution_count": 174,
   "metadata": {},
   "outputs": [
    {
     "data": {
      "text/plain": [
       "498"
      ]
     },
     "execution_count": 174,
     "metadata": {},
     "output_type": "execute_result"
    }
   ],
   "source": [
    "# number of unique tickers in ticker_name_df\n",
    "len(ticker_name_df['Ticker'].unique())"
   ]
  },
  {
   "cell_type": "code",
   "execution_count": 169,
   "metadata": {},
   "outputs": [],
   "source": [
    "url = \"https://en.wikipedia.org/wiki/List_of_S%26P_500_companies\"\n",
    "# Read the table of components from the Wikipedia page\n",
    "sp500_components = pd.read_html(url)[0]\n",
    "# Extract the ticker  from their columns\n",
    "tickers = sp500_components[\"Symbol\"].tolist()\n",
    "# make the tickers into a dictionary, with the index as the key and the ticker as the value\n",
    "ticker_dict = dict(zip(sp500_components.index, tickers))"
   ]
  },
  {
   "cell_type": "code",
   "execution_count": 175,
   "metadata": {},
   "outputs": [],
   "source": [
    "# Convert unique tickers to list\n",
    "unique_tickers = data_all_tickers[\"Ticker\"].unique().tolist()\n",
    "\n",
    "# Map numbers to ticker symbols\n",
    "ticker_symbols = [ticker_dict[ticker] for ticker in unique_tickers]"
   ]
  },
  {
   "cell_type": "code",
   "execution_count": 176,
   "metadata": {},
   "outputs": [
    {
     "data": {
      "text/plain": [
       "496"
      ]
     },
     "execution_count": 176,
     "metadata": {},
     "output_type": "execute_result"
    }
   ],
   "source": [
    "len(ticker_symbols)"
   ]
  },
  {
   "cell_type": "code",
   "execution_count": 177,
   "metadata": {},
   "outputs": [
    {
     "name": "stderr",
     "output_type": "stream",
     "text": [
      "C:\\Users\\nicol\\AppData\\Local\\Temp\\ipykernel_13672\\244758554.py:1: SettingWithCopyWarning: \n",
      "A value is trying to be set on a copy of a slice from a DataFrame.\n",
      "Try using .loc[row_indexer,col_indexer] = value instead\n",
      "\n",
      "See the caveats in the documentation: https://pandas.pydata.org/pandas-docs/stable/user_guide/indexing.html#returning-a-view-versus-a-copy\n",
      "  test['Ticker'] = test['Ticker'].astype('category')\n",
      "C:\\Users\\nicol\\AppData\\Local\\Temp\\ipykernel_13672\\244758554.py:3: SettingWithCopyWarning: \n",
      "A value is trying to be set on a copy of a slice from a DataFrame.\n",
      "Try using .loc[row_indexer,col_indexer] = value instead\n",
      "\n",
      "See the caveats in the documentation: https://pandas.pydata.org/pandas-docs/stable/user_guide/indexing.html#returning-a-view-versus-a-copy\n",
      "  test['Prediction'] = y_pred\n",
      "C:\\Users\\nicol\\AppData\\Local\\Temp\\ipykernel_13672\\244758554.py:4: SettingWithCopyWarning: \n",
      "A value is trying to be set on a copy of a slice from a DataFrame.\n",
      "Try using .loc[row_indexer,col_indexer] = value instead\n",
      "\n",
      "See the caveats in the documentation: https://pandas.pydata.org/pandas-docs/stable/user_guide/indexing.html#returning-a-view-versus-a-copy\n",
      "  test['Prediction Probability (0)'] = y_pred_proba[:,0]\n",
      "C:\\Users\\nicol\\AppData\\Local\\Temp\\ipykernel_13672\\244758554.py:5: SettingWithCopyWarning: \n",
      "A value is trying to be set on a copy of a slice from a DataFrame.\n",
      "Try using .loc[row_indexer,col_indexer] = value instead\n",
      "\n",
      "See the caveats in the documentation: https://pandas.pydata.org/pandas-docs/stable/user_guide/indexing.html#returning-a-view-versus-a-copy\n",
      "  test['Prediction Probability (1)'] = y_pred_proba[:,1]\n"
     ]
    }
   ],
   "source": [
    "test['Ticker'] = test['Ticker'].astype('category')\n",
    "#  make y_pred and y_pred_proba a column in the test dataset\n",
    "test['Prediction'] = y_pred\n",
    "test['Prediction Probability (0)'] = y_pred_proba[:,0]\n",
    "test['Prediction Probability (1)'] = y_pred_proba[:,1]\n",
    "# only keep columns for ticker, target, and prediction\n",
    "test = test[['Ticker', 'Target', 'Prediction', 'Prediction Probability (1)', 'Prediction Probability (0)', 'Return']]\n",
    "# make the ticker column a name again\n"
   ]
  },
  {
   "attachments": {},
   "cell_type": "markdown",
   "metadata": {},
   "source": [
    "__Portfolio Performance, if bought on each testing day and kept for respective 62 trade days.__"
   ]
  },
  {
   "cell_type": "code",
   "execution_count": 262,
   "metadata": {},
   "outputs": [],
   "source": [
    "import cvxpy as cp\n",
    "import pandas as pd\n",
    "\n",
    "\n",
    "\n",
    "def calculate_optimal_weights(test, date):\n",
    "    # only keep the rows of a specific date\n",
    "    # make a date be of type datetime\n",
    "    date = pd.to_datetime(date)\n",
    "    \n",
    "    # make a new dataframe where return is the index and each column is a ticker\n",
    "    return_df = test.pivot(columns='Ticker', values='Return')\n",
    "    # remove stocks that have nan values in the return column\n",
    "    return_df = return_df.dropna(axis=1)\n",
    "    # for each ticker only keep the row of the input date\n",
    "    test = test.groupby('Ticker').apply(lambda x: x.loc[x.index == date])\n",
    "    test['Ticker'] = test['Ticker'].cat.remove_unused_categories()\n",
    "    \n",
    "    # ensure that the tickers in test are the same as the tickers in return_df\n",
    "    test = test[test['Ticker'].isin(return_df.columns)]\n",
    "\n",
    "    \n",
    "    return_deviation = return_df.iloc[0:62]\n",
    "    \n",
    "    # Filter the dataframe for the given date\n",
    "    #df_date = df_date[df_date.index == date]\n",
    "    #df_date = df_date[pd.DatetimeIndex(df_date.index).date == date]\n",
    "    # find all places in return_df that are nan\n",
    "    \n",
    "\n",
    "    # Calculate the covariance matrix\n",
    "    cov_matrix = return_deviation.cov()\n",
    "    # Force the covariance matrix to be symmetric\n",
    "    cov_matrix = (cov_matrix + cov_matrix.T) / 2\n",
    "    \n",
    "    # Number of stocks\n",
    "    #n = len(ticker_symbols)\n",
    "    n = len(test['Ticker'])\n",
    "    #print('test',test['Ticker'].head(),len(test))\n",
    "    # Weights for each stock in the portfolio\n",
    "    w = cp.Variable(n)\n",
    "    #print(w.shape, cov_matrix.shape,n)\n",
    "    # Objective is to minimize portfolio variance\n",
    "    risk = cp.quad_form(w, cov_matrix)\n",
    "    # Parameter for the cardinality constraint\n",
    "    k = 50\n",
    "\n",
    "    # Cardinality constraint with penalty in the objective\n",
    "    objective = cp.Minimize(risk - k * cp.sum(w))\n",
    "\n",
    "    # objective = cp.Minimize(risk)\n",
    "    \n",
    "\n",
    "    # Constraints:\n",
    "    # - weights must sum to 1\n",
    "    # - only consider stocks where the SVM prediction is 1 (price will increase)\n",
    "    # - expected portfolio return must be at least a certain value (e.g., 0.01)\n",
    "    constraints = [\n",
    "        cp.sum(w) == 1,\n",
    "        w >= 0,\n",
    "        w <= 0.3,\n",
    "        #w[df_date[\"Prediction\"] == 0] == 0,\n",
    "        #w[test[\"Prediction\"] == 0 ] == 0,\n",
    "        \n",
    "        #w.T @ df_date[\"Prediction Probability (1)\"] >= 0.05\n",
    "        w.T @ test[\"Prediction Probability (1)\"] >= 0.35\n",
    "    ]\n",
    " \n",
    "    \n",
    "    \n",
    "    # Solve the optimization problem\n",
    "    problem = cp.Problem(objective, constraints)\n",
    "\n",
    "    problem.solve()\n",
    "\n",
    "    # Get the optimal weights\n",
    "    optimal_weights = w.value\n",
    "    if optimal_weights is None:\n",
    "        optimal_weights = np.zeros(n)\n",
    "    # Create a dataframe with the optimal weights\n",
    "    optimal_weights_df = pd.DataFrame(optimal_weights, index=test[\"Ticker\"])\n",
    "    # add the ticker names to the dataframe\n",
    "    optimal_weights_df = optimal_weights_df.join(ticker_name_df)\n",
    "    # remove the index\n",
    "    optimal_weights_df = optimal_weights_df.reset_index(drop=True)\n",
    "    # make the ticker the index\n",
    "    optimal_weights_df = optimal_weights_df.set_index('Ticker')\n",
    "    # make the column name weights\n",
    "    optimal_weights_df.columns = ['Weights']\n",
    "   \n",
    "\n",
    "\n",
    "    # Sort the dataframe by the optimal weights\n",
    "    optimal_weights_df = optimal_weights_df.sort_values(by=['Weights'], ascending=False)\n",
    "\n",
    "    # Only keep the top 10 stocks and their weights\n",
    "    optimal_weights_df = optimal_weights_df.head(10)\n",
    "\n",
    "    return round(optimal_weights_df,3)\n"
   ]
  },
  {
   "cell_type": "code",
   "execution_count": 179,
   "metadata": {},
   "outputs": [],
   "source": [
    "\n",
    "import pandas as pd\n",
    "\n",
    "def calculate_return(ticker, df, start_date):\n",
    "    # Convert string dates to datetime\n",
    "    start_date = pd.to_datetime(start_date)\n",
    "    # Calculate the end date as start date + 62 trading days\n",
    "    end_date = start_date + pd.tseries.offsets.BDay(63)\n",
    "    # remove nan values from df\n",
    "    df = df.dropna(axis=1)\n",
    "    \n",
    "    # Filter the dataframe for the given ticker\n",
    "    df_ticker = df[df['Ticker'] == ticker]\n",
    "    # Filter data between start and end dates\n",
    "    mask = (df_ticker.index >= start_date) & (df_ticker.index <= end_date)\n",
    "    df_ticker = df_ticker.loc[mask]\n",
    "    \n",
    "    # Get the opening price at the start and end dates\n",
    "    start_price = df_ticker['Open'].iloc[0]\n",
    "    end_price = df_ticker['Open'].iloc[-1]\n",
    "\n",
    "    # Calculate the return\n",
    "    return_percent = ((end_price - start_price) / start_price) * 100\n",
    "\n",
    "    return round(return_percent,2)\n"
   ]
  },
  {
   "cell_type": "code",
   "execution_count": 263,
   "metadata": {},
   "outputs": [
    {
     "name": "stdout",
     "output_type": "stream",
     "text": [
      "        Weights\n",
      "Ticker         \n",
      "F         0.261\n",
      "MTD       0.098\n",
      "AMZN      0.085\n",
      "NFLX      0.043\n",
      "BBWI      0.028\n",
      "CMG       0.019\n",
      "MO        0.013\n",
      "AZO       0.012\n",
      "ULTA      0.010\n",
      "KO        0.009\n"
     ]
    },
    {
     "name": "stderr",
     "output_type": "stream",
     "text": [
      "C:\\Users\\nicol\\AppData\\Local\\Packages\\PythonSoftwareFoundation.Python.3.10_qbz5n2kfra8p0\\LocalCache\\local-packages\\Python310\\site-packages\\pandas\\core\\ops\\array_ops.py:73: FutureWarning: Comparison of Timestamp with datetime.date is deprecated in order to match the standard library behavior.  In a future version these will be considered non-comparable.Use 'ts == pd.Timestamp(date)' or 'ts.date() == date' instead.\n",
      "  result = libops.scalar_compare(x.ravel(), y, op)\n"
     ]
    },
    {
     "name": "stdout",
     "output_type": "stream",
     "text": [
      "        Weights\n",
      "Ticker         \n",
      "F         0.188\n",
      "AMZN      0.178\n",
      "MTD       0.048\n",
      "NFLX      0.028\n",
      "BBWI      0.015\n",
      "CMG       0.010\n",
      "KO        0.007\n",
      "MO        0.007\n",
      "GM        0.005\n",
      "CHTR      0.004\n"
     ]
    },
    {
     "name": "stderr",
     "output_type": "stream",
     "text": [
      "C:\\Users\\nicol\\AppData\\Local\\Packages\\PythonSoftwareFoundation.Python.3.10_qbz5n2kfra8p0\\LocalCache\\local-packages\\Python310\\site-packages\\pandas\\core\\ops\\array_ops.py:73: FutureWarning: Comparison of Timestamp with datetime.date is deprecated in order to match the standard library behavior.  In a future version these will be considered non-comparable.Use 'ts == pd.Timestamp(date)' or 'ts.date() == date' instead.\n",
      "  result = libops.scalar_compare(x.ravel(), y, op)\n"
     ]
    },
    {
     "name": "stdout",
     "output_type": "stream",
     "text": [
      "        Weights\n",
      "Ticker         \n",
      "F         0.240\n",
      "AMZN      0.109\n",
      "MTD       0.087\n",
      "TSLA      0.048\n",
      "NFLX      0.038\n",
      "CMG       0.016\n",
      "MO        0.015\n",
      "BBWI      0.013\n",
      "ULTA      0.007\n",
      "CHTR      0.006\n"
     ]
    },
    {
     "name": "stderr",
     "output_type": "stream",
     "text": [
      "C:\\Users\\nicol\\AppData\\Local\\Packages\\PythonSoftwareFoundation.Python.3.10_qbz5n2kfra8p0\\LocalCache\\local-packages\\Python310\\site-packages\\pandas\\core\\ops\\array_ops.py:73: FutureWarning: Comparison of Timestamp with datetime.date is deprecated in order to match the standard library behavior.  In a future version these will be considered non-comparable.Use 'ts == pd.Timestamp(date)' or 'ts.date() == date' instead.\n",
      "  result = libops.scalar_compare(x.ravel(), y, op)\n"
     ]
    },
    {
     "name": "stdout",
     "output_type": "stream",
     "text": [
      "        Weights\n",
      "Ticker         \n",
      "F         0.202\n",
      "AMZN      0.137\n",
      "MTD       0.049\n",
      "NFLX      0.031\n",
      "BBWI      0.017\n",
      "CMG       0.011\n",
      "CTRA      0.010\n",
      "MO        0.008\n",
      "EBAY      0.005\n",
      "HAL       0.004\n"
     ]
    },
    {
     "name": "stderr",
     "output_type": "stream",
     "text": [
      "C:\\Users\\nicol\\AppData\\Local\\Packages\\PythonSoftwareFoundation.Python.3.10_qbz5n2kfra8p0\\LocalCache\\local-packages\\Python310\\site-packages\\pandas\\core\\ops\\array_ops.py:73: FutureWarning: Comparison of Timestamp with datetime.date is deprecated in order to match the standard library behavior.  In a future version these will be considered non-comparable.Use 'ts == pd.Timestamp(date)' or 'ts.date() == date' instead.\n",
      "  result = libops.scalar_compare(x.ravel(), y, op)\n"
     ]
    },
    {
     "name": "stdout",
     "output_type": "stream",
     "text": [
      "        Weights\n",
      "Ticker         \n",
      "AMZN      0.206\n",
      "F         0.205\n",
      "MTD       0.121\n",
      "NFLX      0.088\n",
      "BBWI      0.040\n",
      "HAL       0.017\n",
      "MO        0.015\n",
      "CMG       0.014\n",
      "KMI       0.009\n",
      "CTRA      0.006\n"
     ]
    },
    {
     "name": "stderr",
     "output_type": "stream",
     "text": [
      "C:\\Users\\nicol\\AppData\\Local\\Packages\\PythonSoftwareFoundation.Python.3.10_qbz5n2kfra8p0\\LocalCache\\local-packages\\Python310\\site-packages\\pandas\\core\\ops\\array_ops.py:73: FutureWarning: Comparison of Timestamp with datetime.date is deprecated in order to match the standard library behavior.  In a future version these will be considered non-comparable.Use 'ts == pd.Timestamp(date)' or 'ts.date() == date' instead.\n",
      "  result = libops.scalar_compare(x.ravel(), y, op)\n"
     ]
    },
    {
     "name": "stdout",
     "output_type": "stream",
     "text": [
      "        Weights\n",
      "Ticker         \n",
      "F         0.236\n",
      "AMZN      0.071\n",
      "MTD       0.065\n",
      "NFLX      0.034\n",
      "BBWI      0.018\n",
      "MO        0.017\n",
      "KR        0.011\n",
      "BKR       0.010\n",
      "HAL       0.008\n",
      "CMG       0.007\n"
     ]
    },
    {
     "name": "stderr",
     "output_type": "stream",
     "text": [
      "C:\\Users\\nicol\\AppData\\Local\\Packages\\PythonSoftwareFoundation.Python.3.10_qbz5n2kfra8p0\\LocalCache\\local-packages\\Python310\\site-packages\\pandas\\core\\ops\\array_ops.py:73: FutureWarning: Comparison of Timestamp with datetime.date is deprecated in order to match the standard library behavior.  In a future version these will be considered non-comparable.Use 'ts == pd.Timestamp(date)' or 'ts.date() == date' instead.\n",
      "  result = libops.scalar_compare(x.ravel(), y, op)\n"
     ]
    },
    {
     "name": "stdout",
     "output_type": "stream",
     "text": [
      "        Weights\n",
      "Ticker         \n",
      "F         0.204\n",
      "AMZN      0.124\n",
      "KR        0.096\n",
      "MTD       0.050\n",
      "BKR       0.027\n",
      "NFLX      0.022\n",
      "BBWI      0.020\n",
      "MO        0.007\n",
      "CMG       0.007\n",
      "KO        0.005\n"
     ]
    },
    {
     "name": "stderr",
     "output_type": "stream",
     "text": [
      "C:\\Users\\nicol\\AppData\\Local\\Packages\\PythonSoftwareFoundation.Python.3.10_qbz5n2kfra8p0\\LocalCache\\local-packages\\Python310\\site-packages\\pandas\\core\\ops\\array_ops.py:73: FutureWarning: Comparison of Timestamp with datetime.date is deprecated in order to match the standard library behavior.  In a future version these will be considered non-comparable.Use 'ts == pd.Timestamp(date)' or 'ts.date() == date' instead.\n",
      "  result = libops.scalar_compare(x.ravel(), y, op)\n"
     ]
    },
    {
     "name": "stdout",
     "output_type": "stream",
     "text": [
      "        Weights\n",
      "Ticker         \n",
      "F         0.266\n",
      "MTD       0.107\n",
      "NFLX      0.057\n",
      "KMI       0.040\n",
      "BBWI      0.035\n",
      "MO        0.032\n",
      "AMZN      0.023\n",
      "BKR       0.014\n",
      "BKNG      0.011\n",
      "CMG       0.011\n"
     ]
    },
    {
     "name": "stderr",
     "output_type": "stream",
     "text": [
      "C:\\Users\\nicol\\AppData\\Local\\Packages\\PythonSoftwareFoundation.Python.3.10_qbz5n2kfra8p0\\LocalCache\\local-packages\\Python310\\site-packages\\pandas\\core\\ops\\array_ops.py:73: FutureWarning: Comparison of Timestamp with datetime.date is deprecated in order to match the standard library behavior.  In a future version these will be considered non-comparable.Use 'ts == pd.Timestamp(date)' or 'ts.date() == date' instead.\n",
      "  result = libops.scalar_compare(x.ravel(), y, op)\n"
     ]
    },
    {
     "name": "stdout",
     "output_type": "stream",
     "text": [
      "        Weights\n",
      "Ticker         \n",
      "AMZN      0.166\n",
      "F         0.165\n",
      "HAL       0.063\n",
      "MRO       0.039\n",
      "MTD       0.038\n",
      "NFLX      0.017\n",
      "GM        0.015\n",
      "KMI       0.012\n",
      "MO        0.009\n",
      "BBWI      0.008\n"
     ]
    },
    {
     "name": "stderr",
     "output_type": "stream",
     "text": [
      "C:\\Users\\nicol\\AppData\\Local\\Packages\\PythonSoftwareFoundation.Python.3.10_qbz5n2kfra8p0\\LocalCache\\local-packages\\Python310\\site-packages\\pandas\\core\\ops\\array_ops.py:73: FutureWarning: Comparison of Timestamp with datetime.date is deprecated in order to match the standard library behavior.  In a future version these will be considered non-comparable.Use 'ts == pd.Timestamp(date)' or 'ts.date() == date' instead.\n",
      "  result = libops.scalar_compare(x.ravel(), y, op)\n"
     ]
    },
    {
     "name": "stdout",
     "output_type": "stream",
     "text": [
      "        Weights\n",
      "Ticker         \n",
      "F         0.232\n",
      "KHC       0.098\n",
      "MTD       0.088\n",
      "TSLA      0.086\n",
      "NFLX      0.037\n",
      "BBWI      0.027\n",
      "HAL       0.023\n",
      "MRO       0.022\n",
      "AMZN      0.018\n",
      "MO        0.014\n"
     ]
    },
    {
     "name": "stderr",
     "output_type": "stream",
     "text": [
      "C:\\Users\\nicol\\AppData\\Local\\Packages\\PythonSoftwareFoundation.Python.3.10_qbz5n2kfra8p0\\LocalCache\\local-packages\\Python310\\site-packages\\pandas\\core\\ops\\array_ops.py:73: FutureWarning: Comparison of Timestamp with datetime.date is deprecated in order to match the standard library behavior.  In a future version these will be considered non-comparable.Use 'ts == pd.Timestamp(date)' or 'ts.date() == date' instead.\n",
      "  result = libops.scalar_compare(x.ravel(), y, op)\n"
     ]
    },
    {
     "name": "stdout",
     "output_type": "stream",
     "text": [
      "        Weights\n",
      "Ticker         \n",
      "F         0.228\n",
      "AMZN      0.148\n",
      "MTD       0.114\n",
      "NFLX      0.065\n",
      "TSLA      0.064\n",
      "MO        0.023\n",
      "CMG       0.018\n",
      "BBWI      0.017\n",
      "MRO       0.012\n",
      "APA       0.011\n"
     ]
    },
    {
     "name": "stderr",
     "output_type": "stream",
     "text": [
      "C:\\Users\\nicol\\AppData\\Local\\Packages\\PythonSoftwareFoundation.Python.3.10_qbz5n2kfra8p0\\LocalCache\\local-packages\\Python310\\site-packages\\pandas\\core\\ops\\array_ops.py:73: FutureWarning: Comparison of Timestamp with datetime.date is deprecated in order to match the standard library behavior.  In a future version these will be considered non-comparable.Use 'ts == pd.Timestamp(date)' or 'ts.date() == date' instead.\n",
      "  result = libops.scalar_compare(x.ravel(), y, op)\n"
     ]
    },
    {
     "name": "stdout",
     "output_type": "stream",
     "text": [
      "        Weights\n",
      "Ticker         \n",
      "F         0.261\n",
      "MTD       0.095\n",
      "NFLX      0.056\n",
      "MO        0.032\n",
      "AMZN      0.029\n",
      "CMG       0.018\n",
      "BBWI      0.013\n",
      "BKNG      0.011\n",
      "AAP       0.009\n",
      "HAL       0.008\n"
     ]
    },
    {
     "name": "stderr",
     "output_type": "stream",
     "text": [
      "C:\\Users\\nicol\\AppData\\Local\\Packages\\PythonSoftwareFoundation.Python.3.10_qbz5n2kfra8p0\\LocalCache\\local-packages\\Python310\\site-packages\\pandas\\core\\ops\\array_ops.py:73: FutureWarning: Comparison of Timestamp with datetime.date is deprecated in order to match the standard library behavior.  In a future version these will be considered non-comparable.Use 'ts == pd.Timestamp(date)' or 'ts.date() == date' instead.\n",
      "  result = libops.scalar_compare(x.ravel(), y, op)\n"
     ]
    },
    {
     "name": "stdout",
     "output_type": "stream",
     "text": [
      "        Weights\n",
      "Ticker         \n",
      "F         0.214\n",
      "AMZN      0.098\n",
      "MTD       0.052\n",
      "ETSY      0.040\n",
      "GM        0.037\n",
      "NFLX      0.033\n",
      "MET       0.017\n",
      "MO        0.017\n",
      "KO        0.016\n",
      "AMD       0.011\n"
     ]
    },
    {
     "name": "stderr",
     "output_type": "stream",
     "text": [
      "C:\\Users\\nicol\\AppData\\Local\\Packages\\PythonSoftwareFoundation.Python.3.10_qbz5n2kfra8p0\\LocalCache\\local-packages\\Python310\\site-packages\\pandas\\core\\ops\\array_ops.py:73: FutureWarning: Comparison of Timestamp with datetime.date is deprecated in order to match the standard library behavior.  In a future version these will be considered non-comparable.Use 'ts == pd.Timestamp(date)' or 'ts.date() == date' instead.\n",
      "  result = libops.scalar_compare(x.ravel(), y, op)\n"
     ]
    },
    {
     "name": "stdout",
     "output_type": "stream",
     "text": [
      "        Weights\n",
      "Ticker         \n",
      "AMZN      0.237\n",
      "F         0.139\n",
      "MTD       0.089\n",
      "NFLX      0.043\n",
      "TSLA      0.035\n",
      "CMG       0.018\n",
      "MO        0.017\n",
      "BBWI      0.015\n",
      "BKR       0.013\n",
      "AAP       0.008\n"
     ]
    },
    {
     "name": "stderr",
     "output_type": "stream",
     "text": [
      "C:\\Users\\nicol\\AppData\\Local\\Packages\\PythonSoftwareFoundation.Python.3.10_qbz5n2kfra8p0\\LocalCache\\local-packages\\Python310\\site-packages\\pandas\\core\\ops\\array_ops.py:73: FutureWarning: Comparison of Timestamp with datetime.date is deprecated in order to match the standard library behavior.  In a future version these will be considered non-comparable.Use 'ts == pd.Timestamp(date)' or 'ts.date() == date' instead.\n",
      "  result = libops.scalar_compare(x.ravel(), y, op)\n"
     ]
    },
    {
     "name": "stdout",
     "output_type": "stream",
     "text": [
      "        Weights\n",
      "Ticker         \n",
      "AMZN      0.193\n",
      "F         0.189\n",
      "MTD       0.053\n",
      "NFLX      0.023\n",
      "HAL       0.015\n",
      "CMG       0.011\n",
      "MO        0.011\n",
      "AMD       0.010\n",
      "MRO       0.006\n",
      "BBWI      0.005\n"
     ]
    },
    {
     "name": "stderr",
     "output_type": "stream",
     "text": [
      "C:\\Users\\nicol\\AppData\\Local\\Packages\\PythonSoftwareFoundation.Python.3.10_qbz5n2kfra8p0\\LocalCache\\local-packages\\Python310\\site-packages\\pandas\\core\\ops\\array_ops.py:73: FutureWarning: Comparison of Timestamp with datetime.date is deprecated in order to match the standard library behavior.  In a future version these will be considered non-comparable.Use 'ts == pd.Timestamp(date)' or 'ts.date() == date' instead.\n",
      "  result = libops.scalar_compare(x.ravel(), y, op)\n"
     ]
    },
    {
     "name": "stdout",
     "output_type": "stream",
     "text": [
      "        Weights\n",
      "Ticker         \n",
      "AMZN      0.229\n",
      "F         0.075\n",
      "MTD       0.059\n",
      "NKE       0.035\n",
      "NFLX      0.021\n",
      "MO        0.020\n",
      "EBAY      0.015\n",
      "AZO       0.010\n",
      "CMG       0.009\n",
      "BBWI      0.008\n"
     ]
    },
    {
     "name": "stderr",
     "output_type": "stream",
     "text": [
      "C:\\Users\\nicol\\AppData\\Local\\Packages\\PythonSoftwareFoundation.Python.3.10_qbz5n2kfra8p0\\LocalCache\\local-packages\\Python310\\site-packages\\pandas\\core\\ops\\array_ops.py:73: FutureWarning: Comparison of Timestamp with datetime.date is deprecated in order to match the standard library behavior.  In a future version these will be considered non-comparable.Use 'ts == pd.Timestamp(date)' or 'ts.date() == date' instead.\n",
      "  result = libops.scalar_compare(x.ravel(), y, op)\n"
     ]
    },
    {
     "name": "stdout",
     "output_type": "stream",
     "text": [
      "        Weights\n",
      "Ticker         \n",
      "AMZN      0.214\n",
      "F         0.127\n",
      "MTD       0.054\n",
      "NFLX      0.017\n",
      "CCL       0.016\n",
      "CAG       0.014\n",
      "BBWI      0.013\n",
      "MO        0.012\n",
      "AZO       0.010\n",
      "CMG       0.008\n"
     ]
    },
    {
     "name": "stderr",
     "output_type": "stream",
     "text": [
      "C:\\Users\\nicol\\AppData\\Local\\Packages\\PythonSoftwareFoundation.Python.3.10_qbz5n2kfra8p0\\LocalCache\\local-packages\\Python310\\site-packages\\pandas\\core\\ops\\array_ops.py:73: FutureWarning: Comparison of Timestamp with datetime.date is deprecated in order to match the standard library behavior.  In a future version these will be considered non-comparable.Use 'ts == pd.Timestamp(date)' or 'ts.date() == date' instead.\n",
      "  result = libops.scalar_compare(x.ravel(), y, op)\n"
     ]
    },
    {
     "name": "stdout",
     "output_type": "stream",
     "text": [
      "        Weights\n",
      "Ticker         \n",
      "AMZN      0.194\n",
      "F         0.155\n",
      "MTD       0.047\n",
      "BKR       0.016\n",
      "NFLX      0.014\n",
      "WFC       0.014\n",
      "LVS       0.012\n",
      "AZO       0.008\n",
      "EBAY      0.008\n",
      "CMG       0.007\n"
     ]
    },
    {
     "name": "stderr",
     "output_type": "stream",
     "text": [
      "C:\\Users\\nicol\\AppData\\Local\\Packages\\PythonSoftwareFoundation.Python.3.10_qbz5n2kfra8p0\\LocalCache\\local-packages\\Python310\\site-packages\\pandas\\core\\ops\\array_ops.py:73: FutureWarning: Comparison of Timestamp with datetime.date is deprecated in order to match the standard library behavior.  In a future version these will be considered non-comparable.Use 'ts == pd.Timestamp(date)' or 'ts.date() == date' instead.\n",
      "  result = libops.scalar_compare(x.ravel(), y, op)\n"
     ]
    },
    {
     "name": "stdout",
     "output_type": "stream",
     "text": [
      "        Weights\n",
      "Ticker         \n",
      "AMZN      0.231\n",
      "F         0.194\n",
      "MTD       0.134\n",
      "NFLX      0.038\n",
      "CMG       0.022\n",
      "MO        0.021\n",
      "AZO       0.021\n",
      "BBWI      0.016\n",
      "ULTA      0.012\n",
      "AAP       0.011\n"
     ]
    },
    {
     "name": "stderr",
     "output_type": "stream",
     "text": [
      "C:\\Users\\nicol\\AppData\\Local\\Packages\\PythonSoftwareFoundation.Python.3.10_qbz5n2kfra8p0\\LocalCache\\local-packages\\Python310\\site-packages\\pandas\\core\\ops\\array_ops.py:73: FutureWarning: Comparison of Timestamp with datetime.date is deprecated in order to match the standard library behavior.  In a future version these will be considered non-comparable.Use 'ts == pd.Timestamp(date)' or 'ts.date() == date' instead.\n",
      "  result = libops.scalar_compare(x.ravel(), y, op)\n"
     ]
    },
    {
     "name": "stdout",
     "output_type": "stream",
     "text": [
      "        Weights\n",
      "Ticker         \n",
      "F         0.200\n",
      "AMZN      0.150\n",
      "MTD       0.049\n",
      "NFLX      0.018\n",
      "CMG       0.011\n",
      "AZO       0.009\n",
      "KO        0.008\n",
      "BBWI      0.008\n",
      "ULTA      0.007\n",
      "MO        0.006\n"
     ]
    },
    {
     "name": "stderr",
     "output_type": "stream",
     "text": [
      "C:\\Users\\nicol\\AppData\\Local\\Packages\\PythonSoftwareFoundation.Python.3.10_qbz5n2kfra8p0\\LocalCache\\local-packages\\Python310\\site-packages\\pandas\\core\\ops\\array_ops.py:73: FutureWarning: Comparison of Timestamp with datetime.date is deprecated in order to match the standard library behavior.  In a future version these will be considered non-comparable.Use 'ts == pd.Timestamp(date)' or 'ts.date() == date' instead.\n",
      "  result = libops.scalar_compare(x.ravel(), y, op)\n"
     ]
    },
    {
     "name": "stdout",
     "output_type": "stream",
     "text": [
      "        Weights\n",
      "Ticker         \n",
      "AMZN      0.209\n",
      "LVS       0.112\n",
      "F         0.112\n",
      "MTD       0.057\n",
      "NFLX      0.018\n",
      "GM        0.013\n",
      "AZO       0.010\n",
      "BBWI      0.010\n",
      "KO        0.009\n",
      "MO        0.009\n"
     ]
    },
    {
     "name": "stderr",
     "output_type": "stream",
     "text": [
      "C:\\Users\\nicol\\AppData\\Local\\Packages\\PythonSoftwareFoundation.Python.3.10_qbz5n2kfra8p0\\LocalCache\\local-packages\\Python310\\site-packages\\pandas\\core\\ops\\array_ops.py:73: FutureWarning: Comparison of Timestamp with datetime.date is deprecated in order to match the standard library behavior.  In a future version these will be considered non-comparable.Use 'ts == pd.Timestamp(date)' or 'ts.date() == date' instead.\n",
      "  result = libops.scalar_compare(x.ravel(), y, op)\n"
     ]
    },
    {
     "name": "stdout",
     "output_type": "stream",
     "text": [
      "        Weights\n",
      "Ticker         \n",
      "F         0.184\n",
      "AMZN      0.170\n",
      "MTD       0.042\n",
      "NFLX      0.015\n",
      "BBWI      0.012\n",
      "MO        0.009\n",
      "GM        0.008\n",
      "AZO       0.007\n",
      "KO        0.007\n",
      "CMG       0.007\n"
     ]
    },
    {
     "name": "stderr",
     "output_type": "stream",
     "text": [
      "C:\\Users\\nicol\\AppData\\Local\\Packages\\PythonSoftwareFoundation.Python.3.10_qbz5n2kfra8p0\\LocalCache\\local-packages\\Python310\\site-packages\\pandas\\core\\ops\\array_ops.py:73: FutureWarning: Comparison of Timestamp with datetime.date is deprecated in order to match the standard library behavior.  In a future version these will be considered non-comparable.Use 'ts == pd.Timestamp(date)' or 'ts.date() == date' instead.\n",
      "  result = libops.scalar_compare(x.ravel(), y, op)\n"
     ]
    },
    {
     "name": "stdout",
     "output_type": "stream",
     "text": [
      "        Weights\n",
      "Ticker         \n",
      "F         0.244\n",
      "AMZN      0.114\n",
      "MTD       0.093\n",
      "NFLX      0.040\n",
      "MO        0.021\n",
      "AZO       0.016\n",
      "BBWI      0.016\n",
      "CMG       0.013\n",
      "ULTA      0.011\n",
      "AAP       0.009\n"
     ]
    },
    {
     "name": "stderr",
     "output_type": "stream",
     "text": [
      "C:\\Users\\nicol\\AppData\\Local\\Packages\\PythonSoftwareFoundation.Python.3.10_qbz5n2kfra8p0\\LocalCache\\local-packages\\Python310\\site-packages\\pandas\\core\\ops\\array_ops.py:73: FutureWarning: Comparison of Timestamp with datetime.date is deprecated in order to match the standard library behavior.  In a future version these will be considered non-comparable.Use 'ts == pd.Timestamp(date)' or 'ts.date() == date' instead.\n",
      "  result = libops.scalar_compare(x.ravel(), y, op)\n"
     ]
    },
    {
     "name": "stdout",
     "output_type": "stream",
     "text": [
      "        Weights\n",
      "Ticker         \n",
      "F         0.257\n",
      "MTD       0.093\n",
      "AMZN      0.050\n",
      "NFLX      0.033\n",
      "MO        0.025\n",
      "AZO       0.017\n",
      "CMG       0.013\n",
      "BBWI      0.012\n",
      "ULTA      0.011\n",
      "AAP       0.009\n"
     ]
    },
    {
     "name": "stderr",
     "output_type": "stream",
     "text": [
      "C:\\Users\\nicol\\AppData\\Local\\Packages\\PythonSoftwareFoundation.Python.3.10_qbz5n2kfra8p0\\LocalCache\\local-packages\\Python310\\site-packages\\pandas\\core\\ops\\array_ops.py:73: FutureWarning: Comparison of Timestamp with datetime.date is deprecated in order to match the standard library behavior.  In a future version these will be considered non-comparable.Use 'ts == pd.Timestamp(date)' or 'ts.date() == date' instead.\n",
      "  result = libops.scalar_compare(x.ravel(), y, op)\n"
     ]
    },
    {
     "name": "stdout",
     "output_type": "stream",
     "text": [
      "        Weights\n",
      "Ticker         \n",
      "F         0.239\n",
      "AMZN      0.108\n",
      "MTD       0.070\n",
      "NFLX      0.026\n",
      "AZO       0.013\n",
      "MO        0.013\n",
      "BBWI      0.012\n",
      "KO        0.011\n",
      "GM        0.010\n",
      "CMG       0.010\n"
     ]
    },
    {
     "name": "stderr",
     "output_type": "stream",
     "text": [
      "C:\\Users\\nicol\\AppData\\Local\\Packages\\PythonSoftwareFoundation.Python.3.10_qbz5n2kfra8p0\\LocalCache\\local-packages\\Python310\\site-packages\\pandas\\core\\ops\\array_ops.py:73: FutureWarning: Comparison of Timestamp with datetime.date is deprecated in order to match the standard library behavior.  In a future version these will be considered non-comparable.Use 'ts == pd.Timestamp(date)' or 'ts.date() == date' instead.\n",
      "  result = libops.scalar_compare(x.ravel(), y, op)\n"
     ]
    },
    {
     "name": "stdout",
     "output_type": "stream",
     "text": [
      "        Weights\n",
      "Ticker         \n",
      "MTD       0.266\n",
      "F         0.217\n",
      "AMZN      0.093\n",
      "NFLX      0.072\n",
      "BBWI      0.040\n",
      "AZO       0.027\n",
      "MO        0.009\n",
      "ULTA      0.002\n",
      "PSA       0.002\n",
      "KO        0.002\n"
     ]
    },
    {
     "name": "stderr",
     "output_type": "stream",
     "text": [
      "C:\\Users\\nicol\\AppData\\Local\\Packages\\PythonSoftwareFoundation.Python.3.10_qbz5n2kfra8p0\\LocalCache\\local-packages\\Python310\\site-packages\\pandas\\core\\ops\\array_ops.py:73: FutureWarning: Comparison of Timestamp with datetime.date is deprecated in order to match the standard library behavior.  In a future version these will be considered non-comparable.Use 'ts == pd.Timestamp(date)' or 'ts.date() == date' instead.\n",
      "  result = libops.scalar_compare(x.ravel(), y, op)\n"
     ]
    },
    {
     "name": "stdout",
     "output_type": "stream",
     "text": [
      "        Weights\n",
      "Ticker         \n",
      "F         0.226\n",
      "AMZN      0.131\n",
      "MTD       0.082\n",
      "NFLX      0.036\n",
      "BBWI      0.020\n",
      "PCG       0.016\n",
      "AZO       0.014\n",
      "CMG       0.014\n",
      "MO        0.013\n",
      "TSLA      0.012\n"
     ]
    },
    {
     "name": "stderr",
     "output_type": "stream",
     "text": [
      "C:\\Users\\nicol\\AppData\\Local\\Packages\\PythonSoftwareFoundation.Python.3.10_qbz5n2kfra8p0\\LocalCache\\local-packages\\Python310\\site-packages\\pandas\\core\\ops\\array_ops.py:73: FutureWarning: Comparison of Timestamp with datetime.date is deprecated in order to match the standard library behavior.  In a future version these will be considered non-comparable.Use 'ts == pd.Timestamp(date)' or 'ts.date() == date' instead.\n",
      "  result = libops.scalar_compare(x.ravel(), y, op)\n"
     ]
    },
    {
     "name": "stdout",
     "output_type": "stream",
     "text": [
      "        Weights\n",
      "Ticker         \n",
      "F         0.189\n",
      "AMZN      0.185\n",
      "MTD       0.052\n",
      "NFLX      0.028\n",
      "PCG       0.015\n",
      "BBWI      0.011\n",
      "CMG       0.010\n",
      "AZO       0.008\n",
      "GM        0.008\n",
      "AMD       0.006\n"
     ]
    },
    {
     "name": "stderr",
     "output_type": "stream",
     "text": [
      "C:\\Users\\nicol\\AppData\\Local\\Packages\\PythonSoftwareFoundation.Python.3.10_qbz5n2kfra8p0\\LocalCache\\local-packages\\Python310\\site-packages\\pandas\\core\\ops\\array_ops.py:73: FutureWarning: Comparison of Timestamp with datetime.date is deprecated in order to match the standard library behavior.  In a future version these will be considered non-comparable.Use 'ts == pd.Timestamp(date)' or 'ts.date() == date' instead.\n",
      "  result = libops.scalar_compare(x.ravel(), y, op)\n"
     ]
    },
    {
     "name": "stdout",
     "output_type": "stream",
     "text": [
      "        Weights\n",
      "Ticker         \n",
      "F         0.278\n",
      "MTD       0.148\n",
      "NFLX      0.059\n",
      "AMZN      0.037\n",
      "BBWI      0.032\n",
      "AZO       0.027\n",
      "CMG       0.022\n",
      "ULTA      0.016\n",
      "APA       0.015\n",
      "MO        0.015\n"
     ]
    },
    {
     "name": "stderr",
     "output_type": "stream",
     "text": [
      "C:\\Users\\nicol\\AppData\\Local\\Packages\\PythonSoftwareFoundation.Python.3.10_qbz5n2kfra8p0\\LocalCache\\local-packages\\Python310\\site-packages\\pandas\\core\\ops\\array_ops.py:73: FutureWarning: Comparison of Timestamp with datetime.date is deprecated in order to match the standard library behavior.  In a future version these will be considered non-comparable.Use 'ts == pd.Timestamp(date)' or 'ts.date() == date' instead.\n",
      "  result = libops.scalar_compare(x.ravel(), y, op)\n"
     ]
    },
    {
     "name": "stdout",
     "output_type": "stream",
     "text": [
      "        Weights\n",
      "Ticker         \n",
      "AMZN      0.205\n",
      "F         0.191\n",
      "MTD       0.067\n",
      "NFLX      0.031\n",
      "BBWI      0.014\n",
      "CMG       0.012\n",
      "AZO       0.009\n",
      "GM        0.006\n",
      "MO        0.006\n",
      "ULTA      0.006\n"
     ]
    },
    {
     "name": "stderr",
     "output_type": "stream",
     "text": [
      "C:\\Users\\nicol\\AppData\\Local\\Packages\\PythonSoftwareFoundation.Python.3.10_qbz5n2kfra8p0\\LocalCache\\local-packages\\Python310\\site-packages\\pandas\\core\\ops\\array_ops.py:73: FutureWarning: Comparison of Timestamp with datetime.date is deprecated in order to match the standard library behavior.  In a future version these will be considered non-comparable.Use 'ts == pd.Timestamp(date)' or 'ts.date() == date' instead.\n",
      "  result = libops.scalar_compare(x.ravel(), y, op)\n"
     ]
    },
    {
     "name": "stdout",
     "output_type": "stream",
     "text": [
      "        Weights\n",
      "Ticker         \n",
      "F         0.221\n",
      "AMZN      0.185\n",
      "MTD       0.088\n",
      "NFLX      0.064\n",
      "GM        0.021\n",
      "KMI       0.013\n",
      "CMG       0.013\n",
      "SLB       0.011\n",
      "AZO       0.011\n",
      "BBWI      0.010\n"
     ]
    },
    {
     "name": "stderr",
     "output_type": "stream",
     "text": [
      "C:\\Users\\nicol\\AppData\\Local\\Packages\\PythonSoftwareFoundation.Python.3.10_qbz5n2kfra8p0\\LocalCache\\local-packages\\Python310\\site-packages\\pandas\\core\\ops\\array_ops.py:73: FutureWarning: Comparison of Timestamp with datetime.date is deprecated in order to match the standard library behavior.  In a future version these will be considered non-comparable.Use 'ts == pd.Timestamp(date)' or 'ts.date() == date' instead.\n",
      "  result = libops.scalar_compare(x.ravel(), y, op)\n"
     ]
    },
    {
     "name": "stdout",
     "output_type": "stream",
     "text": [
      "        Weights\n",
      "Ticker         \n",
      "F         0.233\n",
      "AMZN      0.148\n",
      "MTD       0.088\n",
      "NFLX      0.049\n",
      "BBWI      0.016\n",
      "CMG       0.016\n",
      "MO        0.012\n",
      "KO        0.012\n",
      "AZO       0.010\n",
      "ULTA      0.008\n"
     ]
    },
    {
     "name": "stderr",
     "output_type": "stream",
     "text": [
      "C:\\Users\\nicol\\AppData\\Local\\Packages\\PythonSoftwareFoundation.Python.3.10_qbz5n2kfra8p0\\LocalCache\\local-packages\\Python310\\site-packages\\pandas\\core\\ops\\array_ops.py:73: FutureWarning: Comparison of Timestamp with datetime.date is deprecated in order to match the standard library behavior.  In a future version these will be considered non-comparable.Use 'ts == pd.Timestamp(date)' or 'ts.date() == date' instead.\n",
      "  result = libops.scalar_compare(x.ravel(), y, op)\n"
     ]
    },
    {
     "name": "stdout",
     "output_type": "stream",
     "text": [
      "        Weights\n",
      "Ticker         \n",
      "F         0.179\n",
      "AMZN      0.158\n",
      "BBWI      0.044\n",
      "MTD       0.041\n",
      "HAL       0.035\n",
      "NFLX      0.032\n",
      "KO        0.011\n",
      "CSX       0.010\n",
      "CMG       0.009\n",
      "MO        0.008\n"
     ]
    },
    {
     "name": "stderr",
     "output_type": "stream",
     "text": [
      "C:\\Users\\nicol\\AppData\\Local\\Packages\\PythonSoftwareFoundation.Python.3.10_qbz5n2kfra8p0\\LocalCache\\local-packages\\Python310\\site-packages\\pandas\\core\\ops\\array_ops.py:73: FutureWarning: Comparison of Timestamp with datetime.date is deprecated in order to match the standard library behavior.  In a future version these will be considered non-comparable.Use 'ts == pd.Timestamp(date)' or 'ts.date() == date' instead.\n",
      "  result = libops.scalar_compare(x.ravel(), y, op)\n"
     ]
    },
    {
     "name": "stdout",
     "output_type": "stream",
     "text": [
      "        Weights\n",
      "Ticker         \n",
      "F         0.237\n",
      "MTD       0.069\n",
      "HAL       0.064\n",
      "NFLX      0.036\n",
      "AMZN      0.032\n",
      "BBWI      0.024\n",
      "CMG       0.015\n",
      "MO        0.012\n",
      "NVR       0.010\n",
      "KO        0.009\n"
     ]
    },
    {
     "name": "stderr",
     "output_type": "stream",
     "text": [
      "C:\\Users\\nicol\\AppData\\Local\\Packages\\PythonSoftwareFoundation.Python.3.10_qbz5n2kfra8p0\\LocalCache\\local-packages\\Python310\\site-packages\\pandas\\core\\ops\\array_ops.py:73: FutureWarning: Comparison of Timestamp with datetime.date is deprecated in order to match the standard library behavior.  In a future version these will be considered non-comparable.Use 'ts == pd.Timestamp(date)' or 'ts.date() == date' instead.\n",
      "  result = libops.scalar_compare(x.ravel(), y, op)\n"
     ]
    },
    {
     "name": "stdout",
     "output_type": "stream",
     "text": [
      "        Weights\n",
      "Ticker         \n",
      "F         0.238\n",
      "MTD       0.065\n",
      "NFLX      0.031\n",
      "AMZN      0.029\n",
      "BBWI      0.015\n",
      "CMG       0.014\n",
      "TSLA      0.012\n",
      "MO        0.011\n",
      "AZO       0.009\n",
      "HAL       0.009\n"
     ]
    },
    {
     "name": "stderr",
     "output_type": "stream",
     "text": [
      "C:\\Users\\nicol\\AppData\\Local\\Packages\\PythonSoftwareFoundation.Python.3.10_qbz5n2kfra8p0\\LocalCache\\local-packages\\Python310\\site-packages\\pandas\\core\\ops\\array_ops.py:73: FutureWarning: Comparison of Timestamp with datetime.date is deprecated in order to match the standard library behavior.  In a future version these will be considered non-comparable.Use 'ts == pd.Timestamp(date)' or 'ts.date() == date' instead.\n",
      "  result = libops.scalar_compare(x.ravel(), y, op)\n"
     ]
    },
    {
     "name": "stdout",
     "output_type": "stream",
     "text": [
      "        Weights\n",
      "Ticker         \n",
      "F         0.231\n",
      "MTD       0.055\n",
      "AMZN      0.028\n",
      "NFLX      0.020\n",
      "AZO       0.009\n",
      "MO        0.009\n",
      "CMG       0.008\n",
      "BBWI      0.008\n",
      "AAP       0.006\n",
      "CCL       0.006\n"
     ]
    },
    {
     "name": "stderr",
     "output_type": "stream",
     "text": [
      "C:\\Users\\nicol\\AppData\\Local\\Packages\\PythonSoftwareFoundation.Python.3.10_qbz5n2kfra8p0\\LocalCache\\local-packages\\Python310\\site-packages\\pandas\\core\\ops\\array_ops.py:73: FutureWarning: Comparison of Timestamp with datetime.date is deprecated in order to match the standard library behavior.  In a future version these will be considered non-comparable.Use 'ts == pd.Timestamp(date)' or 'ts.date() == date' instead.\n",
      "  result = libops.scalar_compare(x.ravel(), y, op)\n"
     ]
    },
    {
     "name": "stdout",
     "output_type": "stream",
     "text": [
      "        Weights\n",
      "Ticker         \n",
      "AMZN      0.237\n",
      "MTD       0.064\n",
      "EBAY      0.055\n",
      "TSLA      0.021\n",
      "NFLX      0.018\n",
      "BBWI      0.009\n",
      "MO        0.008\n",
      "AAP       0.007\n",
      "CMG       0.007\n",
      "KO        0.007\n"
     ]
    },
    {
     "name": "stderr",
     "output_type": "stream",
     "text": [
      "C:\\Users\\nicol\\AppData\\Local\\Packages\\PythonSoftwareFoundation.Python.3.10_qbz5n2kfra8p0\\LocalCache\\local-packages\\Python310\\site-packages\\pandas\\core\\ops\\array_ops.py:73: FutureWarning: Comparison of Timestamp with datetime.date is deprecated in order to match the standard library behavior.  In a future version these will be considered non-comparable.Use 'ts == pd.Timestamp(date)' or 'ts.date() == date' instead.\n",
      "  result = libops.scalar_compare(x.ravel(), y, op)\n"
     ]
    },
    {
     "name": "stdout",
     "output_type": "stream",
     "text": [
      "        Weights\n",
      "Ticker         \n",
      "F         0.199\n",
      "MTD       0.042\n",
      "TSLA      0.039\n",
      "PCG       0.016\n",
      "NFLX      0.015\n",
      "ULTA      0.013\n",
      "NEM       0.012\n",
      "EBAY      0.012\n",
      "ALGN      0.010\n",
      "PSA       0.009\n"
     ]
    },
    {
     "name": "stderr",
     "output_type": "stream",
     "text": [
      "C:\\Users\\nicol\\AppData\\Local\\Packages\\PythonSoftwareFoundation.Python.3.10_qbz5n2kfra8p0\\LocalCache\\local-packages\\Python310\\site-packages\\pandas\\core\\ops\\array_ops.py:73: FutureWarning: Comparison of Timestamp with datetime.date is deprecated in order to match the standard library behavior.  In a future version these will be considered non-comparable.Use 'ts == pd.Timestamp(date)' or 'ts.date() == date' instead.\n",
      "  result = libops.scalar_compare(x.ravel(), y, op)\n"
     ]
    },
    {
     "name": "stdout",
     "output_type": "stream",
     "text": [
      "        Weights\n",
      "Ticker         \n",
      "AMZN      0.162\n",
      "F         0.155\n",
      "MTD       0.032\n",
      "TSLA      0.018\n",
      "NFLX      0.013\n",
      "PCG       0.011\n",
      "NEM       0.011\n",
      "ULTA      0.010\n",
      "STZ       0.008\n",
      "CHD       0.008\n"
     ]
    },
    {
     "name": "stderr",
     "output_type": "stream",
     "text": [
      "C:\\Users\\nicol\\AppData\\Local\\Packages\\PythonSoftwareFoundation.Python.3.10_qbz5n2kfra8p0\\LocalCache\\local-packages\\Python310\\site-packages\\pandas\\core\\ops\\array_ops.py:73: FutureWarning: Comparison of Timestamp with datetime.date is deprecated in order to match the standard library behavior.  In a future version these will be considered non-comparable.Use 'ts == pd.Timestamp(date)' or 'ts.date() == date' instead.\n",
      "  result = libops.scalar_compare(x.ravel(), y, op)\n"
     ]
    },
    {
     "name": "stdout",
     "output_type": "stream",
     "text": [
      "        Weights\n",
      "Ticker         \n",
      "F         0.205\n",
      "MTD       0.048\n",
      "AMZN      0.039\n",
      "GM        0.026\n",
      "TSLA      0.021\n",
      "PCG       0.021\n",
      "NFLX      0.018\n",
      "ULTA      0.011\n",
      "NEM       0.010\n",
      "ALGN      0.009\n"
     ]
    },
    {
     "name": "stderr",
     "output_type": "stream",
     "text": [
      "C:\\Users\\nicol\\AppData\\Local\\Packages\\PythonSoftwareFoundation.Python.3.10_qbz5n2kfra8p0\\LocalCache\\local-packages\\Python310\\site-packages\\pandas\\core\\ops\\array_ops.py:73: FutureWarning: Comparison of Timestamp with datetime.date is deprecated in order to match the standard library behavior.  In a future version these will be considered non-comparable.Use 'ts == pd.Timestamp(date)' or 'ts.date() == date' instead.\n",
      "  result = libops.scalar_compare(x.ravel(), y, op)\n"
     ]
    },
    {
     "name": "stdout",
     "output_type": "stream",
     "text": [
      "        Weights\n",
      "Ticker         \n",
      "F         0.213\n",
      "AMZN      0.089\n",
      "MTD       0.073\n",
      "NFLX      0.043\n",
      "PCG       0.023\n",
      "TSLA      0.022\n",
      "MDLZ      0.013\n",
      "ULTA      0.012\n",
      "NEM       0.011\n",
      "ENPH      0.010\n"
     ]
    },
    {
     "name": "stderr",
     "output_type": "stream",
     "text": [
      "C:\\Users\\nicol\\AppData\\Local\\Packages\\PythonSoftwareFoundation.Python.3.10_qbz5n2kfra8p0\\LocalCache\\local-packages\\Python310\\site-packages\\pandas\\core\\ops\\array_ops.py:73: FutureWarning: Comparison of Timestamp with datetime.date is deprecated in order to match the standard library behavior.  In a future version these will be considered non-comparable.Use 'ts == pd.Timestamp(date)' or 'ts.date() == date' instead.\n",
      "  result = libops.scalar_compare(x.ravel(), y, op)\n"
     ]
    },
    {
     "name": "stdout",
     "output_type": "stream",
     "text": [
      "        Weights\n",
      "Ticker         \n",
      "F         0.187\n",
      "KHC       0.173\n",
      "AMZN      0.141\n",
      "MTD       0.064\n",
      "ETSY      0.028\n",
      "NFLX      0.025\n",
      "BBWI      0.010\n",
      "MO        0.010\n",
      "EQT       0.008\n",
      "KO        0.007\n"
     ]
    },
    {
     "name": "stderr",
     "output_type": "stream",
     "text": [
      "C:\\Users\\nicol\\AppData\\Local\\Packages\\PythonSoftwareFoundation.Python.3.10_qbz5n2kfra8p0\\LocalCache\\local-packages\\Python310\\site-packages\\pandas\\core\\ops\\array_ops.py:73: FutureWarning: Comparison of Timestamp with datetime.date is deprecated in order to match the standard library behavior.  In a future version these will be considered non-comparable.Use 'ts == pd.Timestamp(date)' or 'ts.date() == date' instead.\n",
      "  result = libops.scalar_compare(x.ravel(), y, op)\n"
     ]
    },
    {
     "name": "stdout",
     "output_type": "stream",
     "text": [
      "        Weights\n",
      "Ticker         \n",
      "F         0.220\n",
      "AMZN      0.129\n",
      "MTD       0.058\n",
      "NFLX      0.025\n",
      "KHC       0.011\n",
      "MO        0.009\n",
      "BBWI      0.009\n",
      "APA       0.007\n",
      "AAP       0.006\n",
      "EBAY      0.006\n"
     ]
    },
    {
     "name": "stderr",
     "output_type": "stream",
     "text": [
      "C:\\Users\\nicol\\AppData\\Local\\Packages\\PythonSoftwareFoundation.Python.3.10_qbz5n2kfra8p0\\LocalCache\\local-packages\\Python310\\site-packages\\pandas\\core\\ops\\array_ops.py:73: FutureWarning: Comparison of Timestamp with datetime.date is deprecated in order to match the standard library behavior.  In a future version these will be considered non-comparable.Use 'ts == pd.Timestamp(date)' or 'ts.date() == date' instead.\n",
      "  result = libops.scalar_compare(x.ravel(), y, op)\n"
     ]
    },
    {
     "name": "stdout",
     "output_type": "stream",
     "text": [
      "        Weights\n",
      "Ticker         \n",
      "F         0.209\n",
      "AMZN      0.106\n",
      "MTD       0.043\n",
      "NFLX      0.022\n",
      "PCG       0.018\n",
      "KO        0.014\n",
      "TSLA      0.009\n",
      "AMD       0.008\n",
      "HAL       0.008\n",
      "ULTA      0.007\n"
     ]
    },
    {
     "name": "stderr",
     "output_type": "stream",
     "text": [
      "C:\\Users\\nicol\\AppData\\Local\\Packages\\PythonSoftwareFoundation.Python.3.10_qbz5n2kfra8p0\\LocalCache\\local-packages\\Python310\\site-packages\\pandas\\core\\ops\\array_ops.py:73: FutureWarning: Comparison of Timestamp with datetime.date is deprecated in order to match the standard library behavior.  In a future version these will be considered non-comparable.Use 'ts == pd.Timestamp(date)' or 'ts.date() == date' instead.\n",
      "  result = libops.scalar_compare(x.ravel(), y, op)\n"
     ]
    },
    {
     "name": "stdout",
     "output_type": "stream",
     "text": [
      "        Weights\n",
      "Ticker         \n",
      "F         0.228\n",
      "KR        0.074\n",
      "MTD       0.053\n",
      "NFLX      0.022\n",
      "KO        0.020\n",
      "PCG       0.013\n",
      "BBWI      0.013\n",
      "AMD       0.010\n",
      "AMZN      0.010\n",
      "MO        0.008\n"
     ]
    },
    {
     "name": "stderr",
     "output_type": "stream",
     "text": [
      "C:\\Users\\nicol\\AppData\\Local\\Packages\\PythonSoftwareFoundation.Python.3.10_qbz5n2kfra8p0\\LocalCache\\local-packages\\Python310\\site-packages\\pandas\\core\\ops\\array_ops.py:73: FutureWarning: Comparison of Timestamp with datetime.date is deprecated in order to match the standard library behavior.  In a future version these will be considered non-comparable.Use 'ts == pd.Timestamp(date)' or 'ts.date() == date' instead.\n",
      "  result = libops.scalar_compare(x.ravel(), y, op)\n"
     ]
    },
    {
     "name": "stdout",
     "output_type": "stream",
     "text": [
      "        Weights\n",
      "Ticker         \n",
      "F         0.234\n",
      "MTD       0.058\n",
      "NFLX      0.020\n",
      "AMZN      0.019\n",
      "MRO       0.013\n",
      "BBWI      0.011\n",
      "KR        0.010\n",
      "KO        0.010\n",
      "EBAY      0.008\n",
      "MO        0.007\n"
     ]
    },
    {
     "name": "stderr",
     "output_type": "stream",
     "text": [
      "C:\\Users\\nicol\\AppData\\Local\\Packages\\PythonSoftwareFoundation.Python.3.10_qbz5n2kfra8p0\\LocalCache\\local-packages\\Python310\\site-packages\\pandas\\core\\ops\\array_ops.py:73: FutureWarning: Comparison of Timestamp with datetime.date is deprecated in order to match the standard library behavior.  In a future version these will be considered non-comparable.Use 'ts == pd.Timestamp(date)' or 'ts.date() == date' instead.\n",
      "  result = libops.scalar_compare(x.ravel(), y, op)\n"
     ]
    },
    {
     "name": "stdout",
     "output_type": "stream",
     "text": [
      "        Weights\n",
      "Ticker         \n",
      "F         0.225\n",
      "AMZN      0.114\n",
      "EXPE      0.070\n",
      "MTD       0.062\n",
      "NFLX      0.032\n",
      "BBWI      0.015\n",
      "EBAY      0.013\n",
      "MO        0.007\n",
      "KO        0.007\n",
      "MRO       0.007\n"
     ]
    },
    {
     "name": "stderr",
     "output_type": "stream",
     "text": [
      "C:\\Users\\nicol\\AppData\\Local\\Packages\\PythonSoftwareFoundation.Python.3.10_qbz5n2kfra8p0\\LocalCache\\local-packages\\Python310\\site-packages\\pandas\\core\\ops\\array_ops.py:73: FutureWarning: Comparison of Timestamp with datetime.date is deprecated in order to match the standard library behavior.  In a future version these will be considered non-comparable.Use 'ts == pd.Timestamp(date)' or 'ts.date() == date' instead.\n",
      "  result = libops.scalar_compare(x.ravel(), y, op)\n"
     ]
    },
    {
     "name": "stdout",
     "output_type": "stream",
     "text": [
      "        Weights\n",
      "Ticker         \n",
      "F         0.261\n",
      "MTD       0.085\n",
      "AMZN      0.042\n",
      "NFLX      0.037\n",
      "BBWI      0.020\n",
      "EBAY      0.018\n",
      "AAPL      0.013\n",
      "AAP       0.011\n",
      "MRO       0.010\n",
      "CHTR      0.010\n"
     ]
    },
    {
     "name": "stderr",
     "output_type": "stream",
     "text": [
      "C:\\Users\\nicol\\AppData\\Local\\Packages\\PythonSoftwareFoundation.Python.3.10_qbz5n2kfra8p0\\LocalCache\\local-packages\\Python310\\site-packages\\pandas\\core\\ops\\array_ops.py:73: FutureWarning: Comparison of Timestamp with datetime.date is deprecated in order to match the standard library behavior.  In a future version these will be considered non-comparable.Use 'ts == pd.Timestamp(date)' or 'ts.date() == date' instead.\n",
      "  result = libops.scalar_compare(x.ravel(), y, op)\n"
     ]
    },
    {
     "name": "stdout",
     "output_type": "stream",
     "text": [
      "        Weights\n",
      "Ticker         \n",
      "F         0.278\n",
      "MTD       0.150\n",
      "NFLX      0.058\n",
      "AMZN      0.038\n",
      "BBWI      0.030\n",
      "AAP       0.018\n",
      "ULTA      0.015\n",
      "CHTR      0.013\n",
      "MO        0.012\n",
      "WMB       0.012\n"
     ]
    },
    {
     "name": "stderr",
     "output_type": "stream",
     "text": [
      "C:\\Users\\nicol\\AppData\\Local\\Packages\\PythonSoftwareFoundation.Python.3.10_qbz5n2kfra8p0\\LocalCache\\local-packages\\Python310\\site-packages\\pandas\\core\\ops\\array_ops.py:73: FutureWarning: Comparison of Timestamp with datetime.date is deprecated in order to match the standard library behavior.  In a future version these will be considered non-comparable.Use 'ts == pd.Timestamp(date)' or 'ts.date() == date' instead.\n",
      "  result = libops.scalar_compare(x.ravel(), y, op)\n"
     ]
    },
    {
     "name": "stdout",
     "output_type": "stream",
     "text": [
      "        Weights\n",
      "Ticker         \n",
      "F         0.262\n",
      "MTD       0.096\n",
      "NFLX      0.048\n",
      "AMZN      0.034\n",
      "BBWI      0.022\n",
      "GM        0.021\n",
      "KO        0.014\n",
      "DHI       0.011\n",
      "AAP       0.010\n",
      "CHTR      0.010\n"
     ]
    },
    {
     "name": "stderr",
     "output_type": "stream",
     "text": [
      "C:\\Users\\nicol\\AppData\\Local\\Packages\\PythonSoftwareFoundation.Python.3.10_qbz5n2kfra8p0\\LocalCache\\local-packages\\Python310\\site-packages\\pandas\\core\\ops\\array_ops.py:73: FutureWarning: Comparison of Timestamp with datetime.date is deprecated in order to match the standard library behavior.  In a future version these will be considered non-comparable.Use 'ts == pd.Timestamp(date)' or 'ts.date() == date' instead.\n",
      "  result = libops.scalar_compare(x.ravel(), y, op)\n"
     ]
    },
    {
     "name": "stdout",
     "output_type": "stream",
     "text": [
      "        Weights\n",
      "Ticker         \n",
      "F         0.207\n",
      "AMZN      0.159\n",
      "MTD       0.054\n",
      "NFLX      0.034\n",
      "DIS       0.020\n",
      "GM        0.011\n",
      "BBWI      0.011\n",
      "KMI       0.010\n",
      "KO        0.007\n",
      "DHI       0.007\n"
     ]
    },
    {
     "name": "stderr",
     "output_type": "stream",
     "text": [
      "C:\\Users\\nicol\\AppData\\Local\\Packages\\PythonSoftwareFoundation.Python.3.10_qbz5n2kfra8p0\\LocalCache\\local-packages\\Python310\\site-packages\\pandas\\core\\ops\\array_ops.py:73: FutureWarning: Comparison of Timestamp with datetime.date is deprecated in order to match the standard library behavior.  In a future version these will be considered non-comparable.Use 'ts == pd.Timestamp(date)' or 'ts.date() == date' instead.\n",
      "  result = libops.scalar_compare(x.ravel(), y, op)\n"
     ]
    },
    {
     "name": "stdout",
     "output_type": "stream",
     "text": [
      "        Weights\n",
      "Ticker         \n",
      "F         0.267\n",
      "MTD       0.109\n",
      "AMZN      0.082\n",
      "NFLX      0.052\n",
      "GM        0.027\n",
      "BBWI      0.024\n",
      "KHC       0.018\n",
      "KMI       0.014\n",
      "ULTA      0.011\n",
      "CHTR      0.010\n"
     ]
    },
    {
     "name": "stderr",
     "output_type": "stream",
     "text": [
      "C:\\Users\\nicol\\AppData\\Local\\Packages\\PythonSoftwareFoundation.Python.3.10_qbz5n2kfra8p0\\LocalCache\\local-packages\\Python310\\site-packages\\pandas\\core\\ops\\array_ops.py:73: FutureWarning: Comparison of Timestamp with datetime.date is deprecated in order to match the standard library behavior.  In a future version these will be considered non-comparable.Use 'ts == pd.Timestamp(date)' or 'ts.date() == date' instead.\n",
      "  result = libops.scalar_compare(x.ravel(), y, op)\n"
     ]
    },
    {
     "name": "stdout",
     "output_type": "stream",
     "text": [
      "        Weights\n",
      "Ticker         \n",
      "AMZN      0.207\n",
      "F         0.116\n",
      "NVDA      0.053\n",
      "MTD       0.046\n",
      "KMI       0.025\n",
      "NFLX      0.024\n",
      "BBWI      0.011\n",
      "GM        0.009\n",
      "CHTR      0.006\n",
      "MO        0.005\n"
     ]
    },
    {
     "name": "stderr",
     "output_type": "stream",
     "text": [
      "C:\\Users\\nicol\\AppData\\Local\\Packages\\PythonSoftwareFoundation.Python.3.10_qbz5n2kfra8p0\\LocalCache\\local-packages\\Python310\\site-packages\\pandas\\core\\ops\\array_ops.py:73: FutureWarning: Comparison of Timestamp with datetime.date is deprecated in order to match the standard library behavior.  In a future version these will be considered non-comparable.Use 'ts == pd.Timestamp(date)' or 'ts.date() == date' instead.\n",
      "  result = libops.scalar_compare(x.ravel(), y, op)\n"
     ]
    },
    {
     "name": "stdout",
     "output_type": "stream",
     "text": [
      "        Weights\n",
      "Ticker         \n",
      "F         0.213\n",
      "AMZN      0.125\n",
      "MTD       0.050\n",
      "NFLX      0.036\n",
      "TSLA      0.019\n",
      "BBWI      0.012\n",
      "MO        0.009\n",
      "KO        0.009\n",
      "BKR       0.007\n",
      "AZO       0.006\n"
     ]
    },
    {
     "name": "stderr",
     "output_type": "stream",
     "text": [
      "C:\\Users\\nicol\\AppData\\Local\\Packages\\PythonSoftwareFoundation.Python.3.10_qbz5n2kfra8p0\\LocalCache\\local-packages\\Python310\\site-packages\\pandas\\core\\ops\\array_ops.py:73: FutureWarning: Comparison of Timestamp with datetime.date is deprecated in order to match the standard library behavior.  In a future version these will be considered non-comparable.Use 'ts == pd.Timestamp(date)' or 'ts.date() == date' instead.\n",
      "  result = libops.scalar_compare(x.ravel(), y, op)\n"
     ]
    },
    {
     "name": "stdout",
     "output_type": "stream",
     "text": [
      "        Weights\n",
      "Ticker         \n",
      "F         0.245\n",
      "MTD       0.069\n",
      "AMZN      0.058\n",
      "NFLX      0.046\n",
      "BBWI      0.029\n",
      "MO        0.013\n",
      "NOW       0.011\n",
      "KO        0.011\n",
      "AZO       0.010\n",
      "GM        0.010\n"
     ]
    },
    {
     "name": "stderr",
     "output_type": "stream",
     "text": [
      "C:\\Users\\nicol\\AppData\\Local\\Packages\\PythonSoftwareFoundation.Python.3.10_qbz5n2kfra8p0\\LocalCache\\local-packages\\Python310\\site-packages\\pandas\\core\\ops\\array_ops.py:73: FutureWarning: Comparison of Timestamp with datetime.date is deprecated in order to match the standard library behavior.  In a future version these will be considered non-comparable.Use 'ts == pd.Timestamp(date)' or 'ts.date() == date' instead.\n",
      "  result = libops.scalar_compare(x.ravel(), y, op)\n"
     ]
    },
    {
     "name": "stdout",
     "output_type": "stream",
     "text": [
      "        Weights\n",
      "Ticker         \n",
      "F         0.208\n",
      "AMZN      0.113\n",
      "BBWI      0.075\n",
      "MTD       0.046\n",
      "NFLX      0.028\n",
      "GM        0.015\n",
      "MO        0.011\n",
      "NOW       0.010\n",
      "EBAY      0.007\n",
      "AMD       0.006\n"
     ]
    },
    {
     "name": "stderr",
     "output_type": "stream",
     "text": [
      "C:\\Users\\nicol\\AppData\\Local\\Packages\\PythonSoftwareFoundation.Python.3.10_qbz5n2kfra8p0\\LocalCache\\local-packages\\Python310\\site-packages\\pandas\\core\\ops\\array_ops.py:73: FutureWarning: Comparison of Timestamp with datetime.date is deprecated in order to match the standard library behavior.  In a future version these will be considered non-comparable.Use 'ts == pd.Timestamp(date)' or 'ts.date() == date' instead.\n",
      "  result = libops.scalar_compare(x.ravel(), y, op)\n"
     ]
    },
    {
     "name": "stdout",
     "output_type": "stream",
     "text": [
      "        Weights\n",
      "Ticker         \n",
      "F         0.204\n",
      "BBWI      0.132\n",
      "AMZN      0.105\n",
      "MTD       0.056\n",
      "NFLX      0.042\n",
      "GM        0.018\n",
      "AMD       0.008\n",
      "CHTR      0.007\n",
      "SCHW      0.006\n",
      "MO        0.006\n"
     ]
    },
    {
     "name": "stderr",
     "output_type": "stream",
     "text": [
      "C:\\Users\\nicol\\AppData\\Local\\Packages\\PythonSoftwareFoundation.Python.3.10_qbz5n2kfra8p0\\LocalCache\\local-packages\\Python310\\site-packages\\pandas\\core\\ops\\array_ops.py:73: FutureWarning: Comparison of Timestamp with datetime.date is deprecated in order to match the standard library behavior.  In a future version these will be considered non-comparable.Use 'ts == pd.Timestamp(date)' or 'ts.date() == date' instead.\n",
      "  result = libops.scalar_compare(x.ravel(), y, op)\n"
     ]
    },
    {
     "name": "stdout",
     "output_type": "stream",
     "text": [
      "        Weights\n",
      "Ticker         \n",
      "F         0.225\n",
      "AMZN      0.078\n",
      "BBWI      0.076\n",
      "MTD       0.060\n",
      "NFLX      0.039\n",
      "GM        0.016\n",
      "AAPL      0.011\n",
      "MO        0.008\n",
      "CTRA      0.008\n",
      "CHTR      0.006\n"
     ]
    },
    {
     "name": "stderr",
     "output_type": "stream",
     "text": [
      "C:\\Users\\nicol\\AppData\\Local\\Packages\\PythonSoftwareFoundation.Python.3.10_qbz5n2kfra8p0\\LocalCache\\local-packages\\Python310\\site-packages\\pandas\\core\\ops\\array_ops.py:73: FutureWarning: Comparison of Timestamp with datetime.date is deprecated in order to match the standard library behavior.  In a future version these will be considered non-comparable.Use 'ts == pd.Timestamp(date)' or 'ts.date() == date' instead.\n",
      "  result = libops.scalar_compare(x.ravel(), y, op)\n"
     ]
    },
    {
     "name": "stdout",
     "output_type": "stream",
     "text": [
      "        Weights\n",
      "Ticker         \n",
      "AMZN      0.198\n",
      "F         0.154\n",
      "MTD       0.048\n",
      "NFLX      0.039\n",
      "BBWI      0.036\n",
      "EBAY      0.019\n",
      "MRO       0.010\n",
      "GM        0.009\n",
      "CHTR      0.005\n",
      "AZO       0.005\n"
     ]
    },
    {
     "name": "stderr",
     "output_type": "stream",
     "text": [
      "C:\\Users\\nicol\\AppData\\Local\\Packages\\PythonSoftwareFoundation.Python.3.10_qbz5n2kfra8p0\\LocalCache\\local-packages\\Python310\\site-packages\\pandas\\core\\ops\\array_ops.py:73: FutureWarning: Comparison of Timestamp with datetime.date is deprecated in order to match the standard library behavior.  In a future version these will be considered non-comparable.Use 'ts == pd.Timestamp(date)' or 'ts.date() == date' instead.\n",
      "  result = libops.scalar_compare(x.ravel(), y, op)\n"
     ]
    },
    {
     "name": "stdout",
     "output_type": "stream",
     "text": [
      "        Weights\n",
      "Ticker         \n",
      "AMZN      0.194\n",
      "F         0.173\n",
      "BBWI      0.075\n",
      "MTD       0.053\n",
      "NFLX      0.037\n",
      "KMI       0.031\n",
      "DLTR      0.012\n",
      "MRO       0.011\n",
      "CTRA      0.009\n",
      "CMG       0.007\n"
     ]
    },
    {
     "name": "stderr",
     "output_type": "stream",
     "text": [
      "C:\\Users\\nicol\\AppData\\Local\\Packages\\PythonSoftwareFoundation.Python.3.10_qbz5n2kfra8p0\\LocalCache\\local-packages\\Python310\\site-packages\\pandas\\core\\ops\\array_ops.py:73: FutureWarning: Comparison of Timestamp with datetime.date is deprecated in order to match the standard library behavior.  In a future version these will be considered non-comparable.Use 'ts == pd.Timestamp(date)' or 'ts.date() == date' instead.\n",
      "  result = libops.scalar_compare(x.ravel(), y, op)\n"
     ]
    },
    {
     "name": "stdout",
     "output_type": "stream",
     "text": [
      "        Weights\n",
      "Ticker         \n",
      "F         0.204\n",
      "AMZN      0.152\n",
      "MTD       0.048\n",
      "NFLX      0.030\n",
      "AAPL      0.010\n",
      "BBWI      0.009\n",
      "CMG       0.008\n",
      "AZO       0.007\n",
      "CTRA      0.007\n",
      "CHTR      0.006\n"
     ]
    },
    {
     "name": "stderr",
     "output_type": "stream",
     "text": [
      "C:\\Users\\nicol\\AppData\\Local\\Packages\\PythonSoftwareFoundation.Python.3.10_qbz5n2kfra8p0\\LocalCache\\local-packages\\Python310\\site-packages\\pandas\\core\\ops\\array_ops.py:73: FutureWarning: Comparison of Timestamp with datetime.date is deprecated in order to match the standard library behavior.  In a future version these will be considered non-comparable.Use 'ts == pd.Timestamp(date)' or 'ts.date() == date' instead.\n",
      "  result = libops.scalar_compare(x.ravel(), y, op)\n"
     ]
    },
    {
     "name": "stdout",
     "output_type": "stream",
     "text": [
      "        Weights\n",
      "Ticker         \n",
      "TSLA      0.226\n",
      "MTD       0.169\n",
      "F         0.087\n",
      "NFLX      0.073\n",
      "AMZN      0.028\n",
      "PCG       0.018\n",
      "BBWI      0.017\n",
      "AAPL      0.015\n",
      "EIX       0.015\n",
      "BAX       0.011\n"
     ]
    },
    {
     "name": "stderr",
     "output_type": "stream",
     "text": [
      "C:\\Users\\nicol\\AppData\\Local\\Packages\\PythonSoftwareFoundation.Python.3.10_qbz5n2kfra8p0\\LocalCache\\local-packages\\Python310\\site-packages\\pandas\\core\\ops\\array_ops.py:73: FutureWarning: Comparison of Timestamp with datetime.date is deprecated in order to match the standard library behavior.  In a future version these will be considered non-comparable.Use 'ts == pd.Timestamp(date)' or 'ts.date() == date' instead.\n",
      "  result = libops.scalar_compare(x.ravel(), y, op)\n"
     ]
    },
    {
     "name": "stdout",
     "output_type": "stream",
     "text": [
      "        Weights\n",
      "Ticker         \n",
      "AMZN      0.181\n",
      "F         0.168\n",
      "MTD       0.040\n",
      "NFLX      0.029\n",
      "BBWI      0.026\n",
      "APA       0.010\n",
      "EBAY      0.007\n",
      "CMG       0.006\n",
      "KO        0.006\n",
      "AZO       0.006\n"
     ]
    },
    {
     "name": "stderr",
     "output_type": "stream",
     "text": [
      "C:\\Users\\nicol\\AppData\\Local\\Packages\\PythonSoftwareFoundation.Python.3.10_qbz5n2kfra8p0\\LocalCache\\local-packages\\Python310\\site-packages\\pandas\\core\\ops\\array_ops.py:73: FutureWarning: Comparison of Timestamp with datetime.date is deprecated in order to match the standard library behavior.  In a future version these will be considered non-comparable.Use 'ts == pd.Timestamp(date)' or 'ts.date() == date' instead.\n",
      "  result = libops.scalar_compare(x.ravel(), y, op)\n"
     ]
    },
    {
     "name": "stdout",
     "output_type": "stream",
     "text": [
      "        Weights\n",
      "Ticker         \n",
      "F         0.185\n",
      "AMZN      0.167\n",
      "MTD       0.043\n",
      "NFLX      0.024\n",
      "BBWI      0.015\n",
      "APA       0.008\n",
      "KO        0.008\n",
      "CTRA      0.008\n",
      "CMG       0.006\n",
      "MO        0.006\n"
     ]
    },
    {
     "name": "stderr",
     "output_type": "stream",
     "text": [
      "C:\\Users\\nicol\\AppData\\Local\\Packages\\PythonSoftwareFoundation.Python.3.10_qbz5n2kfra8p0\\LocalCache\\local-packages\\Python310\\site-packages\\pandas\\core\\ops\\array_ops.py:73: FutureWarning: Comparison of Timestamp with datetime.date is deprecated in order to match the standard library behavior.  In a future version these will be considered non-comparable.Use 'ts == pd.Timestamp(date)' or 'ts.date() == date' instead.\n",
      "  result = libops.scalar_compare(x.ravel(), y, op)\n"
     ]
    },
    {
     "name": "stdout",
     "output_type": "stream",
     "text": [
      "        Weights\n",
      "Ticker         \n",
      "F         0.195\n",
      "AMZN      0.120\n",
      "MTD       0.051\n",
      "BBWI      0.032\n",
      "NFLX      0.027\n",
      "TSLA      0.024\n",
      "PCG       0.016\n",
      "NEM       0.013\n",
      "ULTA      0.011\n",
      "CHD       0.010\n"
     ]
    },
    {
     "name": "stderr",
     "output_type": "stream",
     "text": [
      "C:\\Users\\nicol\\AppData\\Local\\Packages\\PythonSoftwareFoundation.Python.3.10_qbz5n2kfra8p0\\LocalCache\\local-packages\\Python310\\site-packages\\pandas\\core\\ops\\array_ops.py:73: FutureWarning: Comparison of Timestamp with datetime.date is deprecated in order to match the standard library behavior.  In a future version these will be considered non-comparable.Use 'ts == pd.Timestamp(date)' or 'ts.date() == date' instead.\n",
      "  result = libops.scalar_compare(x.ravel(), y, op)\n"
     ]
    },
    {
     "name": "stdout",
     "output_type": "stream",
     "text": [
      "        Weights\n",
      "Ticker         \n",
      "AMZN      0.207\n",
      "F         0.200\n",
      "TSLA      0.097\n",
      "MTD       0.069\n",
      "NFLX      0.042\n",
      "BBWI      0.041\n",
      "KMI       0.011\n",
      "KO        0.010\n",
      "KR        0.010\n",
      "CMG       0.009\n"
     ]
    },
    {
     "name": "stderr",
     "output_type": "stream",
     "text": [
      "C:\\Users\\nicol\\AppData\\Local\\Packages\\PythonSoftwareFoundation.Python.3.10_qbz5n2kfra8p0\\LocalCache\\local-packages\\Python310\\site-packages\\pandas\\core\\ops\\array_ops.py:73: FutureWarning: Comparison of Timestamp with datetime.date is deprecated in order to match the standard library behavior.  In a future version these will be considered non-comparable.Use 'ts == pd.Timestamp(date)' or 'ts.date() == date' instead.\n",
      "  result = libops.scalar_compare(x.ravel(), y, op)\n"
     ]
    },
    {
     "name": "stdout",
     "output_type": "stream",
     "text": [
      "        Weights\n",
      "Ticker         \n",
      "AMZN      0.202\n",
      "F         0.201\n",
      "MTD       0.042\n",
      "NFLX      0.033\n",
      "BBWI      0.021\n",
      "CMG       0.011\n",
      "ULTA      0.009\n",
      "APA       0.008\n",
      "AZO       0.007\n",
      "CHTR      0.006\n"
     ]
    },
    {
     "name": "stderr",
     "output_type": "stream",
     "text": [
      "C:\\Users\\nicol\\AppData\\Local\\Packages\\PythonSoftwareFoundation.Python.3.10_qbz5n2kfra8p0\\LocalCache\\local-packages\\Python310\\site-packages\\pandas\\core\\ops\\array_ops.py:73: FutureWarning: Comparison of Timestamp with datetime.date is deprecated in order to match the standard library behavior.  In a future version these will be considered non-comparable.Use 'ts == pd.Timestamp(date)' or 'ts.date() == date' instead.\n",
      "  result = libops.scalar_compare(x.ravel(), y, op)\n"
     ]
    },
    {
     "name": "stdout",
     "output_type": "stream",
     "text": [
      "        Weights\n",
      "Ticker         \n",
      "F         0.207\n",
      "AMZN      0.158\n",
      "NFLX      0.076\n",
      "MTD       0.070\n",
      "BBWI      0.026\n",
      "TSLA      0.018\n",
      "PCG       0.016\n",
      "ULTA      0.013\n",
      "KO        0.012\n",
      "NEM       0.011\n"
     ]
    },
    {
     "name": "stderr",
     "output_type": "stream",
     "text": [
      "C:\\Users\\nicol\\AppData\\Local\\Packages\\PythonSoftwareFoundation.Python.3.10_qbz5n2kfra8p0\\LocalCache\\local-packages\\Python310\\site-packages\\pandas\\core\\ops\\array_ops.py:73: FutureWarning: Comparison of Timestamp with datetime.date is deprecated in order to match the standard library behavior.  In a future version these will be considered non-comparable.Use 'ts == pd.Timestamp(date)' or 'ts.date() == date' instead.\n",
      "  result = libops.scalar_compare(x.ravel(), y, op)\n"
     ]
    },
    {
     "name": "stdout",
     "output_type": "stream",
     "text": [
      "        Weights\n",
      "Ticker         \n",
      "F         0.222\n",
      "AMZN      0.084\n",
      "NFLX      0.045\n",
      "MTD       0.034\n",
      "BBWI      0.029\n",
      "AZO       0.024\n",
      "PCG       0.019\n",
      "TSLA      0.012\n",
      "DHR       0.011\n",
      "ULTA      0.011\n"
     ]
    },
    {
     "name": "stderr",
     "output_type": "stream",
     "text": [
      "C:\\Users\\nicol\\AppData\\Local\\Packages\\PythonSoftwareFoundation.Python.3.10_qbz5n2kfra8p0\\LocalCache\\local-packages\\Python310\\site-packages\\pandas\\core\\ops\\array_ops.py:73: FutureWarning: Comparison of Timestamp with datetime.date is deprecated in order to match the standard library behavior.  In a future version these will be considered non-comparable.Use 'ts == pd.Timestamp(date)' or 'ts.date() == date' instead.\n",
      "  result = libops.scalar_compare(x.ravel(), y, op)\n"
     ]
    },
    {
     "name": "stdout",
     "output_type": "stream",
     "text": [
      "        Weights\n",
      "Ticker         \n",
      "F         0.235\n",
      "DHR       0.067\n",
      "MTD       0.042\n",
      "NFLX      0.035\n",
      "AMZN      0.031\n",
      "AZO       0.028\n",
      "BBWI      0.023\n",
      "PCG       0.016\n",
      "CMG       0.010\n",
      "ULTA      0.010\n"
     ]
    },
    {
     "name": "stderr",
     "output_type": "stream",
     "text": [
      "C:\\Users\\nicol\\AppData\\Local\\Packages\\PythonSoftwareFoundation.Python.3.10_qbz5n2kfra8p0\\LocalCache\\local-packages\\Python310\\site-packages\\pandas\\core\\ops\\array_ops.py:73: FutureWarning: Comparison of Timestamp with datetime.date is deprecated in order to match the standard library behavior.  In a future version these will be considered non-comparable.Use 'ts == pd.Timestamp(date)' or 'ts.date() == date' instead.\n",
      "  result = libops.scalar_compare(x.ravel(), y, op)\n"
     ]
    },
    {
     "name": "stdout",
     "output_type": "stream",
     "text": [
      "        Weights\n",
      "Ticker         \n",
      "F         0.189\n",
      "AMZN      0.139\n",
      "DHR       0.083\n",
      "NFLX      0.020\n",
      "MTD       0.020\n",
      "BBWI      0.020\n",
      "AZO       0.017\n",
      "CMG       0.007\n",
      "HAL       0.007\n",
      "GM        0.006\n"
     ]
    },
    {
     "name": "stderr",
     "output_type": "stream",
     "text": [
      "C:\\Users\\nicol\\AppData\\Local\\Packages\\PythonSoftwareFoundation.Python.3.10_qbz5n2kfra8p0\\LocalCache\\local-packages\\Python310\\site-packages\\pandas\\core\\ops\\array_ops.py:73: FutureWarning: Comparison of Timestamp with datetime.date is deprecated in order to match the standard library behavior.  In a future version these will be considered non-comparable.Use 'ts == pd.Timestamp(date)' or 'ts.date() == date' instead.\n",
      "  result = libops.scalar_compare(x.ravel(), y, op)\n"
     ]
    },
    {
     "name": "stdout",
     "output_type": "stream",
     "text": [
      "        Weights\n",
      "Ticker         \n",
      "F         0.213\n",
      "AMZN      0.116\n",
      "DHR       0.097\n",
      "NFLX      0.025\n",
      "MTD       0.022\n",
      "BBWI      0.021\n",
      "AZO       0.020\n",
      "CMG       0.008\n",
      "KO        0.008\n",
      "ULTA      0.007\n"
     ]
    },
    {
     "name": "stderr",
     "output_type": "stream",
     "text": [
      "C:\\Users\\nicol\\AppData\\Local\\Packages\\PythonSoftwareFoundation.Python.3.10_qbz5n2kfra8p0\\LocalCache\\local-packages\\Python310\\site-packages\\pandas\\core\\ops\\array_ops.py:73: FutureWarning: Comparison of Timestamp with datetime.date is deprecated in order to match the standard library behavior.  In a future version these will be considered non-comparable.Use 'ts == pd.Timestamp(date)' or 'ts.date() == date' instead.\n",
      "  result = libops.scalar_compare(x.ravel(), y, op)\n"
     ]
    },
    {
     "name": "stdout",
     "output_type": "stream",
     "text": [
      "        Weights\n",
      "Ticker         \n",
      "F         0.184\n",
      "AMZN      0.143\n",
      "DHR       0.051\n",
      "NFLX      0.021\n",
      "PCG       0.019\n",
      "BBWI      0.016\n",
      "AZO       0.015\n",
      "TSLA      0.011\n",
      "MTD       0.010\n",
      "ULTA      0.008\n"
     ]
    },
    {
     "name": "stderr",
     "output_type": "stream",
     "text": [
      "C:\\Users\\nicol\\AppData\\Local\\Packages\\PythonSoftwareFoundation.Python.3.10_qbz5n2kfra8p0\\LocalCache\\local-packages\\Python310\\site-packages\\pandas\\core\\ops\\array_ops.py:73: FutureWarning: Comparison of Timestamp with datetime.date is deprecated in order to match the standard library behavior.  In a future version these will be considered non-comparable.Use 'ts == pd.Timestamp(date)' or 'ts.date() == date' instead.\n",
      "  result = libops.scalar_compare(x.ravel(), y, op)\n"
     ]
    },
    {
     "name": "stdout",
     "output_type": "stream",
     "text": [
      "        Weights\n",
      "Ticker         \n",
      "AMZN      0.185\n",
      "F         0.168\n",
      "NFLX      0.042\n",
      "HAL       0.028\n",
      "AZO       0.016\n",
      "EBAY      0.014\n",
      "MTD       0.012\n",
      "BBWI      0.011\n",
      "PCG       0.009\n",
      "CMG       0.008\n"
     ]
    },
    {
     "name": "stderr",
     "output_type": "stream",
     "text": [
      "C:\\Users\\nicol\\AppData\\Local\\Packages\\PythonSoftwareFoundation.Python.3.10_qbz5n2kfra8p0\\LocalCache\\local-packages\\Python310\\site-packages\\pandas\\core\\ops\\array_ops.py:73: FutureWarning: Comparison of Timestamp with datetime.date is deprecated in order to match the standard library behavior.  In a future version these will be considered non-comparable.Use 'ts == pd.Timestamp(date)' or 'ts.date() == date' instead.\n",
      "  result = libops.scalar_compare(x.ravel(), y, op)\n"
     ]
    },
    {
     "name": "stdout",
     "output_type": "stream",
     "text": [
      "        Weights\n",
      "Ticker         \n",
      "F         0.182\n",
      "AMZN      0.160\n",
      "NFLX      0.047\n",
      "PCG       0.018\n",
      "MTD       0.015\n",
      "AZO       0.014\n",
      "BBWI      0.010\n",
      "EBAY      0.010\n",
      "CMG       0.009\n",
      "KO        0.008\n"
     ]
    },
    {
     "name": "stderr",
     "output_type": "stream",
     "text": [
      "C:\\Users\\nicol\\AppData\\Local\\Packages\\PythonSoftwareFoundation.Python.3.10_qbz5n2kfra8p0\\LocalCache\\local-packages\\Python310\\site-packages\\pandas\\core\\ops\\array_ops.py:73: FutureWarning: Comparison of Timestamp with datetime.date is deprecated in order to match the standard library behavior.  In a future version these will be considered non-comparable.Use 'ts == pd.Timestamp(date)' or 'ts.date() == date' instead.\n",
      "  result = libops.scalar_compare(x.ravel(), y, op)\n"
     ]
    },
    {
     "name": "stdout",
     "output_type": "stream",
     "text": [
      "        Weights\n",
      "Ticker         \n",
      "F         0.213\n",
      "AMZN      0.088\n",
      "CAG       0.067\n",
      "NFLX      0.058\n",
      "AZO       0.016\n",
      "MTD       0.015\n",
      "CMG       0.010\n",
      "BBWI      0.009\n",
      "KO        0.007\n",
      "MO        0.007\n"
     ]
    },
    {
     "name": "stderr",
     "output_type": "stream",
     "text": [
      "C:\\Users\\nicol\\AppData\\Local\\Packages\\PythonSoftwareFoundation.Python.3.10_qbz5n2kfra8p0\\LocalCache\\local-packages\\Python310\\site-packages\\pandas\\core\\ops\\array_ops.py:73: FutureWarning: Comparison of Timestamp with datetime.date is deprecated in order to match the standard library behavior.  In a future version these will be considered non-comparable.Use 'ts == pd.Timestamp(date)' or 'ts.date() == date' instead.\n",
      "  result = libops.scalar_compare(x.ravel(), y, op)\n"
     ]
    },
    {
     "name": "stdout",
     "output_type": "stream",
     "text": [
      "        Weights\n",
      "Ticker         \n",
      "F         0.200\n",
      "AMZN      0.111\n",
      "NFLX      0.060\n",
      "BBWI      0.037\n",
      "XOM       0.036\n",
      "EBAY      0.029\n",
      "KO        0.023\n",
      "CCL       0.017\n",
      "AZO       0.015\n",
      "WFC       0.014\n"
     ]
    },
    {
     "name": "stderr",
     "output_type": "stream",
     "text": [
      "C:\\Users\\nicol\\AppData\\Local\\Packages\\PythonSoftwareFoundation.Python.3.10_qbz5n2kfra8p0\\LocalCache\\local-packages\\Python310\\site-packages\\pandas\\core\\ops\\array_ops.py:73: FutureWarning: Comparison of Timestamp with datetime.date is deprecated in order to match the standard library behavior.  In a future version these will be considered non-comparable.Use 'ts == pd.Timestamp(date)' or 'ts.date() == date' instead.\n",
      "  result = libops.scalar_compare(x.ravel(), y, op)\n"
     ]
    },
    {
     "name": "stdout",
     "output_type": "stream",
     "text": [
      "        Weights\n",
      "Ticker         \n",
      "F         0.240\n",
      "NFLX      0.060\n",
      "AMZN      0.031\n",
      "AZO       0.020\n",
      "APA       0.014\n",
      "BBWI      0.014\n",
      "CMG       0.013\n",
      "ULTA      0.009\n",
      "MTD       0.008\n",
      "MO        0.008\n"
     ]
    },
    {
     "name": "stderr",
     "output_type": "stream",
     "text": [
      "C:\\Users\\nicol\\AppData\\Local\\Packages\\PythonSoftwareFoundation.Python.3.10_qbz5n2kfra8p0\\LocalCache\\local-packages\\Python310\\site-packages\\pandas\\core\\ops\\array_ops.py:73: FutureWarning: Comparison of Timestamp with datetime.date is deprecated in order to match the standard library behavior.  In a future version these will be considered non-comparable.Use 'ts == pd.Timestamp(date)' or 'ts.date() == date' instead.\n",
      "  result = libops.scalar_compare(x.ravel(), y, op)\n"
     ]
    },
    {
     "name": "stdout",
     "output_type": "stream",
     "text": [
      "        Weights\n",
      "Ticker         \n",
      "NFLX      0.227\n",
      "F         0.156\n",
      "MTD       0.078\n",
      "AAPL      0.065\n",
      "ULTA      0.023\n",
      "AMZN      0.023\n",
      "AAP       0.014\n",
      "TDG       0.009\n",
      "BKNG      0.004\n",
      "MO        0.002\n"
     ]
    },
    {
     "name": "stderr",
     "output_type": "stream",
     "text": [
      "C:\\Users\\nicol\\AppData\\Local\\Packages\\PythonSoftwareFoundation.Python.3.10_qbz5n2kfra8p0\\LocalCache\\local-packages\\Python310\\site-packages\\pandas\\core\\ops\\array_ops.py:73: FutureWarning: Comparison of Timestamp with datetime.date is deprecated in order to match the standard library behavior.  In a future version these will be considered non-comparable.Use 'ts == pd.Timestamp(date)' or 'ts.date() == date' instead.\n",
      "  result = libops.scalar_compare(x.ravel(), y, op)\n"
     ]
    },
    {
     "name": "stdout",
     "output_type": "stream",
     "text": [
      "        Weights\n",
      "Ticker         \n",
      "F         0.270\n",
      "NFLX      0.073\n",
      "AMZN      0.043\n",
      "AZO       0.028\n",
      "MTD       0.019\n",
      "CMG       0.018\n",
      "BBWI      0.015\n",
      "ULTA      0.014\n",
      "BKNG      0.013\n",
      "TDG       0.012\n"
     ]
    },
    {
     "name": "stderr",
     "output_type": "stream",
     "text": [
      "C:\\Users\\nicol\\AppData\\Local\\Packages\\PythonSoftwareFoundation.Python.3.10_qbz5n2kfra8p0\\LocalCache\\local-packages\\Python310\\site-packages\\pandas\\core\\ops\\array_ops.py:73: FutureWarning: Comparison of Timestamp with datetime.date is deprecated in order to match the standard library behavior.  In a future version these will be considered non-comparable.Use 'ts == pd.Timestamp(date)' or 'ts.date() == date' instead.\n",
      "  result = libops.scalar_compare(x.ravel(), y, op)\n"
     ]
    },
    {
     "name": "stdout",
     "output_type": "stream",
     "text": [
      "        Weights\n",
      "Ticker         \n",
      "F         0.274\n",
      "NFLX      0.090\n",
      "AZO       0.026\n",
      "AMZN      0.023\n",
      "CMG       0.019\n",
      "BBWI      0.019\n",
      "MTD       0.018\n",
      "BKNG      0.017\n",
      "ULTA      0.015\n",
      "MO        0.013\n"
     ]
    },
    {
     "name": "stderr",
     "output_type": "stream",
     "text": [
      "C:\\Users\\nicol\\AppData\\Local\\Packages\\PythonSoftwareFoundation.Python.3.10_qbz5n2kfra8p0\\LocalCache\\local-packages\\Python310\\site-packages\\pandas\\core\\ops\\array_ops.py:73: FutureWarning: Comparison of Timestamp with datetime.date is deprecated in order to match the standard library behavior.  In a future version these will be considered non-comparable.Use 'ts == pd.Timestamp(date)' or 'ts.date() == date' instead.\n",
      "  result = libops.scalar_compare(x.ravel(), y, op)\n"
     ]
    },
    {
     "name": "stdout",
     "output_type": "stream",
     "text": [
      "        Weights\n",
      "Ticker         \n",
      "AMZN      0.187\n",
      "F         0.170\n",
      "NFLX      0.032\n",
      "AZO       0.010\n",
      "CMG       0.009\n",
      "BBWI      0.006\n",
      "BKNG      0.006\n",
      "MTD       0.006\n",
      "CHTR      0.006\n",
      "ULTA      0.006\n"
     ]
    },
    {
     "name": "stderr",
     "output_type": "stream",
     "text": [
      "C:\\Users\\nicol\\AppData\\Local\\Packages\\PythonSoftwareFoundation.Python.3.10_qbz5n2kfra8p0\\LocalCache\\local-packages\\Python310\\site-packages\\pandas\\core\\ops\\array_ops.py:73: FutureWarning: Comparison of Timestamp with datetime.date is deprecated in order to match the standard library behavior.  In a future version these will be considered non-comparable.Use 'ts == pd.Timestamp(date)' or 'ts.date() == date' instead.\n",
      "  result = libops.scalar_compare(x.ravel(), y, op)\n"
     ]
    },
    {
     "name": "stdout",
     "output_type": "stream",
     "text": [
      "        Weights\n",
      "Ticker         \n",
      "F         0.243\n",
      "AMZN      0.095\n",
      "NFLX      0.046\n",
      "BBWI      0.017\n",
      "CMG       0.014\n",
      "MTD       0.014\n",
      "AZO       0.013\n",
      "ULTA      0.010\n",
      "BKNG      0.008\n",
      "CHTR      0.008\n"
     ]
    },
    {
     "name": "stderr",
     "output_type": "stream",
     "text": [
      "C:\\Users\\nicol\\AppData\\Local\\Packages\\PythonSoftwareFoundation.Python.3.10_qbz5n2kfra8p0\\LocalCache\\local-packages\\Python310\\site-packages\\pandas\\core\\ops\\array_ops.py:73: FutureWarning: Comparison of Timestamp with datetime.date is deprecated in order to match the standard library behavior.  In a future version these will be considered non-comparable.Use 'ts == pd.Timestamp(date)' or 'ts.date() == date' instead.\n",
      "  result = libops.scalar_compare(x.ravel(), y, op)\n"
     ]
    }
   ],
   "source": [
    "# for each date in the test set calculate the return of the portfolio\n",
    "# empty list to store the returns\n",
    "returns_list = []\n",
    "# for each date in the test set\n",
    "for date in test.index.unique():\n",
    "    # calculate the optimal weights for the portfolio\n",
    "    optimal_weights_df = calculate_optimal_weights(test, date)\n",
    "    print(optimal_weights_df)\n",
    "    # calculate the return of the portfolio\n",
    "    # for the top 10 weighted stocks in the portfolio calculate their return\n",
    "    # empty list to store the returns\n",
    "    return_list = []\n",
    "    # for each stock in the portfolio\n",
    "    for ticker in optimal_weights_df.index:\n",
    "        if optimal_weights_df.loc[ticker]['Weights'] > 0:\n",
    "            # calculate the return of the stock\n",
    "            return_list.append(calculate_return(ticker, initial_df, date))\n",
    "    # Calculate the return of the portfolio\n",
    "    portfolio_return = 0\n",
    "    for i in range(len(return_list)):\n",
    "        portfolio_return += return_list[i] * optimal_weights_df.iloc[i]['Weights']\n",
    "    # append the return to the list\n",
    "    returns_list.append(round(portfolio_return,1))\n"
   ]
  },
  {
   "cell_type": "code",
   "execution_count": 264,
   "metadata": {},
   "outputs": [
    {
     "data": {
      "text/html": [
       "<div>\n",
       "<style scoped>\n",
       "    .dataframe tbody tr th:only-of-type {\n",
       "        vertical-align: middle;\n",
       "    }\n",
       "\n",
       "    .dataframe tbody tr th {\n",
       "        vertical-align: top;\n",
       "    }\n",
       "\n",
       "    .dataframe thead th {\n",
       "        text-align: right;\n",
       "    }\n",
       "</style>\n",
       "<table border=\"1\" class=\"dataframe\">\n",
       "  <thead>\n",
       "    <tr style=\"text-align: right;\">\n",
       "      <th></th>\n",
       "      <th>Portfolio 63-day Returns (%)</th>\n",
       "    </tr>\n",
       "  </thead>\n",
       "  <tbody>\n",
       "    <tr>\n",
       "      <th>2019-09-04</th>\n",
       "      <td>1.8</td>\n",
       "    </tr>\n",
       "    <tr>\n",
       "      <th>2019-09-05</th>\n",
       "      <td>0.4</td>\n",
       "    </tr>\n",
       "    <tr>\n",
       "      <th>2019-09-06</th>\n",
       "      <td>1.4</td>\n",
       "    </tr>\n",
       "    <tr>\n",
       "      <th>2019-09-09</th>\n",
       "      <td>-1.1</td>\n",
       "    </tr>\n",
       "    <tr>\n",
       "      <th>2019-09-10</th>\n",
       "      <td>0.9</td>\n",
       "    </tr>\n",
       "    <tr>\n",
       "      <th>...</th>\n",
       "      <td>...</td>\n",
       "    </tr>\n",
       "    <tr>\n",
       "      <th>2019-12-24</th>\n",
       "      <td>-13.3</td>\n",
       "    </tr>\n",
       "    <tr>\n",
       "      <th>2019-12-26</th>\n",
       "      <td>-19.0</td>\n",
       "    </tr>\n",
       "    <tr>\n",
       "      <th>2019-12-27</th>\n",
       "      <td>-17.8</td>\n",
       "    </tr>\n",
       "    <tr>\n",
       "      <th>2019-12-30</th>\n",
       "      <td>-7.0</td>\n",
       "    </tr>\n",
       "    <tr>\n",
       "      <th>2019-12-31</th>\n",
       "      <td>-11.4</td>\n",
       "    </tr>\n",
       "  </tbody>\n",
       "</table>\n",
       "<p>83 rows × 1 columns</p>\n",
       "</div>"
      ],
      "text/plain": [
       "            Portfolio 63-day Returns (%)\n",
       "2019-09-04                           1.8\n",
       "2019-09-05                           0.4\n",
       "2019-09-06                           1.4\n",
       "2019-09-09                          -1.1\n",
       "2019-09-10                           0.9\n",
       "...                                  ...\n",
       "2019-12-24                         -13.3\n",
       "2019-12-26                         -19.0\n",
       "2019-12-27                         -17.8\n",
       "2019-12-30                          -7.0\n",
       "2019-12-31                         -11.4\n",
       "\n",
       "[83 rows x 1 columns]"
      ]
     },
     "execution_count": 264,
     "metadata": {},
     "output_type": "execute_result"
    }
   ],
   "source": [
    "# Make a dataframe with the returns and dates\n",
    "returns_df = pd.DataFrame(returns_list, index=test.index.unique())\n",
    "# make the column name returns\n",
    "returns_df.columns = ['Portfolio 63-day Returns (%)']\n",
    "returns_df"
   ]
  },
  {
   "cell_type": "code",
   "execution_count": 265,
   "metadata": {},
   "outputs": [
    {
     "name": "stdout",
     "output_type": "stream",
     "text": [
      "Number of days with 0 return: 0\n"
     ]
    }
   ],
   "source": [
    "# find number of days with 0 return\n",
    "zero_return = 0\n",
    "for i in range(len(returns_df)):\n",
    "    if returns_df.iloc[i]['Portfolio 63-day Returns (%)'] == 0:\n",
    "        zero_return += 1\n",
    "print('Number of days with 0 return:', zero_return)\n"
   ]
  },
  {
   "cell_type": "code",
   "execution_count": 266,
   "metadata": {},
   "outputs": [
    {
     "name": "stdout",
     "output_type": "stream",
     "text": [
      "Average return: 1.6\n"
     ]
    }
   ],
   "source": [
    "# average return\n",
    "print('Average return:', round(returns_df.mean()[0],2))"
   ]
  },
  {
   "attachments": {},
   "cell_type": "markdown",
   "metadata": {},
   "source": [
    "SP500 return in the same period"
   ]
  },
  {
   "cell_type": "code",
   "execution_count": 267,
   "metadata": {},
   "outputs": [
    {
     "name": "stdout",
     "output_type": "stream",
     "text": [
      "[*********************100%***********************]  1 of 1 completed\n"
     ]
    },
    {
     "data": {
      "text/html": [
       "<div>\n",
       "<style scoped>\n",
       "    .dataframe tbody tr th:only-of-type {\n",
       "        vertical-align: middle;\n",
       "    }\n",
       "\n",
       "    .dataframe tbody tr th {\n",
       "        vertical-align: top;\n",
       "    }\n",
       "\n",
       "    .dataframe thead th {\n",
       "        text-align: right;\n",
       "    }\n",
       "</style>\n",
       "<table border=\"1\" class=\"dataframe\">\n",
       "  <thead>\n",
       "    <tr style=\"text-align: right;\">\n",
       "      <th></th>\n",
       "      <th>S&amp;P 500 - 3 Month Return (%)</th>\n",
       "    </tr>\n",
       "    <tr>\n",
       "      <th>Date</th>\n",
       "      <th></th>\n",
       "    </tr>\n",
       "  </thead>\n",
       "  <tbody>\n",
       "    <tr>\n",
       "      <th>2019-09-04</th>\n",
       "      <td>5.564388</td>\n",
       "    </tr>\n",
       "    <tr>\n",
       "      <th>2019-09-05</th>\n",
       "      <td>4.826721</td>\n",
       "    </tr>\n",
       "    <tr>\n",
       "      <th>2019-09-06</th>\n",
       "      <td>4.659883</td>\n",
       "    </tr>\n",
       "    <tr>\n",
       "      <th>2019-09-09</th>\n",
       "      <td>4.891873</td>\n",
       "    </tr>\n",
       "    <tr>\n",
       "      <th>2019-09-10</th>\n",
       "      <td>5.750573</td>\n",
       "    </tr>\n",
       "    <tr>\n",
       "      <th>...</th>\n",
       "      <td>...</td>\n",
       "    </tr>\n",
       "    <tr>\n",
       "      <th>2019-12-24</th>\n",
       "      <td>-22.451438</td>\n",
       "    </tr>\n",
       "    <tr>\n",
       "      <th>2019-12-26</th>\n",
       "      <td>-20.802239</td>\n",
       "    </tr>\n",
       "    <tr>\n",
       "      <th>2019-12-27</th>\n",
       "      <td>-21.194988</td>\n",
       "    </tr>\n",
       "    <tr>\n",
       "      <th>2019-12-30</th>\n",
       "      <td>-19.301937</td>\n",
       "    </tr>\n",
       "    <tr>\n",
       "      <th>2019-12-31</th>\n",
       "      <td>-22.303568</td>\n",
       "    </tr>\n",
       "  </tbody>\n",
       "</table>\n",
       "<p>83 rows × 1 columns</p>\n",
       "</div>"
      ],
      "text/plain": [
       "            S&P 500 - 3 Month Return (%)\n",
       "Date                                    \n",
       "2019-09-04                      5.564388\n",
       "2019-09-05                      4.826721\n",
       "2019-09-06                      4.659883\n",
       "2019-09-09                      4.891873\n",
       "2019-09-10                      5.750573\n",
       "...                                  ...\n",
       "2019-12-24                    -22.451438\n",
       "2019-12-26                    -20.802239\n",
       "2019-12-27                    -21.194988\n",
       "2019-12-30                    -19.301937\n",
       "2019-12-31                    -22.303568\n",
       "\n",
       "[83 rows x 1 columns]"
      ]
     },
     "execution_count": 267,
     "metadata": {},
     "output_type": "execute_result"
    }
   ],
   "source": [
    "import yfinance as yf\n",
    "from pandas_datareader import data as pdr\n",
    "# This line is needed to fix a problem with pandas_datareader\n",
    "yf.pdr_override()\n",
    "\n",
    "start_date = '2019-09-04'\n",
    "end_date = '2020-04-02'\n",
    "# \n",
    "# Get data from Yahoo Finance\n",
    "sp500 = pdr.get_data_yahoo('^GSPC', start=start_date, end=end_date)\n",
    "# we are only interested in the open price\n",
    "sp500 = sp500['Open']\n",
    "# Transform it into a dataframe\n",
    "sp500_returns = pd.DataFrame(sp500)\n",
    "# Make 'S&P 500 Index Price' the column header\n",
    "sp500_returns = sp500_returns.rename(columns={'Open': 'S&P 500 Index Price'})\n",
    "# Calculate the 3 month return for each day\n",
    "sp500_returns['S&P 500 - 3 Month Return (%)'] = sp500_returns['S&P 500 Index Price'].pct_change(periods=63).shift(-63)\n",
    "# calculating all 3-month return values by 100 to obtain percent\n",
    "sp500_returns['S&P 500 - 3 Month Return (%)'] = sp500_returns['S&P 500 - 3 Month Return (%)'] * 100\n",
    "sp500_returns.round(2)\n",
    "# remove the S&P 500 Index Price column\n",
    "sp500_returns = sp500_returns.drop(columns=['S&P 500 Index Price'])\n",
    "# removing all rows with NaN values (The last 62 days, since they don't have data for 3 months into the future)\n",
    "sp500_returns = sp500_returns.dropna()\n",
    "sp500_returns"
   ]
  },
  {
   "cell_type": "code",
   "execution_count": 268,
   "metadata": {},
   "outputs": [],
   "source": [
    "# add the returns of random monkey model as a new column\n",
    "random_monkey_returns = pd.read_csv('random_monkey_portfolio_returns.csv', index_col=0)"
   ]
  },
  {
   "cell_type": "code",
   "execution_count": 269,
   "metadata": {},
   "outputs": [],
   "source": [
    "# make random monkey index as datetime\n",
    "random_monkey_returns.index = pd.to_datetime(random_monkey_returns.index)\n"
   ]
  },
  {
   "cell_type": "code",
   "execution_count": null,
   "metadata": {},
   "outputs": [],
   "source": []
  },
  {
   "cell_type": "code",
   "execution_count": 270,
   "metadata": {},
   "outputs": [
    {
     "data": {
      "text/html": [
       "<div>\n",
       "<style scoped>\n",
       "    .dataframe tbody tr th:only-of-type {\n",
       "        vertical-align: middle;\n",
       "    }\n",
       "\n",
       "    .dataframe tbody tr th {\n",
       "        vertical-align: top;\n",
       "    }\n",
       "\n",
       "    .dataframe thead th {\n",
       "        text-align: right;\n",
       "    }\n",
       "</style>\n",
       "<table border=\"1\" class=\"dataframe\">\n",
       "  <thead>\n",
       "    <tr style=\"text-align: right;\">\n",
       "      <th></th>\n",
       "      <th>Portfolio 63-day Returns (%)</th>\n",
       "      <th>S&amp;P 500 - 3 Month Return (%)</th>\n",
       "    </tr>\n",
       "  </thead>\n",
       "  <tbody>\n",
       "    <tr>\n",
       "      <th>2019-09-04</th>\n",
       "      <td>1.8</td>\n",
       "      <td>5.6</td>\n",
       "    </tr>\n",
       "    <tr>\n",
       "      <th>2019-09-05</th>\n",
       "      <td>0.4</td>\n",
       "      <td>4.8</td>\n",
       "    </tr>\n",
       "    <tr>\n",
       "      <th>2019-09-06</th>\n",
       "      <td>1.4</td>\n",
       "      <td>4.7</td>\n",
       "    </tr>\n",
       "    <tr>\n",
       "      <th>2019-09-09</th>\n",
       "      <td>-1.1</td>\n",
       "      <td>4.9</td>\n",
       "    </tr>\n",
       "    <tr>\n",
       "      <th>2019-09-10</th>\n",
       "      <td>0.9</td>\n",
       "      <td>5.8</td>\n",
       "    </tr>\n",
       "    <tr>\n",
       "      <th>...</th>\n",
       "      <td>...</td>\n",
       "      <td>...</td>\n",
       "    </tr>\n",
       "    <tr>\n",
       "      <th>2019-12-24</th>\n",
       "      <td>-13.3</td>\n",
       "      <td>-22.5</td>\n",
       "    </tr>\n",
       "    <tr>\n",
       "      <th>2019-12-26</th>\n",
       "      <td>-19.0</td>\n",
       "      <td>-20.8</td>\n",
       "    </tr>\n",
       "    <tr>\n",
       "      <th>2019-12-27</th>\n",
       "      <td>-17.8</td>\n",
       "      <td>-21.2</td>\n",
       "    </tr>\n",
       "    <tr>\n",
       "      <th>2019-12-30</th>\n",
       "      <td>-7.0</td>\n",
       "      <td>-19.3</td>\n",
       "    </tr>\n",
       "    <tr>\n",
       "      <th>2019-12-31</th>\n",
       "      <td>-11.4</td>\n",
       "      <td>-22.3</td>\n",
       "    </tr>\n",
       "  </tbody>\n",
       "</table>\n",
       "<p>83 rows × 2 columns</p>\n",
       "</div>"
      ],
      "text/plain": [
       "            Portfolio 63-day Returns (%)  S&P 500 - 3 Month Return (%)\n",
       "2019-09-04                           1.8                           5.6\n",
       "2019-09-05                           0.4                           4.8\n",
       "2019-09-06                           1.4                           4.7\n",
       "2019-09-09                          -1.1                           4.9\n",
       "2019-09-10                           0.9                           5.8\n",
       "...                                  ...                           ...\n",
       "2019-12-24                         -13.3                         -22.5\n",
       "2019-12-26                         -19.0                         -20.8\n",
       "2019-12-27                         -17.8                         -21.2\n",
       "2019-12-30                          -7.0                         -19.3\n",
       "2019-12-31                         -11.4                         -22.3\n",
       "\n",
       "[83 rows x 2 columns]"
      ]
     },
     "execution_count": 270,
     "metadata": {},
     "output_type": "execute_result"
    }
   ],
   "source": [
    "# Combine the returns of the portfolio and the S&P 500\n",
    "combined_returns = pd.concat([returns_df, sp500_returns], axis='columns', join='inner')\n",
    "\n",
    "#combined_returns['Random Monkey Portfolio 62-day Returns (%)'] = random_monkey_returns['Random Monkey - 3 Month Return (%)']\n",
    "# make a column that shows the difference between the portfolio returns and the S&P 500 returns\n",
    "#combined_returns['Difference (%)'] = combined_returns['Portfolio 62-day Returns (%)'] - combined_returns['S&P 500 - 3 Month Return (%)']\n",
    "combined_returns.round(1)"
   ]
  },
  {
   "cell_type": "code",
   "execution_count": 271,
   "metadata": {},
   "outputs": [
    {
     "data": {
      "text/html": [
       "<div>\n",
       "<style scoped>\n",
       "    .dataframe tbody tr th:only-of-type {\n",
       "        vertical-align: middle;\n",
       "    }\n",
       "\n",
       "    .dataframe tbody tr th {\n",
       "        vertical-align: top;\n",
       "    }\n",
       "\n",
       "    .dataframe thead th {\n",
       "        text-align: right;\n",
       "    }\n",
       "</style>\n",
       "<table border=\"1\" class=\"dataframe\">\n",
       "  <thead>\n",
       "    <tr style=\"text-align: right;\">\n",
       "      <th></th>\n",
       "      <th>Portfolio 63-day Returns (%)</th>\n",
       "      <th>S&amp;P 500 - 3 Month Return (%)</th>\n",
       "      <th>Random Monkey 63-day Returns (%)</th>\n",
       "    </tr>\n",
       "  </thead>\n",
       "  <tbody>\n",
       "    <tr>\n",
       "      <th>2019-09-04</th>\n",
       "      <td>1.8</td>\n",
       "      <td>5.6</td>\n",
       "      <td>5.9</td>\n",
       "    </tr>\n",
       "    <tr>\n",
       "      <th>2019-09-05</th>\n",
       "      <td>0.4</td>\n",
       "      <td>4.8</td>\n",
       "      <td>1.5</td>\n",
       "    </tr>\n",
       "    <tr>\n",
       "      <th>2019-09-06</th>\n",
       "      <td>1.4</td>\n",
       "      <td>4.7</td>\n",
       "      <td>3.9</td>\n",
       "    </tr>\n",
       "    <tr>\n",
       "      <th>2019-09-09</th>\n",
       "      <td>-1.1</td>\n",
       "      <td>4.9</td>\n",
       "      <td>-0.8</td>\n",
       "    </tr>\n",
       "    <tr>\n",
       "      <th>2019-09-10</th>\n",
       "      <td>0.9</td>\n",
       "      <td>5.8</td>\n",
       "      <td>4.2</td>\n",
       "    </tr>\n",
       "    <tr>\n",
       "      <th>...</th>\n",
       "      <td>...</td>\n",
       "      <td>...</td>\n",
       "      <td>...</td>\n",
       "    </tr>\n",
       "    <tr>\n",
       "      <th>2019-12-24</th>\n",
       "      <td>-13.3</td>\n",
       "      <td>-22.5</td>\n",
       "      <td>-14.3</td>\n",
       "    </tr>\n",
       "    <tr>\n",
       "      <th>2019-12-26</th>\n",
       "      <td>-19.0</td>\n",
       "      <td>-20.8</td>\n",
       "      <td>-25.4</td>\n",
       "    </tr>\n",
       "    <tr>\n",
       "      <th>2019-12-27</th>\n",
       "      <td>-17.8</td>\n",
       "      <td>-21.2</td>\n",
       "      <td>-27.4</td>\n",
       "    </tr>\n",
       "    <tr>\n",
       "      <th>2019-12-30</th>\n",
       "      <td>-7.0</td>\n",
       "      <td>-19.3</td>\n",
       "      <td>-40.3</td>\n",
       "    </tr>\n",
       "    <tr>\n",
       "      <th>2019-12-31</th>\n",
       "      <td>-11.4</td>\n",
       "      <td>-22.3</td>\n",
       "      <td>-28.6</td>\n",
       "    </tr>\n",
       "  </tbody>\n",
       "</table>\n",
       "<p>83 rows × 3 columns</p>\n",
       "</div>"
      ],
      "text/plain": [
       "            Portfolio 63-day Returns (%)  S&P 500 - 3 Month Return (%)  \\\n",
       "2019-09-04                           1.8                           5.6   \n",
       "2019-09-05                           0.4                           4.8   \n",
       "2019-09-06                           1.4                           4.7   \n",
       "2019-09-09                          -1.1                           4.9   \n",
       "2019-09-10                           0.9                           5.8   \n",
       "...                                  ...                           ...   \n",
       "2019-12-24                         -13.3                         -22.5   \n",
       "2019-12-26                         -19.0                         -20.8   \n",
       "2019-12-27                         -17.8                         -21.2   \n",
       "2019-12-30                          -7.0                         -19.3   \n",
       "2019-12-31                         -11.4                         -22.3   \n",
       "\n",
       "            Random Monkey 63-day Returns (%)  \n",
       "2019-09-04                               5.9  \n",
       "2019-09-05                               1.5  \n",
       "2019-09-06                               3.9  \n",
       "2019-09-09                              -0.8  \n",
       "2019-09-10                               4.2  \n",
       "...                                      ...  \n",
       "2019-12-24                             -14.3  \n",
       "2019-12-26                             -25.4  \n",
       "2019-12-27                             -27.4  \n",
       "2019-12-30                             -40.3  \n",
       "2019-12-31                             -28.6  \n",
       "\n",
       "[83 rows x 3 columns]"
      ]
     },
     "execution_count": 271,
     "metadata": {},
     "output_type": "execute_result"
    }
   ],
   "source": [
    "# add a new column that shows the Random Monkey returns\n",
    "combined_returns['Random Monkey 63-day Returns (%)'] = random_monkey_returns['Random Monkey - 3 Month Return (%)'].copy()\n",
    "round(combined_returns,1)"
   ]
  },
  {
   "cell_type": "code",
   "execution_count": 272,
   "metadata": {},
   "outputs": [
    {
     "data": {
      "text/plain": [
       "Portfolio 63-day Returns (%)        1.597590\n",
       "S&P 500 - 3 Month Return (%)        0.979898\n",
       "Random Monkey 63-day Returns (%)    0.637349\n",
       "dtype: float64"
      ]
     },
     "execution_count": 272,
     "metadata": {},
     "output_type": "execute_result"
    }
   ],
   "source": [
    "# average return of each column\n",
    "average_return = combined_returns.mean()\n",
    "average_return\n"
   ]
  },
  {
   "cell_type": "code",
   "execution_count": 273,
   "metadata": {},
   "outputs": [
    {
     "data": {
      "text/plain": [
       "Portfolio 63-day Returns (%)         7.684685\n",
       "S&P 500 - 3 Month Return (%)        12.145304\n",
       "Random Monkey 63-day Returns (%)    14.115600\n",
       "dtype: float64"
      ]
     },
     "execution_count": 273,
     "metadata": {},
     "output_type": "execute_result"
    }
   ],
   "source": [
    "# standard deviation of each column\n",
    "standard_deviation = combined_returns.std()\n",
    "standard_deviation"
   ]
  },
  {
   "cell_type": "code",
   "execution_count": 275,
   "metadata": {},
   "outputs": [
    {
     "name": "stdout",
     "output_type": "stream",
     "text": [
      "t-statistic:  0.08\n",
      "p-value for SVM Portfolio and S&P500 returns:  0.94\n"
     ]
    }
   ],
   "source": [
    "from scipy import stats\n",
    "# calculate whether there is a significant difference between the portfolio returns and the S&P 500 returns\n",
    "# calculate the t-statistic\n",
    "t_statistic = (average_return['Portfolio 63-day Returns (%)'] - average_return['S&P 500 - 3 Month Return (%)']) / standard_deviation['Portfolio 63-day Returns (%)']\n",
    "# calculate the p-value\n",
    "p_value = stats.t.sf(np.abs(t_statistic), len(combined_returns)-1)*2\n",
    "# print the results\n",
    "print('t-statistic: ', round(t_statistic,2))\n",
    "print('p-value for SVM Portfolio and S&P500 returns: ', round(p_value,2))\n"
   ]
  },
  {
   "cell_type": "code",
   "execution_count": 276,
   "metadata": {},
   "outputs": [
    {
     "name": "stdout",
     "output_type": "stream",
     "text": [
      "t-statistic:  0.12\n",
      "p-value for SVM Portfolio and Random Monkey returns:  0.9\n"
     ]
    }
   ],
   "source": [
    "# calculate whether there is a significant difference between the portfolio returns and the S&P 500 returns\n",
    "# calculate the t-statistic\n",
    "t_statistic = (average_return['Portfolio 63-day Returns (%)'] - average_return['Random Monkey 63-day Returns (%)']) / standard_deviation['Portfolio 63-day Returns (%)']\n",
    "# calculate the p-value\n",
    "p_value = stats.t.sf(np.abs(t_statistic), len(combined_returns)-1)*2\n",
    "# print the results\n",
    "print('t-statistic: ', round(t_statistic,2))\n",
    "print('p-value for SVM Portfolio and Random Monkey returns: ', round(p_value,2))"
   ]
  },
  {
   "attachments": {},
   "cell_type": "markdown",
   "metadata": {},
   "source": [
    "__Backup-results in case it fails__:"
   ]
  },
  {
   "cell_type": "code",
   "execution_count": null,
   "metadata": {},
   "outputs": [
    {
     "data": {
      "text/html": [
       "<div>\n",
       "<style scoped>\n",
       "    .dataframe tbody tr th:only-of-type {\n",
       "        vertical-align: middle;\n",
       "    }\n",
       "\n",
       "    .dataframe tbody tr th {\n",
       "        vertical-align: top;\n",
       "    }\n",
       "\n",
       "    .dataframe thead th {\n",
       "        text-align: right;\n",
       "    }\n",
       "</style>\n",
       "<table border=\"1\" class=\"dataframe\">\n",
       "  <thead>\n",
       "    <tr style=\"text-align: right;\">\n",
       "      <th></th>\n",
       "      <th>Portfolio 62-day Returns (%)</th>\n",
       "    </tr>\n",
       "  </thead>\n",
       "  <tbody>\n",
       "    <tr>\n",
       "      <th>2019-09-05</th>\n",
       "      <td>8.0</td>\n",
       "    </tr>\n",
       "    <tr>\n",
       "      <th>2019-09-06</th>\n",
       "      <td>6.1</td>\n",
       "    </tr>\n",
       "    <tr>\n",
       "      <th>2019-09-09</th>\n",
       "      <td>5.3</td>\n",
       "    </tr>\n",
       "    <tr>\n",
       "      <th>2019-09-10</th>\n",
       "      <td>5.4</td>\n",
       "    </tr>\n",
       "    <tr>\n",
       "      <th>2019-09-11</th>\n",
       "      <td>4.2</td>\n",
       "    </tr>\n",
       "    <tr>\n",
       "      <th>...</th>\n",
       "      <td>...</td>\n",
       "    </tr>\n",
       "    <tr>\n",
       "      <th>2019-12-26</th>\n",
       "      <td>-54.0</td>\n",
       "    </tr>\n",
       "    <tr>\n",
       "      <th>2019-12-27</th>\n",
       "      <td>-50.8</td>\n",
       "    </tr>\n",
       "    <tr>\n",
       "      <th>2019-12-30</th>\n",
       "      <td>-21.6</td>\n",
       "    </tr>\n",
       "    <tr>\n",
       "      <th>2019-12-31</th>\n",
       "      <td>-21.1</td>\n",
       "    </tr>\n",
       "    <tr>\n",
       "      <th>2020-01-02</th>\n",
       "      <td>-21.6</td>\n",
       "    </tr>\n",
       "  </tbody>\n",
       "</table>\n",
       "<p>83 rows × 1 columns</p>\n",
       "</div>"
      ],
      "text/plain": [
       "            Portfolio 62-day Returns (%)\n",
       "2019-09-05                           8.0\n",
       "2019-09-06                           6.1\n",
       "2019-09-09                           5.3\n",
       "2019-09-10                           5.4\n",
       "2019-09-11                           4.2\n",
       "...                                  ...\n",
       "2019-12-26                         -54.0\n",
       "2019-12-27                         -50.8\n",
       "2019-12-30                         -21.6\n",
       "2019-12-31                         -21.1\n",
       "2020-01-02                         -21.6\n",
       "\n",
       "[83 rows x 1 columns]"
      ]
     },
     "execution_count": 214,
     "metadata": {},
     "output_type": "execute_result"
    }
   ],
   "source": [
    "# Make a dataframe with the returns and dates\n",
    "returns_df = pd.DataFrame(returns_list, index=test.index.unique())\n",
    "# make the column name returns\n",
    "returns_df.columns = ['Portfolio 62-day Returns (%)']\n",
    "returns_df"
   ]
  }
 ],
 "metadata": {
  "kernelspec": {
   "display_name": "Python 3",
   "language": "python",
   "name": "python3"
  },
  "language_info": {
   "codemirror_mode": {
    "name": "ipython",
    "version": 3
   },
   "file_extension": ".py",
   "mimetype": "text/x-python",
   "name": "python",
   "nbconvert_exporter": "python",
   "pygments_lexer": "ipython3",
   "version": "3.10.11"
  },
  "orig_nbformat": 4
 },
 "nbformat": 4,
 "nbformat_minor": 2
}
