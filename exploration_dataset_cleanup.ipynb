{
 "cells": [
  {
   "cell_type": "code",
   "execution_count": 2,
   "metadata": {},
   "outputs": [],
   "source": [
    "import pandas as pd\n",
    "from pandas.tseries.holiday import USFederalHolidayCalendar\n",
    "from pandas.tseries.offsets import CustomBusinessDay\n",
    "us_bd = CustomBusinessDay(calendar=USFederalHolidayCalendar())\n",
    "\n",
    "import numpy as np\n",
    "import matplotlib.pyplot as plt"
   ]
  },
  {
   "cell_type": "code",
   "execution_count": 3,
   "metadata": {},
   "outputs": [
    {
     "data": {
      "text/html": [
       "<div>\n",
       "<style scoped>\n",
       "    .dataframe tbody tr th:only-of-type {\n",
       "        vertical-align: middle;\n",
       "    }\n",
       "\n",
       "    .dataframe tbody tr th {\n",
       "        vertical-align: top;\n",
       "    }\n",
       "\n",
       "    .dataframe thead th {\n",
       "        text-align: right;\n",
       "    }\n",
       "</style>\n",
       "<table border=\"1\" class=\"dataframe\">\n",
       "  <thead>\n",
       "    <tr style=\"text-align: right;\">\n",
       "      <th></th>\n",
       "      <th>Ticker</th>\n",
       "      <th>Open</th>\n",
       "      <th>Low</th>\n",
       "      <th>High</th>\n",
       "      <th>Close</th>\n",
       "      <th>Volume</th>\n",
       "      <th>Sector</th>\n",
       "    </tr>\n",
       "    <tr>\n",
       "      <th>Date</th>\n",
       "      <th></th>\n",
       "      <th></th>\n",
       "      <th></th>\n",
       "      <th></th>\n",
       "      <th></th>\n",
       "      <th></th>\n",
       "      <th></th>\n",
       "    </tr>\n",
       "  </thead>\n",
       "  <tbody>\n",
       "    <tr>\n",
       "      <th>2016-01-04</th>\n",
       "      <td>MMM</td>\n",
       "      <td>148.050003</td>\n",
       "      <td>145.399994</td>\n",
       "      <td>148.320007</td>\n",
       "      <td>146.820007</td>\n",
       "      <td>3277200</td>\n",
       "      <td>Industrials</td>\n",
       "    </tr>\n",
       "    <tr>\n",
       "      <th>2016-01-05</th>\n",
       "      <td>MMM</td>\n",
       "      <td>146.820007</td>\n",
       "      <td>145.610001</td>\n",
       "      <td>147.500000</td>\n",
       "      <td>147.460007</td>\n",
       "      <td>2688100</td>\n",
       "      <td>Industrials</td>\n",
       "    </tr>\n",
       "    <tr>\n",
       "      <th>2016-01-06</th>\n",
       "      <td>MMM</td>\n",
       "      <td>145.589996</td>\n",
       "      <td>143.419998</td>\n",
       "      <td>145.759995</td>\n",
       "      <td>144.490005</td>\n",
       "      <td>2997100</td>\n",
       "      <td>Industrials</td>\n",
       "    </tr>\n",
       "    <tr>\n",
       "      <th>2016-01-07</th>\n",
       "      <td>MMM</td>\n",
       "      <td>142.520004</td>\n",
       "      <td>140.630005</td>\n",
       "      <td>143.130005</td>\n",
       "      <td>140.970001</td>\n",
       "      <td>3553500</td>\n",
       "      <td>Industrials</td>\n",
       "    </tr>\n",
       "    <tr>\n",
       "      <th>2016-01-08</th>\n",
       "      <td>MMM</td>\n",
       "      <td>141.360001</td>\n",
       "      <td>140.220001</td>\n",
       "      <td>142.500000</td>\n",
       "      <td>140.490005</td>\n",
       "      <td>2664000</td>\n",
       "      <td>Industrials</td>\n",
       "    </tr>\n",
       "  </tbody>\n",
       "</table>\n",
       "</div>"
      ],
      "text/plain": [
       "           Ticker        Open         Low        High       Close   Volume   \n",
       "Date                                                                         \n",
       "2016-01-04    MMM  148.050003  145.399994  148.320007  146.820007  3277200  \\\n",
       "2016-01-05    MMM  146.820007  145.610001  147.500000  147.460007  2688100   \n",
       "2016-01-06    MMM  145.589996  143.419998  145.759995  144.490005  2997100   \n",
       "2016-01-07    MMM  142.520004  140.630005  143.130005  140.970001  3553500   \n",
       "2016-01-08    MMM  141.360001  140.220001  142.500000  140.490005  2664000   \n",
       "\n",
       "                 Sector  \n",
       "Date                     \n",
       "2016-01-04  Industrials  \n",
       "2016-01-05  Industrials  \n",
       "2016-01-06  Industrials  \n",
       "2016-01-07  Industrials  \n",
       "2016-01-08  Industrials  "
      ]
     },
     "execution_count": 3,
     "metadata": {},
     "output_type": "execute_result"
    }
   ],
   "source": [
    "raw_stock_data = pd.read_csv('data/SP500_stock_prices.csv', index_col=0)\n",
    "raw_stock_data.head()"
   ]
  },
  {
   "cell_type": "code",
   "execution_count": 4,
   "metadata": {},
   "outputs": [],
   "source": [
    "stock_tickers = pd.Series(raw_stock_data.Ticker.unique())\n",
    "\n",
    "period = raw_stock_data.index.unique()\n",
    "period_length = period.__len__()"
   ]
  },
  {
   "attachments": {},
   "cell_type": "markdown",
   "metadata": {},
   "source": [
    "#### **Different data cleanup processes**\n",
    "1. remove nan values.\n",
    "2. make sure that using logarithm of the closing price doesnt produce a 0... (a.k.a, log(1))\n",
    "3. remove stocks that havent been in SP500 all of the period.\n",
    "4. "
   ]
  },
  {
   "cell_type": "code",
   "execution_count": 6,
   "metadata": {},
   "outputs": [],
   "source": [
    "# remove nan\n",
    "stock_data = raw_stock_data.dropna()"
   ]
  },
  {
   "cell_type": "code",
   "execution_count": 11,
   "metadata": {},
   "outputs": [
    {
     "name": "stdout",
     "output_type": "stream",
     "text": [
      "CARR 10\n",
      "CDAY 487\n",
      "CTVA 216\n",
      "DOW 262\n",
      "FTV 943\n",
      "FOXA 268\n",
      "FOX 267\n",
      "HWM 859\n",
      "IR 727\n",
      "INVH 797\n",
      "LW 852\n",
      "MRNA 331\n",
      "OTIS 10\n",
      "VICI 566\n"
     ]
    }
   ],
   "source": [
    "# remove stock tickers if their length is shorter than the period length\n",
    "tickers_to_remove = []\n",
    "\n",
    "for t in stock_tickers:\n",
    "    t_len = stock_data[stock_data['Ticker'] == t].__len__()\n",
    "    if t_len < period_length:\n",
    "        tickers_to_remove.append(t)\n",
    "        # print(t, t_len)"
   ]
  },
  {
   "cell_type": "code",
   "execution_count": 15,
   "metadata": {},
   "outputs": [
    {
     "data": {
      "text/plain": [
       "0"
      ]
     },
     "execution_count": 15,
     "metadata": {},
     "output_type": "execute_result"
    }
   ],
   "source": [
    "# remove tickers/rows where the ticker hasnt been in the data long enough according to \"tickers_to_remove\"\n",
    "stock_data = stock_data[~stock_data['Ticker'].isin(tickers_to_remove)]\n",
    "stock_data[stock_data['Ticker'] == 'VICI'].__len__() # it worked."
   ]
  },
  {
   "cell_type": "code",
   "execution_count": null,
   "metadata": {},
   "outputs": [],
   "source": []
  },
  {
   "attachments": {},
   "cell_type": "markdown",
   "metadata": {},
   "source": [
    "#### **Save the cleaned file** "
   ]
  },
  {
   "cell_type": "code",
   "execution_count": 16,
   "metadata": {},
   "outputs": [],
   "source": [
    "# save file stock data \n",
    "stock_data.to_csv('data/SP500_stock_prices_cleaned.csv')"
   ]
  }
 ],
 "metadata": {
  "kernelspec": {
   "display_name": ".venv",
   "language": "python",
   "name": "python3"
  },
  "language_info": {
   "codemirror_mode": {
    "name": "ipython",
    "version": 3
   },
   "file_extension": ".py",
   "mimetype": "text/x-python",
   "name": "python",
   "nbconvert_exporter": "python",
   "pygments_lexer": "ipython3",
   "version": "3.10.11"
  },
  "orig_nbformat": 4
 },
 "nbformat": 4,
 "nbformat_minor": 2
}
