{
 "cells": [
  {
   "cell_type": "code",
   "execution_count": null,
   "metadata": {},
   "outputs": [],
   "source": [
    "\n",
    "# put the ticker names back into the test dataset\n",
    "   \n",
    "test['Ticker'] = test['Ticker'].astype('category')\n",
    "# make y_pred and y_pred_proba a column in the test dataset\n",
    "test['Prediction'] = y_pred\n",
    "test['Prediction Probability (0)'] = y_pred_proba[:,0]\n",
    "test['Prediction Probability (1)'] = y_pred_proba[:,1]\n",
    "# only keep columns for ticker, target, and prediction\n",
    "test = test[['Ticker', 'Target', 'Prediction', 'Prediction Probability (1)', 'Prediction Probability (0)', 'Return']]\n",
    "# make the ticker column a name again\n",
    "# make a new dataframe where return is the index and each column is a ticker\n",
    "return_df = test.pivot(columns='Ticker', values='Return')\n",
    "return_df\n",
    "\n",
    "# for each ticker only keep the first row\n",
    "test = test.groupby('Ticker').head(1)\n",
    "test"
   ]
  },
  {
   "cell_type": "code",
   "execution_count": null,
   "metadata": {},
   "outputs": [],
   "source": [
    "# make a new dataframe where return is the index and each column is a ticker\n",
    "# only keep the last 10 rows\n",
    "return_deviation_precovid = return_df.head(62)\n",
    "\n",
    "return_deviation_precovid"
   ]
  },
  {
   "cell_type": "code",
   "execution_count": null,
   "metadata": {},
   "outputs": [],
   "source": [
    "# make covariance matrix of returns of the stocks\n",
    "cov_matrix_precovid =  return_deviation_precovid.cov()\n",
    "cov_matrix_precovid"
   ]
  },
  {
   "cell_type": "code",
   "execution_count": null,
   "metadata": {},
   "outputs": [],
   "source": [
    "n = len(test[\"Ticker\"])  # number of stocks\n",
    "w = cp.Variable(n)  # weights for each stock in the portfolio\n",
    "\n",
    "# Objective is to minimize portfolio variance\n",
    "risk = cp.quad_form(w, cov_matrix_precovid)\n",
    "objective = cp.Minimize(risk)\n",
    "\n",
    "# Constraints:\n",
    "# - weights must sum to 1\n",
    "# - only consider stocks where the SVM prediction is 1 (price will increase)\n",
    "# - expected portfolio return must be at least a certain value (e.g., 0.01)\n",
    "constraints = [\n",
    "    cp.sum(w) == 1,\n",
    "    w >= 0,\n",
    "    w[test[\"Prediction\"] == 0] == 0,\n",
    "    w.T @ test[\"Prediction Probability (1)\"] >= 0.01\n",
    "]\n",
    "\n",
    "# Solve the optimization problem\n",
    "problem = cp.Problem(objective, constraints)\n",
    "problem.solve()\n",
    "\n",
    "# Get the optimal weights\n",
    "optimal_weights = w.value"
   ]
  },
  {
   "cell_type": "code",
   "execution_count": null,
   "metadata": {},
   "outputs": [],
   "source": [
    "# put the optimal weights into a dataframe with the tickers\n",
    "optimal_weights_df = pd.DataFrame(optimal_weights, index=test[\"Ticker\"])\n",
    "optimal_weights_df\n",
    "# add the ticer names to the dataframe\n",
    "optimal_weights_df = optimal_weights_df.join(df)\n",
    "# remove the index\n",
    "optimal_weights_df = optimal_weights_df.reset_index(drop=True)\n",
    "# make the ticker the index\n",
    "optimal_weights_df = optimal_weights_df.set_index('Ticker')\n",
    "# make the column name weights\n",
    "optimal_weights_df.columns = ['Weights']\n",
    "# sort the dataframe by the optimal weights\n",
    "optimal_weights_df = optimal_weights_df.sort_values(by=['Weights'], ascending=False)\n",
    "optimal_weights_df"
   ]
  },
  {
   "cell_type": "code",
   "execution_count": null,
   "metadata": {},
   "outputs": [],
   "source": [
    "# only keep the top 7 stocks and their weights\n",
    "optimal_weights_df = optimal_weights_df.head(7)\n",
    "optimal_weights_df"
   ]
  },
  {
   "cell_type": "code",
   "execution_count": null,
   "metadata": {},
   "outputs": [],
   "source": [
    "sum(optimal_weights_df['Weights'])"
   ]
  },
  {
   "cell_type": "code",
   "execution_count": null,
   "metadata": {},
   "outputs": [],
   "source": [
    "# S&P 500 index return in the period:\n",
    "start_p = 2960.60\n",
    "end_p = 3087.41\n",
    "# calculate the return in percent\n",
    "sp_return = (end_p - start_p) / start_p * 100\n",
    "sp_return"
   ]
  },
  {
   "cell_type": "code",
   "execution_count": null,
   "metadata": {},
   "outputs": [],
   "source": [
    "# Dictionary with buy price for each stock\n",
    "buy_price = {'AMZN': 91.10, 'WFC': 47.31, 'MO': 44.55, 'BA': 360.14,'ADM': 38.50, 'F': 9.25, 'TSLA': 14.83}\n",
    "# Dictionary with sell price for each stock\n",
    "sell_price = {'AMZN': 88.00, 'WFC': 53.01, 'MO': 50.46, 'BA': 352.09,'ADM': 42.89, 'F': 8.95, 'TSLA': 22.17}\n",
    "\n",
    "# Calculate the return for each stock of the dictioniary in percent\n",
    "return_dict = {}\n",
    "for key in buy_price.keys():\n",
    "    return_dict[key] = (sell_price[key] - buy_price[key]) / buy_price[key] * 100\n",
    "return_dict"
   ]
  },
  {
   "cell_type": "code",
   "execution_count": null,
   "metadata": {},
   "outputs": [],
   "source": [
    "# Calculate the return of the portfolio\n",
    "portfolio_return = 0\n",
    "for key in optimal_weights_df.index:\n",
    "    portfolio_return += return_dict[key] * optimal_weights_df.loc[key]['Weights']\n",
    "\n",
    "print(f'The return of the portfolio is: {round(portfolio_return,2)}%\\nThis is compared to a return of {round(sp_return,2)}% for the S&P 500 index in the same period.')"
   ]
  },
  {
   "cell_type": "code",
   "execution_count": null,
   "metadata": {},
   "outputs": [],
   "source": [
    "# We will find 3 month return for the SP500 for each day in the testing period:"
   ]
  },
  {
   "cell_type": "code",
   "execution_count": 33,
   "metadata": {},
   "outputs": [
    {
     "name": "stdout",
     "output_type": "stream",
     "text": [
      "[*********************100%***********************]  1 of 1 completed\n"
     ]
    }
   ],
   "source": [
    "import pandas as pd\n",
    "from pandas_datareader import data as pdr\n",
    "import yfinance as yf\n",
    "\n",
    "# This line is needed to fix a problem with pandas_datareader\n",
    "yf.pdr_override()\n",
    "\n",
    "start_date = '2019-01-01'\n",
    "end_date = '2020-04-03'\n",
    "# \n",
    "# Get data from Yahoo Finance\n",
    "sp500 = pdr.get_data_yahoo('^GSPC', start=start_date, end=end_date)\n",
    "# we are only interested in the open price\n",
    "sp500 = sp500['Open']\n",
    "# Transform it into a dataframe\n",
    "sp500_returns = pd.DataFrame(sp500)\n",
    "# Make 'S&P 500 Index Price' the column header\n",
    "sp500_returns = sp500_returns.rename(columns={'Open': 'S&P 500 Index Price'})\n",
    "# Calculate the 3 month return for each day\n",
    "sp500_returns['3 Month Return (%)'] = sp500_returns['S&P 500 Index Price'].pct_change(periods=62).shift(-62)\n",
    "# calculating all 3-month return values by 100 to obtain percent\n",
    "sp500_returns['3 Month Return (%)'] = sp500_returns['3 Month Return (%)'] * 100\n",
    "sp500_returns.round(2)\n",
    "# remove the S&P 500 Index Price column\n",
    "sp500_returns = sp500_returns.drop(columns=['S&P 500 Index Price'])\n",
    "# removing all rows with NaN values (The last 62 days, since they don't have data for 3 months into the future)\n",
    "sp500_returns = sp500_returns.dropna()\n"
   ]
  },
  {
   "cell_type": "code",
   "execution_count": null,
   "metadata": {},
   "outputs": [],
   "source": [
    "#non-working version:\n",
    "import cvxpy as cp\n",
    "import pandas as pd\n",
    "\n",
    "def calculate_optimal_weights(test, date, y_pred, y_pred_proba,ticker_symbols):\n",
    "    # only keep the rows of a specific date\n",
    "    # make a date be of type datetime\n",
    "    date = pd.to_datetime(date)\n",
    "    \n",
    "    df_date = test.copy()\n",
    "    print(df_date['Ticker'].unique().shape)\n",
    "\n",
    "\n",
    "    # Add the predictions and prediction probabilities to the dataframe\n",
    "    df_date['Prediction'] = y_pred\n",
    "    df_date['Prediction Probability (0)'] = y_pred_proba[:,0]\n",
    "    df_date['Prediction Probability (1)'] = y_pred_proba[:,1]\n",
    "    \n",
    "   # only keep columns for ticker, target, and prediction\n",
    "    df_date = df_date[['Ticker', 'Target', 'Prediction', 'Prediction Probability (1)', 'Prediction Probability (0)', 'Return']]\n",
    "    print(df_date['Ticker'].unique().shape)\n",
    "    # Create a dataframe with return as the index and each column as a ticker\n",
    "    return_df = df_date.pivot(columns='Ticker', values='Return')\n",
    "    print(return_df)\n",
    "    return_deviation = return_df.head(62)\n",
    "    print(return_deviation)\n",
    "    # Filter the dataframe for the given date\n",
    "    #df_date = df_date[df_date.index == date]\n",
    "    df_date = df_date[pd.DatetimeIndex(df_date.index).date == date]\n",
    "    print(return_deviation.shape, df_date.shape, return_deviation)\n",
    "\n",
    "\n",
    "    \n",
    "\n",
    "    # Calculate the covariance matrix\n",
    "    cov_matrix = return_deviation.cov()\n",
    "    # Force the covariance matrix to be symmetric\n",
    "    cov_matrix = (cov_matrix + cov_matrix.T) / 2\n",
    "    cov_matrix = cov_matrix.round(10)\n",
    "\n",
    "    print(cov_matrix, cov_matrix.shape)\n",
    "    # Number of stocks\n",
    "    #n = len(df_date[\"Ticker\"])\n",
    "    n = len(ticker_symbols)\n",
    "\n",
    "    # Weights for each stock in the portfolio\n",
    "    w = cp.Variable(n)\n",
    "    #print(w.shape, cov_matrix.shape,n)\n",
    "    # Objective is to minimize portfolio variance\n",
    "    risk = cp.quad_form(w, cov_matrix)\n",
    "    objective = cp.Minimize(risk)\n",
    "\n",
    "    # Constraints:\n",
    "    # - weights must sum to 1\n",
    "    # - only consider stocks where the SVM prediction is 1 (price will increase)\n",
    "    # - expected portfolio return must be at least a certain value (e.g., 0.01)\n",
    "    constraints = [\n",
    "        cp.sum(w) == 1,\n",
    "        w >= 0,\n",
    "        w[df_date[\"Prediction\"] == 0] == 0,\n",
    "        w.T @ df_date[\"Prediction Probability (1)\"] >= 0.05\n",
    "    ]\n",
    "    \n",
    "\n",
    "    # Solve the optimization problem\n",
    "    problem = cp.Problem(objective, constraints)\n",
    "    problem.solve()\n",
    "\n",
    "    # Get the optimal weights\n",
    "    optimal_weights = w.value\n",
    "\n",
    "    # Create a dataframe with the optimal weights\n",
    "    optimal_weights_df = pd.DataFrame(optimal_weights, index=df_date[\"Ticker\"])\n",
    "    # add the ticker names to the dataframe\n",
    "    optimal_weights_df = optimal_weights_df.join(ticker_name_df)\n",
    "    # remove the index\n",
    "    optimal_weights_df = optimal_weights_df.reset_index(drop=True)\n",
    "    # make the ticker the index\n",
    "    optimal_weights_df = optimal_weights_df.set_index('Ticker')\n",
    "    # make the column name weights\n",
    "    optimal_weights_df.columns = ['Weights']\n",
    "   \n",
    "\n",
    "\n",
    "    # Sort the dataframe by the optimal weights\n",
    "    optimal_weights_df = optimal_weights_df.sort_values(by=['Weights'], ascending=False)\n",
    "\n",
    "    # Only keep the top 10 stocks and their weights\n",
    "    optimal_weights_df = optimal_weights_df.head(10)\n",
    "\n",
    "    return round(optimal_weights_df,3)\n"
   ]
  }
 ],
 "metadata": {
  "kernelspec": {
   "display_name": "Python 3",
   "language": "python",
   "name": "python3"
  },
  "language_info": {
   "codemirror_mode": {
    "name": "ipython",
    "version": 3
   },
   "file_extension": ".py",
   "mimetype": "text/x-python",
   "name": "python",
   "nbconvert_exporter": "python",
   "pygments_lexer": "ipython3",
   "version": "3.10.11"
  },
  "orig_nbformat": 4
 },
 "nbformat": 4,
 "nbformat_minor": 2
}
