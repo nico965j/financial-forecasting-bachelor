{
 "cells": [
  {
   "cell_type": "code",
   "execution_count": 9,
   "metadata": {},
   "outputs": [
    {
     "name": "stdout",
     "output_type": "stream",
     "text": [
      "Requirement already satisfied: yahoofinancials in c:\\users\\nicol\\appdata\\local\\packages\\pythonsoftwarefoundation.python.3.10_qbz5n2kfra8p0\\localcache\\local-packages\\python310\\site-packages (1.14)\n",
      "Requirement already satisfied: requests>=2.26 in c:\\users\\nicol\\appdata\\local\\packages\\pythonsoftwarefoundation.python.3.10_qbz5n2kfra8p0\\localcache\\local-packages\\python310\\site-packages (from yahoofinancials) (2.28.2)\n",
      "Requirement already satisfied: pytz in c:\\users\\nicol\\appdata\\local\\packages\\pythonsoftwarefoundation.python.3.10_qbz5n2kfra8p0\\localcache\\local-packages\\python310\\site-packages (from yahoofinancials) (2022.7.1)\n",
      "Requirement already satisfied: urllib3<1.27,>=1.21.1 in c:\\users\\nicol\\appdata\\local\\packages\\pythonsoftwarefoundation.python.3.10_qbz5n2kfra8p0\\localcache\\local-packages\\python310\\site-packages (from requests>=2.26->yahoofinancials) (1.26.14)\n",
      "Requirement already satisfied: charset-normalizer<4,>=2 in c:\\users\\nicol\\appdata\\local\\packages\\pythonsoftwarefoundation.python.3.10_qbz5n2kfra8p0\\localcache\\local-packages\\python310\\site-packages (from requests>=2.26->yahoofinancials) (3.0.1)\n",
      "Requirement already satisfied: certifi>=2017.4.17 in c:\\users\\nicol\\appdata\\local\\packages\\pythonsoftwarefoundation.python.3.10_qbz5n2kfra8p0\\localcache\\local-packages\\python310\\site-packages (from requests>=2.26->yahoofinancials) (2022.12.7)\n",
      "Requirement already satisfied: idna<4,>=2.5 in c:\\users\\nicol\\appdata\\local\\packages\\pythonsoftwarefoundation.python.3.10_qbz5n2kfra8p0\\localcache\\local-packages\\python310\\site-packages (from requests>=2.26->yahoofinancials) (3.4)\n"
     ]
    },
    {
     "name": "stderr",
     "output_type": "stream",
     "text": [
      "C:\\Users\\nicol\\AppData\\Local\\Temp\\ipykernel_25924\\3161807528.py:15: MatplotlibDeprecationWarning: The seaborn styles shipped by Matplotlib are deprecated since 3.6, as they no longer correspond to the styles shipped by seaborn. However, they will remain available as 'seaborn-v0_8-<style>'. Alternatively, directly use the seaborn API instead.\n",
      "  plt.style.use('seaborn')\n"
     ]
    }
   ],
   "source": [
    "!pip install yahoofinancials\n",
    "from yahoofinancials import YahooFinancials\n",
    "import numpy as np\n",
    "import tensorflow as tf\n",
    "from tensorflow import keras\n",
    "from tensorflow.keras import layers\n",
    "from keras.layers import Flatten\n",
    "from keras import backend as K\n",
    "from sklearn.preprocessing import MinMaxScaler\n",
    "from sklearn.metrics import mean_squared_error\n",
    "import sqlite3\n",
    "import pandas as pd\n",
    "import math\n",
    "import matplotlib.pyplot as plt\n",
    "plt.style.use('seaborn')\n",
    "from datetime import datetime"
   ]
  },
  {
   "cell_type": "code",
   "execution_count": 10,
   "metadata": {},
   "outputs": [],
   "source": [
    "#For reproducability\n",
    "from numpy.random import seed\n",
    "seed(1)\n",
    "tf.random.set_seed(2)"
   ]
  },
  {
   "cell_type": "code",
   "execution_count": 11,
   "metadata": {},
   "outputs": [],
   "source": [
    "# Some functions to help out with\n",
    "def plot_predictions(test,predicted,symbol):\n",
    "    plt.plot(test, color='red',label=f'Real {symbol} Stock Price')\n",
    "    plt.plot(predicted, color='blue',label=f'Predicted {symbol} Stock Price')\n",
    "    plt.title(f'{symbol} Stock Price Prediction')\n",
    "    plt.xlabel('Time')\n",
    "    plt.ylabel(f'{symbol} Stock Price')\n",
    "    plt.legend()\n",
    "    plt.show()\n",
    "\n",
    "def plot_return_predictions(test,predicted,symbol):\n",
    "    plt.plot(test, color='red',label=f'Real {symbol} Stock Price Returns')\n",
    "    plt.plot(predicted, color='blue',label=f'Predicted {symbol} Stock Price Return')\n",
    "    plt.title(f'{symbol} Stock Return Prediction')\n",
    "    plt.xlabel('Time')\n",
    "    plt.ylabel(f'{symbol} Stock Price Returns')\n",
    "    plt.legend()\n",
    "    plt.show()\n",
    "    \n",
    "def return_rmse(test,predicted):\n",
    "    rmse = math.sqrt(mean_squared_error(test, predicted))\n",
    "    print(\"The root mean squared error is {}.\".format(rmse))\n",
    "    return rmse\n",
    "\n",
    "def get_ticker_data(ticker: str, param_start_date, param_end_date) -> dict:\n",
    "    raw_data = YahooFinancials(ticker)\n",
    "    return raw_data.get_historical_price_data(param_start_date, param_end_date, \"daily\").copy()\n",
    "\n",
    "def fetch_ticker_data(ticker: str, start_date, end_date) -> pd.DataFrame:\n",
    "    date_range = pd.bdate_range(start=start_date, end=end_date)\n",
    "    values = pd.DataFrame({'Date': date_range})\n",
    "    values['Date'] = pd.to_datetime(values['Date'])\n",
    "    raw_data = get_ticker_data(ticker, start_date, end_date)\n",
    "    return pd.DataFrame(raw_data[ticker][\"prices\"])[['date', 'open', 'high', 'low', 'close', 'volume']]\n",
    "\n",
    "def shift(xs, n):\n",
    "    e = np.empty_like(xs)\n",
    "    if n >= 0:\n",
    "        e[:n] = np.nan\n",
    "        e[n:] = xs[:-n]\n",
    "    else:\n",
    "        e[n:] = np.nan\n",
    "        e[:n] = xs[-n:]\n",
    "    return e\n",
    "\n",
    "#Scaled Exponentially-Regularized Linear Unit to try out - if anyone can make this work, let me know.\n",
    "\n",
    "# def serlu(x, lambdaa=1.07862, alphaa=2.90427):\n",
    "#     result = tf.cond(x >= 0, lambda: tf.math.multiply(lambdaa, x), lambda: tf.math.multiply(lambdaa, alphaa, x, tf.exp(x)))\n",
    "#     return result"
   ]
  },
  {
   "attachments": {},
   "cell_type": "markdown",
   "metadata": {},
   "source": [
    "# Get the Data"
   ]
  },
  {
   "cell_type": "code",
   "execution_count": 16,
   "metadata": {},
   "outputs": [
    {
     "data": {
      "text/plain": [
       "DateTime\n",
       "2023-04-05 15:30:00    284.339996\n",
       "2023-04-06 15:30:00    291.600006\n",
       "2023-04-10 15:30:00    289.390015\n",
       "2023-04-11 15:30:00    282.829987\n",
       "2023-04-12 15:30:00    283.489990\n",
       "Name: Close, dtype: float64"
      ]
     },
     "execution_count": 16,
     "metadata": {},
     "output_type": "execute_result"
    }
   ],
   "source": [
    "# # Choose a stock symbol\n",
    "symbol_to_fetch = 'MSFT'\n",
    "# Choose a date range\n",
    "start_date = '2017-01-01'\n",
    "end_date = datetime.now().strftime('%Y-%m-%d')\n",
    "# Get Stock Price Data\n",
    "stock = fetch_ticker_data(symbol_to_fetch, start_date, end_date)\n",
    "stock.columns = ['DateTime', 'Open', 'High', 'Low', 'Close', 'Volume']\n",
    "stock['DateTime'] = stock['DateTime'].apply(lambda x: datetime.fromtimestamp(x))\n",
    "stock = stock.fillna(method=\"ffill\", axis=0)\n",
    "stock = stock.fillna(method=\"bfill\", axis=0)\n",
    "stock = stock.set_index('DateTime')\n",
    "# stock['return'] = stock['Close'].pct_change(1)\n",
    "# for i in stock.index[1:]:\n",
    "#     if (stock['return'].iloc[i] > 0 and stock['return'].iloc[i-1] < 0) or (stock['return'].iloc[i] < 0 and stock['return'].iloc[i-1] > 0):\n",
    "#         stock['reversal'].iloc[i] = 1\n",
    "#     else:\n",
    "#         stock['reversal'].iloc[i] = 0\n",
    "stock['Symbol'] = symbol_to_fetch\n",
    "stock.tail()\n",
    "#save a copy for later testing\n",
    "original_stock = stock\n",
    "original_symbol = symbol_to_fetch\n",
    "\n",
    "stock['Close'].tail()"
   ]
  },
  {
   "cell_type": "code",
   "execution_count": 17,
   "metadata": {},
   "outputs": [],
   "source": [
    "# Choose a stock symbol\n",
    "symbol_to_fetch = 'MSFT'\n",
    "# Choose a date range\n",
    "start_date = str(datetime(2017, 1, 1).date())\n",
    "end_date = str(datetime(2021, 2, 18).date())\n",
    "# end_date = datetime.now().strftime('%Y-%m-%d'"
   ]
  },
  {
   "cell_type": "code",
   "execution_count": 18,
   "metadata": {},
   "outputs": [
    {
     "name": "stdout",
     "output_type": "stream",
     "text": [
      "(1510, 1)\n",
      "(69, 1)\n"
     ]
    }
   ],
   "source": [
    "# We have chosen the target as 'Close' attribute for prices. Let's see what it looks like\n",
    "target = 'Close' # this is accessed by .iloc[:,3:4].values below\n",
    "train_start_date = start_date\n",
    "train_end_date = '2022-12-31'\n",
    "test_start_date = '2023-01-01'\n",
    "training_set = stock[train_start_date:train_end_date].iloc[:,3:4].values \n",
    "test_set = stock[test_start_date:].iloc[:,3:4].values\n",
    "\n",
    "test_set_return = stock[test_start_date:].iloc[:,3:4].pct_change().values\n",
    "#log_return_test = np.log(test_set_return)\n",
    "\n",
    "print(training_set.shape)\n",
    "print(test_set.shape)"
   ]
  },
  {
   "cell_type": "code",
   "execution_count": 19,
   "metadata": {},
   "outputs": [],
   "source": [
    "# Define S&P500 tickers\n",
    "tickers_url = 'https://en.wikipedia.org/wiki/List_of_S%26P_500_companies'\n",
    "tickers_table = pd.read_html(tickers_url, header=0)[0]\n",
    "tickers = tickers_table['Symbol'].tolist()\n",
    "\n",
    "# save tickers as a csv file\n",
    "tickers_table.to_csv('sp500_tickers.csv')\n",
    "# save tickers as a sqlite database\n",
    "conn = sqlite3.connect('sp500_tickers.db')"
   ]
  },
  {
   "cell_type": "code",
   "execution_count": 18,
   "metadata": {},
   "outputs": [
    {
     "name": "stdout",
     "output_type": "stream",
     "text": [
      "(58383, 1)\n"
     ]
    }
   ],
   "source": [
    "import sqlite3\n",
    "import numpy as np\n",
    "from datetime import datetime\n",
    "\n",
    "# Connect to the SQLite database\n",
    "conn = sqlite3.connect('stock.db')\n",
    "cursor = conn.cursor()\n",
    "\n",
    "# Define the start and end dates of the training set\n",
    "train_start_date = '2023-01-03'\n",
    "train_end_date = '2023-02-28'\n",
    "\n",
    "# Retrieve the data from the database\n",
    "cursor.execute(\"SELECT * FROM stocks\")\n",
    "rows = cursor.fetchall()\n",
    "\n",
    "training_set = None\n",
    "\n",
    "# Loop through each row in the result set\n",
    "for row in rows:\n",
    "    try:\n",
    "        date_str = row[0]\n",
    "        date_obj = datetime.strptime(date_str, '%Y-%m-%d')\n",
    "        ticker = row[1]\n",
    "        open_price = row[2]\n",
    "        low_price = row[3]\n",
    "        high_price = row[4]\n",
    "        close_price = row[5]\n",
    "        volume = row[6]\n",
    "        sector = row[7]\n",
    "        pe_ratio = row[8]\n",
    "        \n",
    "        # Check if the date is within the training range\n",
    "        if train_start_date <= date_str <= train_end_date:\n",
    "            new_training_set = np.array([[close_price]])\n",
    "            if training_set is None:\n",
    "                training_set = new_training_set\n",
    "            else:\n",
    "                training_set = np.concatenate([training_set, new_training_set], axis=0)\n",
    "    except:\n",
    "        continue\n",
    "\n",
    "print(training_set.shape)\n",
    "\n",
    "\n"
   ]
  },
  {
   "cell_type": "code",
   "execution_count": 19,
   "metadata": {},
   "outputs": [
    {
     "data": {
      "text/plain": [
       "array([[122.47000122],\n",
       "       [125.15000153],\n",
       "       [122.95999908],\n",
       "       ...,\n",
       "       [166.33000183],\n",
       "       [165.47000122],\n",
       "       [167.        ]])"
      ]
     },
     "execution_count": 19,
     "metadata": {},
     "output_type": "execute_result"
    }
   ],
   "source": [
    "training_set"
   ]
  },
  {
   "cell_type": "code",
   "execution_count": 1,
   "metadata": {},
   "outputs": [
    {
     "name": "stdout",
     "output_type": "stream",
     "text": [
      "(58383, 6)\n"
     ]
    }
   ],
   "source": [
    "import sqlite3\n",
    "import numpy as np\n",
    "from datetime import datetime\n",
    "import matplotlib.pyplot as plt\n",
    "\n",
    "# Connect to the SQLite database\n",
    "conn = sqlite3.connect('stock.db')\n",
    "cursor = conn.cursor()\n",
    "\n",
    "# Define the start and end dates of the training set\n",
    "train_start_date = '2023-01-03'\n",
    "train_end_date = '2023-02-28'\n",
    "\n",
    "# Define the start date of the test set\n",
    "test_start_date = '2023-03-01'\n",
    "\n",
    "# Retrieve the data from the database\n",
    "cursor.execute(\"SELECT date, ticker, open, low, high, close, volume, sector, pe_ratio FROM stocks\")\n",
    "rows = cursor.fetchall()\n",
    "\n",
    "training_set = None\n",
    "\n",
    "# Loop through each row in the result set\n",
    "for row in rows:\n",
    "    try:\n",
    "        date_str = row[0]\n",
    "        date_obj = datetime.strptime(date_str, '%Y-%m-%d')\n",
    "        ticker = row[1]\n",
    "        open_price = row[2]\n",
    "        low_price = row[3]\n",
    "        high_price = row[4]\n",
    "        close_price = row[5]\n",
    "        volume = row[6]\n",
    "        sector = row[7]\n",
    "        pe_ratio = row[8]\n",
    "        \n",
    "        # Check if the date is within the training range\n",
    "        if train_start_date <= date_str <= train_end_date:\n",
    "            new_training_set = np.array([[ticker, open_price, low_price, high_price, close_price, pe_ratio]])\n",
    "            if training_set is None:\n",
    "                training_set = new_training_set\n",
    "            else:\n",
    "                training_set = np.concatenate([training_set, new_training_set], axis=0)\n",
    "    except:\n",
    "        continue\n",
    "\n",
    "print(training_set.shape)\n",
    "\n"
   ]
  },
  {
   "cell_type": "code",
   "execution_count": 3,
   "metadata": {},
   "outputs": [
    {
     "data": {
      "text/plain": [
       "array([['MMM', '121.5199966430664', '120.37000274658205',\n",
       "        '122.63999938964844', '122.47000122070312', '12.066009972483066'],\n",
       "       ['MMM', '123.3499984741211', '122.70999908447266',\n",
       "        '125.29000091552734', '125.1500015258789', '12.33004941141664'],\n",
       "       ['MMM', '124.20999908447266', '122.45999908447266',\n",
       "        '124.56999969482422', '122.95999908447266', '12.114285624085976'],\n",
       "       ...,\n",
       "       ['ZTS', '167.0', '163.91000366210938', '168.07000732421875',\n",
       "        '166.3300018310547', '36.96222262912326'],\n",
       "       ['ZTS', '168.0', '164.99000549316406', '168.41000366210938',\n",
       "        '165.47000122070312', '36.77111138237847'],\n",
       "       ['ZTS', '165.1999969482422', '165.0399932861328',\n",
       "        '168.5500030517578', '167.0', '37.111111111111114']], dtype='<U32')"
      ]
     },
     "execution_count": 3,
     "metadata": {},
     "output_type": "execute_result"
    }
   ],
   "source": [
    "training_set"
   ]
  },
  {
   "cell_type": "code",
   "execution_count": 5,
   "metadata": {},
   "outputs": [
    {
     "data": {
      "image/png": "[encoded data removed]",
      "text/plain": [
       "<Figure size 1600x400 with 1 Axes>"
      ]
     },
     "metadata": {},
     "output_type": "display_data"
    }
   ],
   "source": [
    "# Define the target stock to plot\n",
    "target = 'AAPL'\n",
    "\n",
    "# Plot the training and test sets\n",
    "cursor.execute(f\"SELECT date, * FROM stocks WHERE date BETWEEN '{train_start_date}' AND '{train_end_date}'\")\n",
    "train_data = cursor.fetchall()\n",
    "train_data = np.array(train_data)\n",
    "\n",
    "cursor.execute(f\"SELECT date, * FROM stocks WHERE date >= '{test_start_date}'\")\n",
    "test_data = cursor.fetchall()\n",
    "test_data = np.array(test_data)\n",
    "\n",
    "plt.figure(figsize=(16,4))\n",
    "plt.plot(train_data[:,0], train_data[:,1], label=f'Training set (Before {train_end_date})')\n",
    "plt.plot(test_data[:,0], test_data[:,1], label=f'Test set ({test_start_date} and beyond)')\n",
    "plt.legend()\n",
    "plt.title(f'{target} stock price')\n",
    "plt.show()\n"
   ]
  },
  {
   "cell_type": "code",
   "execution_count": 21,
   "metadata": {},
   "outputs": [
    {
     "name": "stdout",
     "output_type": "stream",
     "text": [
      "(1510, 1)\n"
     ]
    }
   ],
   "source": [
    "# #let's try adding multiple stocks in the training set... Like everything in the SPY holdings to see if that improves our target\n",
    "#connection = sqlite3.connect('sp500_tickers.db')\n",
    "#connection.row_factory = sqlite3.Row\n",
    "#cursor = connection.cursor()\n",
    "#cursor.execute('MMM','AAPL','KO','MSFT','NVDA')\n",
    "#cursor.execute(\"\"\"\n",
    " #    SELECT symbol FROM sp500_tickers\n",
    "# \"\"\")\n",
    "#rows = cursor.fetchall()\n",
    "import pandas as pd\n",
    "import sqlite3\n",
    "\n",
    "# Connect to the database\n",
    "connection = sqlite3.connect('sp500_tickers.db')\n",
    "\n",
    "# Get the S&P 500 tickers from Wikipedia\n",
    "url = 'https://en.wikipedia.org/wiki/List_of_S%26P_500_companies'\n",
    "table = pd.read_html(url)[0]\n",
    "tickers = table['Symbol'].tolist()\n",
    "\n",
    "# Create the table\n",
    "#cursor = connection.cursor()\n",
    "#cursor.execute(\"CREATE TABLE sp500_tickers (symbol TEXT)\")\n",
    "\n",
    "# Insert the tickers into the table\n",
    "for ticker in tickers:\n",
    "    cursor.execute(\"INSERT INTO sp500_tickers VALUES (?)\", (ticker,))\n",
    "connection.commit()\n",
    "\n",
    "# Close the connection\n",
    "connection.close()\n",
    "rows = cursor.fetchall()\n",
    "for row in rows:\n",
    "     try:\n",
    "         symbol = row['symbol']\n",
    "         print (symbol)\n",
    "         symbol_to_fetch = symbol\n",
    "         stock = fetch_ticker_data(symbol_to_fetch, start_date, end_date)\n",
    "         stock.columns = ['DateTime', 'Open', 'High', 'Low', 'Close', 'Volume']\n",
    "         stock['DateTime'] = stock['DateTime'].apply(lambda x: datetime.fromtimestamp(x))\n",
    "         stock = stock.fillna(method=\"ffill\", axis=0)\n",
    "         stock = stock.fillna(method=\"bfill\", axis=0)\n",
    "         stock = stock.set_index('DateTime')\n",
    "         new_training_set = stock[train_start_date:train_end_date].iloc[:,3:4].values\n",
    "         frames = [training_set, new_training_set]\n",
    "         training_set = np.concatenate(frames, axis = 0)\n",
    "     except:\n",
    "         continue\n",
    "print(training_set.shape)\n",
    "# # This works best with a TPU and trains very fast so only around 10 epochs needed due to the 1.8 million sample.\n",
    "# # Also it is possible to sort by sector - just add (WHERE sector = 'Information Technology') under\n",
    "# # the SELECT line."
   ]
  },
  {
   "cell_type": "code",
   "execution_count": 20,
   "metadata": {},
   "outputs": [
    {
     "ename": "OperationalError",
     "evalue": "no such column: AAPL",
     "output_type": "error",
     "traceback": [
      "\u001b[1;31m---------------------------------------------------------------------------\u001b[0m",
      "\u001b[1;31mOperationalError\u001b[0m                          Traceback (most recent call last)",
      "Cell \u001b[1;32mIn[20], line 5\u001b[0m\n\u001b[0;32m      2\u001b[0m target \u001b[39m=\u001b[39m \u001b[39m'\u001b[39m\u001b[39mAAPL\u001b[39m\u001b[39m'\u001b[39m\n\u001b[0;32m      4\u001b[0m \u001b[39m# Plot the training and test sets\u001b[39;00m\n\u001b[1;32m----> 5\u001b[0m cursor\u001b[39m.\u001b[39;49mexecute(\u001b[39mf\u001b[39;49m\u001b[39m\"\u001b[39;49m\u001b[39mSELECT date, \u001b[39;49m\u001b[39m{\u001b[39;49;00mtarget\u001b[39m}\u001b[39;49;00m\u001b[39m FROM stocks WHERE date BETWEEN \u001b[39;49m\u001b[39m'\u001b[39;49m\u001b[39m{\u001b[39;49;00mtrain_start_date\u001b[39m}\u001b[39;49;00m\u001b[39m'\u001b[39;49m\u001b[39m AND \u001b[39;49m\u001b[39m'\u001b[39;49m\u001b[39m{\u001b[39;49;00mtrain_end_date\u001b[39m}\u001b[39;49;00m\u001b[39m'\u001b[39;49m\u001b[39m\"\u001b[39;49m)\n\u001b[0;32m      6\u001b[0m train_data \u001b[39m=\u001b[39m cursor\u001b[39m.\u001b[39mfetchall()\n\u001b[0;32m      7\u001b[0m train_data \u001b[39m=\u001b[39m np\u001b[39m.\u001b[39marray(train_data)\n",
      "\u001b[1;31mOperationalError\u001b[0m: no such column: AAPL"
     ]
    }
   ],
   "source": [
    "# Define the target stock to plot\n",
    "target = 'AAPL'\n",
    "\n",
    "# Plot the training and test sets\n",
    "cursor.execute(f\"SELECT date, {target} FROM stocks WHERE date BETWEEN '{train_start_date}' AND '{train_end_date}'\")\n",
    "train_data = cursor.fetchall()\n",
    "train_data = np.array(train_data)\n",
    "\n",
    "cursor.execute(f\"SELECT date, {target} FROM stocks WHERE date >= '{test_start_date}'\")\n",
    "test_data = cursor.fetchall()\n",
    "test_data = np.array(test_data)\n",
    "\n",
    "plt.figure(figsize=(16,4))\n",
    "plt.plot(train_data[:,0], train_data[:,1], label=f'Training set (Before {train_end_date})')\n",
    "plt.plot(test_data[:,0], test_data[:,1], label=f'Test set ({test_start_date} and beyond)')\n",
    "plt.legend()\n",
    "plt.title(f'{target} stock price')\n",
    "plt.show()"
   ]
  },
  {
   "cell_type": "code",
   "execution_count": 12,
   "metadata": {},
   "outputs": [
    {
     "ename": "NameError",
     "evalue": "name 'stock' is not defined",
     "output_type": "error",
     "traceback": [
      "\u001b[1;31m---------------------------------------------------------------------------\u001b[0m",
      "\u001b[1;31mNameError\u001b[0m                                 Traceback (most recent call last)",
      "Cell \u001b[1;32mIn[12], line 8\u001b[0m\n\u001b[0;32m      6\u001b[0m \u001b[39m# Plot the stock price for the specified company\u001b[39;00m\n\u001b[0;32m      7\u001b[0m plt\u001b[39m.\u001b[39mfigure(figsize\u001b[39m=\u001b[39m(\u001b[39m16\u001b[39m,\u001b[39m4\u001b[39m))\n\u001b[1;32m----> 8\u001b[0m plt\u001b[39m.\u001b[39mplot(stock[target][train_start_date:train_end_date], label\u001b[39m=\u001b[39m\u001b[39mf\u001b[39m\u001b[39m'\u001b[39m\u001b[39mTraining set (Before \u001b[39m\u001b[39m{\u001b[39;00mtrain_end_date\u001b[39m}\u001b[39;00m\u001b[39m)\u001b[39m\u001b[39m'\u001b[39m)\n\u001b[0;32m      9\u001b[0m plt\u001b[39m.\u001b[39mplot(stock[target][test_start_date:], label\u001b[39m=\u001b[39m\u001b[39mf\u001b[39m\u001b[39m'\u001b[39m\u001b[39mTest set (\u001b[39m\u001b[39m{\u001b[39;00mtest_start_date\u001b[39m}\u001b[39;00m\u001b[39m and beyond)\u001b[39m\u001b[39m'\u001b[39m)\n\u001b[0;32m     10\u001b[0m plt\u001b[39m.\u001b[39mlegend()\n",
      "\u001b[1;31mNameError\u001b[0m: name 'stock' is not defined"
     ]
    },
    {
     "data": {
      "text/plain": [
       "<Figure size 1600x400 with 0 Axes>"
      ]
     },
     "metadata": {},
     "output_type": "display_data"
    }
   ],
   "source": [
    "import matplotlib.pyplot as plt\n",
    "\n",
    "# Define the start and end dates of the test set\n",
    "test_start_date = '2023-03-01'\n",
    "\n",
    "# Plot the stock price for the specified company\n",
    "plt.figure(figsize=(16,4))\n",
    "plt.plot(stock[target][train_start_date:train_end_date], label=f'Training set (Before {train_end_date})')\n",
    "plt.plot(stock[target][test_start_date:], label=f'Test set ({test_start_date} and beyond)')\n",
    "plt.legend()\n",
    "plt.title(f'{symbol_to_fetch} stock price')\n",
    "plt.show()\n"
   ]
  },
  {
   "cell_type": "code",
   "execution_count": 8,
   "metadata": {},
   "outputs": [
    {
     "ename": "NameError",
     "evalue": "name 'stock' is not defined",
     "output_type": "error",
     "traceback": [
      "\u001b[1;31m---------------------------------------------------------------------------\u001b[0m",
      "\u001b[1;31mNameError\u001b[0m                                 Traceback (most recent call last)",
      "Cell \u001b[1;32mIn[8], line 1\u001b[0m\n\u001b[1;32m----> 1\u001b[0m stock[target][train_start_date:train_end_date]\u001b[39m.\u001b[39mplot(figsize\u001b[39m=\u001b[39m(\u001b[39m16\u001b[39m,\u001b[39m4\u001b[39m),legend\u001b[39m=\u001b[39m\u001b[39mTrue\u001b[39;00m)\n\u001b[0;32m      2\u001b[0m stock[target][test_start_date:]\u001b[39m.\u001b[39mplot(figsize\u001b[39m=\u001b[39m(\u001b[39m16\u001b[39m,\u001b[39m4\u001b[39m),legend\u001b[39m=\u001b[39m\u001b[39mTrue\u001b[39;00m)\n\u001b[0;32m      3\u001b[0m plt\u001b[39m.\u001b[39mlegend([\u001b[39mf\u001b[39m\u001b[39m'\u001b[39m\u001b[39mTraining set (Before \u001b[39m\u001b[39m{\u001b[39;00mtrain_end_date\u001b[39m}\u001b[39;00m\u001b[39m)\u001b[39m\u001b[39m'\u001b[39m,\u001b[39mf\u001b[39m\u001b[39m'\u001b[39m\u001b[39mTest set (\u001b[39m\u001b[39m{\u001b[39;00mtest_start_date\u001b[39m}\u001b[39;00m\u001b[39m and beyond)\u001b[39m\u001b[39m'\u001b[39m])\n",
      "\u001b[1;31mNameError\u001b[0m: name 'stock' is not defined"
     ]
    }
   ],
   "source": [
    "stock[target][train_start_date:train_end_date].plot(figsize=(16,4),legend=True)\n",
    "stock[target][test_start_date:].plot(figsize=(16,4),legend=True)\n",
    "plt.legend([f'Training set (Before {train_end_date})',f'Test set ({test_start_date} and beyond)'])\n",
    "plt.title(f'{symbol_to_fetch} stock price')\n",
    "plt.show()"
   ]
  },
  {
   "cell_type": "code",
   "execution_count": 47,
   "metadata": {},
   "outputs": [],
   "source": [
    "# Scaling the training set - I've tried it without scaling and results are very poor.\n",
    "sc = MinMaxScaler(feature_range=(0,1))\n",
    "training_set_scaled = sc.fit_transform(training_set)"
   ]
  },
  {
   "cell_type": "code",
   "execution_count": 48,
   "metadata": {},
   "outputs": [
    {
     "name": "stdout",
     "output_type": "stream",
     "text": [
      "[0.02081694 0.02129949 0.02116839 0.02163454 0.02205882 0.02182757\n",
      " 0.02200966 0.02212438] 0.022086137740871134\n",
      "[0.02129949 0.02116839 0.02163454 0.02205882 0.02182757 0.02200966\n",
      " 0.02212438 0.02208614] 0.02213894367386736\n"
     ]
    }
   ],
   "source": [
    "timesteps = 8\n",
    "# First, we create data sets where each sample has with 8 timesteps and 1 output\n",
    "# So for each element of training set, we have 8 previous training set elements \n",
    "x_train = []\n",
    "y_train = []\n",
    "for i in range(timesteps,training_set.shape[0]):\n",
    "    x_train.append(training_set_scaled[i-timesteps:i,0])\n",
    "    y_train.append(training_set_scaled[i,0])\n",
    "x_train, y_train = np.array(x_train), np.array(y_train)\n",
    "\n",
    "print(x_train[0], y_train[0])\n",
    "print(x_train[1], y_train[1])\n",
    "\n",
    "# Notice how the first y_train value becomes the last X_train value for the next sample"
   ]
  },
  {
   "cell_type": "code",
   "execution_count": 49,
   "metadata": {},
   "outputs": [
    {
     "name": "stdout",
     "output_type": "stream",
     "text": [
      "(19453, 8) (19453,)\n",
      "(19453, 8, 1) (19453,)\n"
     ]
    }
   ],
   "source": [
    "print(x_train.shape, y_train.shape)\n",
    "x_train = x_train.reshape((x_train.shape[0], x_train.shape[1], 1))\n",
    "print(x_train.shape, y_train.shape)"
   ]
  },
  {
   "cell_type": "code",
   "execution_count": 50,
   "metadata": {},
   "outputs": [
    {
     "name": "stdout",
     "output_type": "stream",
     "text": [
      "(19453, 8, 1) (19453,)\n"
     ]
    }
   ],
   "source": [
    "print(x_train.shape, y_train.shape)\n",
    "# Interestingly - randomly arranging the samples works well, since we are using validation_split = 0.2, (rather then validation_data = )\n",
    "# It is worth looking into whether using a K-fold would work better - if so would not use random permutation.\n",
    "idx = np.random.permutation(len(x_train))\n",
    "x_train = x_train[idx]\n",
    "y_train = y_train[idx]"
   ]
  },
  {
   "attachments": {},
   "cell_type": "markdown",
   "metadata": {},
   "source": [
    "# Build the Model"
   ]
  },
  {
   "cell_type": "code",
   "execution_count": 51,
   "metadata": {},
   "outputs": [],
   "source": [
    "def transformer_encoder(inputs, head_size, num_heads, ff_dim, dropout=0):\n",
    "    \n",
    "    # Normalization and Attention\n",
    "    # \"EMBEDDING LAYER\"\n",
    "    x = layers.LayerNormalization(epsilon=1e-6)(inputs)\n",
    "    \n",
    "    # \"ATTENTION LAYER\"\n",
    "    x = layers.MultiHeadAttention(\n",
    "        key_dim=head_size, num_heads=num_heads, dropout=dropout\n",
    "    )(x, x)\n",
    "    x = layers.Dropout(dropout)(x)\n",
    "    res = x + inputs\n",
    "    \n",
    "    # FEED FORWARD Part - you can stick anything here or just delete the whole section - it will still work. \n",
    "    x = layers.LayerNormalization(epsilon=1e-6)(res)\n",
    "    x = layers.Conv1D(filters=ff_dim, kernel_size=1, activation = \"relu\")(x)\n",
    "    x = layers.Dropout(dropout)(x)\n",
    "    x = layers.Conv1D(filters=inputs.shape[-1], kernel_size=1)(x)\n",
    "    return x + res"
   ]
  },
  {
   "cell_type": "code",
   "execution_count": 52,
   "metadata": {},
   "outputs": [],
   "source": [
    "def build_model(\n",
    "    input_shape,\n",
    "    head_size,\n",
    "    num_heads,\n",
    "    ff_dim,\n",
    "    num_transformer_blocks,\n",
    "    mlp_units,\n",
    "    dropout=0,\n",
    "    mlp_dropout=0,\n",
    "):\n",
    "    inputs = keras.Input(shape=input_shape)\n",
    "    x = inputs\n",
    "    \n",
    "    for _ in range(num_transformer_blocks):  # This is what stacks our transformer blocks\n",
    "        x = transformer_encoder(x, head_size, num_heads, ff_dim, dropout)\n",
    "\n",
    "    x = layers.GlobalAveragePooling1D(data_format=\"channels_first\")(x)\n",
    "    for dim in mlp_units:\n",
    "        x = layers.Dense(dim, activation=\"elu\")(x)\n",
    "        x = layers.Dropout(mlp_dropout)(x)\n",
    "    outputs = layers.Dense(1, activation=\"linear\")(x) #this is a pass-through\n",
    "    return keras.Model(inputs, outputs)"
   ]
  },
  {
   "cell_type": "code",
   "execution_count": 53,
   "metadata": {},
   "outputs": [],
   "source": [
    "def lr_scheduler(epoch, lr, warmup_epochs=30, decay_epochs=100, initial_lr=1e-6, base_lr=1e-3, min_lr=5e-5):\n",
    "    if epoch <= warmup_epochs:\n",
    "        pct = epoch / warmup_epochs\n",
    "        return ((base_lr - initial_lr) * pct) + initial_lr\n",
    "\n",
    "    if epoch > warmup_epochs and epoch < warmup_epochs+decay_epochs:\n",
    "        pct = 1 - ((epoch - warmup_epochs) / decay_epochs)\n",
    "        return ((base_lr - min_lr) * pct) + min_lr\n",
    "\n",
    "    return min_lr\n",
    "\n",
    "# This learning rate scheduler is also from Mr. Theodoros Ntakouris' articla at https://towardsdatascience.com/the-time-series-transformer-2a521a0efad3"
   ]
  },
  {
   "cell_type": "code",
   "execution_count": 54,
   "metadata": {},
   "outputs": [],
   "source": [
    "callbacks = [\n",
    "            keras.callbacks.EarlyStopping(patience=10, restore_best_weights=True),\n",
    "            keras.callbacks.LearningRateScheduler(lr_scheduler)\n",
    "            ]"
   ]
  },
  {
   "cell_type": "code",
   "execution_count": 55,
   "metadata": {},
   "outputs": [
    {
     "name": "stdout",
     "output_type": "stream",
     "text": [
      "(8, 1)\n"
     ]
    }
   ],
   "source": [
    "input_shape = x_train.shape[1:]\n",
    "print(input_shape)"
   ]
  },
  {
   "cell_type": "code",
   "execution_count": 56,
   "metadata": {},
   "outputs": [
    {
     "name": "stdout",
     "output_type": "stream",
     "text": [
      "Epoch 1/100\n",
      "779/779 [==============================] - 75s 83ms/step - loss: 0.0026 - mean_squared_error: 0.0026 - val_loss: 0.0013 - val_mean_squared_error: 0.0013 - lr: 1.0000e-06\n",
      "Epoch 2/100\n",
      "779/779 [==============================] - 67s 85ms/step - loss: 0.0011 - mean_squared_error: 0.0011 - val_loss: 4.5820e-04 - val_mean_squared_error: 4.5820e-04 - lr: 3.4300e-05\n",
      "Epoch 3/100\n",
      "779/779 [==============================] - 65s 84ms/step - loss: 8.7801e-04 - mean_squared_error: 8.7801e-04 - val_loss: 4.1882e-04 - val_mean_squared_error: 4.1882e-04 - lr: 6.7600e-05\n",
      "Epoch 4/100\n",
      "779/779 [==============================] - 64s 82ms/step - loss: 6.7744e-04 - mean_squared_error: 6.7744e-04 - val_loss: 1.6148e-04 - val_mean_squared_error: 1.6148e-04 - lr: 1.0090e-04\n",
      "Epoch 5/100\n",
      "779/779 [==============================] - 65s 83ms/step - loss: 5.3672e-04 - mean_squared_error: 5.3672e-04 - val_loss: 1.3380e-04 - val_mean_squared_error: 1.3380e-04 - lr: 1.3420e-04\n",
      "Epoch 6/100\n",
      "779/779 [==============================] - 63s 80ms/step - loss: 5.7676e-04 - mean_squared_error: 5.7676e-04 - val_loss: 9.3489e-05 - val_mean_squared_error: 9.3489e-05 - lr: 1.6750e-04\n",
      "Epoch 7/100\n",
      "779/779 [==============================] - 63s 81ms/step - loss: 4.1552e-04 - mean_squared_error: 4.1552e-04 - val_loss: 1.3807e-04 - val_mean_squared_error: 1.3807e-04 - lr: 2.0080e-04\n",
      "Epoch 8/100\n",
      "779/779 [==============================] - 591s 760ms/step - loss: 4.6581e-04 - mean_squared_error: 4.6581e-04 - val_loss: 9.9284e-05 - val_mean_squared_error: 9.9284e-05 - lr: 2.3410e-04\n",
      "Epoch 9/100\n",
      "779/779 [==============================] - 64s 82ms/step - loss: 3.3954e-04 - mean_squared_error: 3.3954e-04 - val_loss: 6.6306e-05 - val_mean_squared_error: 6.6306e-05 - lr: 2.6740e-04\n",
      "Epoch 10/100\n",
      "779/779 [==============================] - 63s 80ms/step - loss: 3.7067e-04 - mean_squared_error: 3.7067e-04 - val_loss: 9.0362e-05 - val_mean_squared_error: 9.0362e-05 - lr: 3.0070e-04\n",
      "Epoch 11/100\n",
      "779/779 [==============================] - 63s 81ms/step - loss: 3.8041e-04 - mean_squared_error: 3.8041e-04 - val_loss: 1.8617e-04 - val_mean_squared_error: 1.8617e-04 - lr: 3.3400e-04\n",
      "Epoch 12/100\n",
      "779/779 [==============================] - 63s 82ms/step - loss: 3.3333e-04 - mean_squared_error: 3.3333e-04 - val_loss: 5.3414e-05 - val_mean_squared_error: 5.3414e-05 - lr: 3.6730e-04\n",
      "Epoch 13/100\n",
      "779/779 [==============================] - 63s 82ms/step - loss: 3.0505e-04 - mean_squared_error: 3.0505e-04 - val_loss: 7.0619e-05 - val_mean_squared_error: 7.0619e-05 - lr: 4.0060e-04\n",
      "Epoch 14/100\n",
      "779/779 [==============================] - 68s 87ms/step - loss: 2.7340e-04 - mean_squared_error: 2.7340e-04 - val_loss: 5.1767e-05 - val_mean_squared_error: 5.1767e-05 - lr: 4.3390e-04\n",
      "Epoch 15/100\n",
      "779/779 [==============================] - 66s 85ms/step - loss: 3.2260e-04 - mean_squared_error: 3.2260e-04 - val_loss: 5.8847e-05 - val_mean_squared_error: 5.8847e-05 - lr: 4.6720e-04\n",
      "Epoch 16/100\n",
      "779/779 [==============================] - 68s 87ms/step - loss: 2.7023e-04 - mean_squared_error: 2.7023e-04 - val_loss: 8.7772e-05 - val_mean_squared_error: 8.7772e-05 - lr: 5.0050e-04\n",
      "Epoch 17/100\n",
      "779/779 [==============================] - 67s 86ms/step - loss: 2.8660e-04 - mean_squared_error: 2.8660e-04 - val_loss: 5.4584e-05 - val_mean_squared_error: 5.4584e-05 - lr: 5.3380e-04\n",
      "Epoch 18/100\n",
      "779/779 [==============================] - 68s 87ms/step - loss: 3.0822e-04 - mean_squared_error: 3.0822e-04 - val_loss: 7.8580e-05 - val_mean_squared_error: 7.8580e-05 - lr: 5.6710e-04\n",
      "Epoch 19/100\n",
      "779/779 [==============================] - 66s 85ms/step - loss: 2.8179e-04 - mean_squared_error: 2.8179e-04 - val_loss: 6.2680e-05 - val_mean_squared_error: 6.2680e-05 - lr: 6.0040e-04\n",
      "Epoch 20/100\n",
      "779/779 [==============================] - 64s 82ms/step - loss: 2.4818e-04 - mean_squared_error: 2.4818e-04 - val_loss: 9.1110e-04 - val_mean_squared_error: 9.1110e-04 - lr: 6.3370e-04\n",
      "Epoch 21/100\n",
      "779/779 [==============================] - 62s 79ms/step - loss: 2.8303e-04 - mean_squared_error: 2.8303e-04 - val_loss: 5.6157e-05 - val_mean_squared_error: 5.6157e-05 - lr: 6.6700e-04\n",
      "Epoch 22/100\n",
      "779/779 [==============================] - 64s 82ms/step - loss: 2.9032e-04 - mean_squared_error: 2.9032e-04 - val_loss: 5.9169e-05 - val_mean_squared_error: 5.9169e-05 - lr: 7.0030e-04\n",
      "Epoch 23/100\n",
      "779/779 [==============================] - 626s 805ms/step - loss: 2.3382e-04 - mean_squared_error: 2.3382e-04 - val_loss: 7.0371e-05 - val_mean_squared_error: 7.0371e-05 - lr: 7.3360e-04\n",
      "Epoch 24/100\n",
      "779/779 [==============================] - 72s 92ms/step - loss: 2.6579e-04 - mean_squared_error: 2.6579e-04 - val_loss: 9.2260e-05 - val_mean_squared_error: 9.2260e-05 - lr: 7.6690e-04\n"
     ]
    }
   ],
   "source": [
    "model = build_model(\n",
    "    input_shape,\n",
    "    head_size=46, # Embedding size for attention\n",
    "    num_heads=60, # Number of attention heads\n",
    "    ff_dim=55, # Hidden layer size in feed forward network inside transformer\n",
    "    num_transformer_blocks=5,\n",
    "    mlp_units=[256],\n",
    "    mlp_dropout=0.4,\n",
    "    dropout=0.14,\n",
    ")\n",
    "\n",
    "model.compile(\n",
    "    loss=\"mean_squared_error\",\n",
    "    optimizer=keras.optimizers.Adam(learning_rate=1e-4),\n",
    "    metrics=[\"mean_squared_error\"],\n",
    ")\n",
    "#model.summary()\n",
    "\n",
    "\n",
    "history = model.fit(\n",
    "    x_train,\n",
    "    y_train,\n",
    "    validation_split=0.2,\n",
    "    epochs=100,\n",
    "    batch_size=20,\n",
    "    callbacks=callbacks,\n",
    ")"
   ]
  },
  {
   "attachments": {},
   "cell_type": "markdown",
   "metadata": {},
   "source": [
    "# Evaluate Model"
   ]
  },
  {
   "cell_type": "code",
   "execution_count": 57,
   "metadata": {},
   "outputs": [
    {
     "name": "stderr",
     "output_type": "stream",
     "text": [
      "C:\\Users\\nicol\\AppData\\Local\\Temp\\ipykernel_2460\\2928164322.py:11: VisibleDeprecationWarning: Creating an ndarray from ragged nested sequences (which is a list-or-tuple of lists-or-tuples-or ndarrays with different lengths or shapes) is deprecated. If you meant to do this, you must specify 'dtype=object' when creating the ndarray.\n",
      "  X_test = np.array(X_test)\n"
     ]
    },
    {
     "ename": "IndexError",
     "evalue": "tuple index out of range",
     "output_type": "error",
     "traceback": [
      "\u001b[1;31m---------------------------------------------------------------------------\u001b[0m",
      "\u001b[1;31mIndexError\u001b[0m                                Traceback (most recent call last)",
      "Cell \u001b[1;32mIn[57], line 12\u001b[0m\n\u001b[0;32m     10\u001b[0m     X_test\u001b[39m.\u001b[39mappend(inputs[i\u001b[39m-\u001b[39mtimesteps:i,\u001b[39m0\u001b[39m])\n\u001b[0;32m     11\u001b[0m X_test \u001b[39m=\u001b[39m np\u001b[39m.\u001b[39marray(X_test)\n\u001b[1;32m---> 12\u001b[0m X_test \u001b[39m=\u001b[39m np\u001b[39m.\u001b[39mreshape(X_test, (X_test\u001b[39m.\u001b[39mshape[\u001b[39m0\u001b[39m],X_test\u001b[39m.\u001b[39;49mshape[\u001b[39m1\u001b[39;49m],\u001b[39m1\u001b[39m))\n\u001b[0;32m     13\u001b[0m predicted_stock_price \u001b[39m=\u001b[39m model\u001b[39m.\u001b[39mpredict(X_test)\n\u001b[0;32m     14\u001b[0m predicted_stock_price \u001b[39m=\u001b[39m sc\u001b[39m.\u001b[39minverse_transform(predicted_stock_price)\n",
      "\u001b[1;31mIndexError\u001b[0m: tuple index out of range"
     ]
    }
   ],
   "source": [
    "# First we have to frontload the test data before the inital values of our test_set\n",
    "\n",
    "dataset_total = pd.concat((original_stock[target][:train_end_date],original_stock[target][test_start_date:]),axis=0)\n",
    "inputs = dataset_total[len(dataset_total)-len(test_set) - timesteps:].values\n",
    "inputs = inputs.reshape(-1,1)\n",
    "inputs  = sc.fit_transform(inputs)\n",
    "\n",
    "X_test = []\n",
    "for i in range(timesteps,test_set.shape[0] + timesteps):\n",
    "    X_test.append(inputs[i-timesteps:i,0])\n",
    "X_test = np.array(X_test)\n",
    "X_test = np.reshape(X_test, (X_test.shape[0],X_test.shape[1],1))\n",
    "predicted_stock_price = model.predict(X_test)\n",
    "predicted_stock_price = sc.inverse_transform(predicted_stock_price)\n",
    "\n",
    "\n",
    "print(test_set[-3],test_set[-2], test_set[-1])\n",
    "shifted_test_set = shift(test_set, 1) #The shift function is defined early in the notebook\n",
    "print(shifted_test_set[-3],shifted_test_set[-2], shifted_test_set[-1])\n",
    "\n",
    "print(predicted_stock_price[-1])\n",
    "prediction_error = test_set - predicted_stock_price # This is the error on the same day\n",
    "#Before we can calculate the predicted return we have to shift the test_set to the day before so we use the shifted_test_set\n",
    "predicted_return = (shifted_test_set - predicted_stock_price) / shifted_test_set\n",
    "\n",
    "plt.plot(history.history['loss'])\n",
    "plt.title('model loss')\n",
    "plt.ylabel('loss')\n",
    "plt.xlabel('epoch')\n",
    "plt.legend(['loss'], loc='upper left')\n",
    "plt.show()\n",
    "\n",
    "plot_predictions(test_set,predicted_stock_price,original_symbol)\n",
    "return_rmse(test_set,predicted_stock_price)\n",
    "\n",
    "plot_return_predictions(test_set_return,predicted_return,original_symbol)\n",
    "return_rmse(test_set_return[1:], predicted_return[1:])"
   ]
  }
 ],
 "metadata": {
  "kernelspec": {
   "display_name": "Python 3",
   "language": "python",
   "name": "python3"
  },
  "language_info": {
   "codemirror_mode": {
    "name": "ipython",
    "version": 3
   },
   "file_extension": ".py",
   "mimetype": "text/x-python",
   "name": "python",
   "nbconvert_exporter": "python",
   "pygments_lexer": "ipython3",
   "version": "3.10.11"
  },
  "orig_nbformat": 4
 },
 "nbformat": 4,
 "nbformat_minor": 2
}
